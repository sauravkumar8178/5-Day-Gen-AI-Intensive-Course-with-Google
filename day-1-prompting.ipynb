{
 "cells": [
  {
   "cell_type": "markdown",
   "id": "e469d5f0",
   "metadata": {
    "id": "jkxRSYjzA1oX",
    "papermill": {
     "duration": 0.01062,
     "end_time": "2024-11-20T14:31:21.363871",
     "exception": false,
     "start_time": "2024-11-20T14:31:21.353251",
     "status": "completed"
    },
    "tags": []
   },
   "source": [
    "##### Copyright 2024 Google LLC."
   ]
  },
  {
   "cell_type": "code",
   "execution_count": 1,
   "id": "c842cd39",
   "metadata": {
    "cellView": "form",
    "execution": {
     "iopub.execute_input": "2024-11-20T14:31:21.382969Z",
     "iopub.status.busy": "2024-11-20T14:31:21.382638Z",
     "iopub.status.idle": "2024-11-20T14:31:21.387365Z",
     "shell.execute_reply": "2024-11-20T14:31:21.386592Z"
    },
    "id": "5u5OZ2ShA3BA",
    "jupyter": {
     "source_hidden": true
    },
    "papermill": {
     "duration": 0.016493,
     "end_time": "2024-11-20T14:31:21.388981",
     "exception": false,
     "start_time": "2024-11-20T14:31:21.372488",
     "status": "completed"
    },
    "tags": []
   },
   "outputs": [],
   "source": [
    "# @title Licensed under the Apache License, Version 2.0 (the \"License\");\n",
    "# you may not use this file except in compliance with the License.\n",
    "# You may obtain a copy of the License at\n",
    "#\n",
    "# https://www.apache.org/licenses/LICENSE-2.0\n",
    "#\n",
    "# Unless required by applicable law or agreed to in writing, software\n",
    "# distributed under the License is distributed on an \"AS IS\" BASIS,\n",
    "# WITHOUT WARRANTIES OR CONDITIONS OF ANY KIND, either express or implied.\n",
    "# See the License for the specific language governing permissions and\n",
    "# limitations under the License."
   ]
  },
  {
   "cell_type": "markdown",
   "id": "5fe302d3",
   "metadata": {
    "id": "csNPnkuCobmG",
    "papermill": {
     "duration": 0.008425,
     "end_time": "2024-11-20T14:31:21.406003",
     "exception": false,
     "start_time": "2024-11-20T14:31:21.397578",
     "status": "completed"
    },
    "tags": []
   },
   "source": [
    "# Day 1 - Prompting\n",
    "\n",
    "Welcome to the Kaggle 5-day Generative AI course!\n",
    "\n",
    "This notebook will show you how to get started with the Gemini API and walk you through some of the example prompts and techniques that you can also read about in the Prompting whitepaper. You don't need to read the whitepaper to use this notebook, but the papers will give you some theoretical context and background to complement this interactive notebook.\n",
    "\n",
    "\n",
    "## Before you begin\n",
    "\n",
    "In this notebook, you'll start exploring prompts and prompt parameters using the Python SDK and AI Studio. For some inspiration, you might enjoy exploring some apps that have been built using the Gemini family of models. Here are a few that we like, and we think you will too.\n",
    "\n",
    "* [TextFX](https://textfx.withgoogle.com/) is a suite of AI-powered tools for rappers, made in collaboration with Lupe Fiasco,\n",
    "* [SQL Talk](https://sql-talk-r5gdynozbq-uc.a.run.app/) shows how you can talk directly to a database using the Gemini API,\n",
    "* [NotebookLM](https://notebooklm.google/) uses Gemini models to build your own personal AI research assistant.\n",
    "\n",
    "\n",
    "## For help\n",
    "\n",
    "**Common issues are covered in the [FAQ and troubleshooting guide](https://www.kaggle.com/code/markishere/day-0-troubleshooting-and-faqs).**\n",
    "\n",
    "### A note on the Gemini API and Vertex AI\n",
    "\n",
    "In the whitepapers, most of the example code uses the Enterprise [Vertex AI platform](https://cloud.google.com/vertex-ai). In contrast, this notebook, along with the others in this series, will use the [Gemini Developer API](https://ai.google.dev/gemini-api/) and [AI Studio](https://aistudio.google.com/).\n",
    "\n",
    "Both APIs provide access to the Gemini family of models, and the code to interact with the models is very similar. Vertex provides a world-class platform for enterprises, governments and advanced users that need powerful features like data governance, ML ops and deep Google Cloud integration.\n",
    "\n",
    "AI Studio is free to use and only requires a compatible Google account to log in and get started. It is deeply integrated with the Gemini API, which comes with a generous [free tier](https://ai.google.dev/pricing) that you can use to run the code in these exercises.\n",
    "\n",
    "If you are already set up with Google Cloud, you can check out the [Enterprise Gemini API](https://cloud.google.com/vertex-ai/generative-ai/docs/model-reference/inference) through Vertex AI, and run the samples directly from the supplied whitepapers."
   ]
  },
  {
   "cell_type": "markdown",
   "id": "a0a88d86",
   "metadata": {
    "id": "f00ea7c99e44",
    "papermill": {
     "duration": 0.008362,
     "end_time": "2024-11-20T14:31:21.422813",
     "exception": false,
     "start_time": "2024-11-20T14:31:21.414451",
     "status": "completed"
    },
    "tags": []
   },
   "source": [
    "## Get started with Kaggle notebooks\n",
    "\n",
    "If this is your first time using a Kaggle notebook, welcome! You can read about how to use Kaggle notebooks [in the docs](https://www.kaggle.com/docs/notebooks).\n",
    "\n",
    "First, you will need to phone verify your account at kaggle.com/settings.\n",
    "\n",
    "![](https://storage.googleapis.com/kaggle-media/Images/5dgai_0.png)"
   ]
  },
  {
   "cell_type": "markdown",
   "id": "ba0a2401",
   "metadata": {
    "papermill": {
     "duration": 0.008428,
     "end_time": "2024-11-20T14:31:21.439857",
     "exception": false,
     "start_time": "2024-11-20T14:31:21.431429",
     "status": "completed"
    },
    "tags": []
   },
   "source": [
    "To run this notebook, as well as the others in this course, you will need to make a copy, or fork, the notebook. Look for the `Copy and Edit` button in the top-right, and **click it** to make an editable, private copy of the notebook. It should look like this one:\n",
    "\n",
    "![Copy and Edit button](https://storage.googleapis.com/kaggle-media/Images/5gdai_sc_1.png)\n",
    "\n",
    "Your copy will now have a ▶️ **Run** button next to each code cell that you can press to execute that cell. These notebooks are expected to be run in order from top-to-bottom, but you are encouraged to add new cells, run your own code and explore. If you get stuck, you can try the `Factory reset` option in the `Run` menu, or head back to the original notebook and make a fresh copy.\n",
    "\n",
    "![Run cell button](https://storage.googleapis.com/kaggle-media/Images/5gdai_sc_2.png)\n",
    "\n",
    "### Problems?\n",
    "\n",
    "If you have any problems, head over to the [Kaggle Discord](https://discord.com/invite/kaggle), find the [`#5dgai-q-and-a` channel](https://discord.com/channels/1101210829807956100/1303438695143178251) and ask for help."
   ]
  },
  {
   "cell_type": "markdown",
   "id": "c9fb2afd",
   "metadata": {
    "id": "ExkOXcPxtTb5",
    "papermill": {
     "duration": 0.008115,
     "end_time": "2024-11-20T14:31:21.456285",
     "exception": false,
     "start_time": "2024-11-20T14:31:21.448170",
     "status": "completed"
    },
    "tags": []
   },
   "source": [
    "## Get started with the Gemini API\n",
    "\n",
    "All of the exercises in this notebook will use the [Gemini API](https://ai.google.dev/gemini-api/) by way of the [Python SDK](https://pypi.org/project/google-generativeai/). Each of these prompts can be accessed directly in [Google AI Studio](https://aistudio.google.com/) too, so if you would rather use a web interface and skip the code for this activity, look for the <img src=\"https://ai.google.dev/site-assets/images/marketing/home/icon-ais.png\" style=\"height: 24px\" height=24/> AI Studio link on each prompt."
   ]
  },
  {
   "cell_type": "markdown",
   "id": "c3533543",
   "metadata": {
    "papermill": {
     "duration": 0.008048,
     "end_time": "2024-11-20T14:31:21.472576",
     "exception": false,
     "start_time": "2024-11-20T14:31:21.464528",
     "status": "completed"
    },
    "tags": []
   },
   "source": [
    "Next, you will need to add your API key to your Kaggle Notebook as a Kaggle User Secret.\n",
    "\n",
    "![](https://storage.googleapis.com/kaggle-media/Images/5dgai_1.png)\n",
    "![](https://storage.googleapis.com/kaggle-media/Images/5dgai_2.png)\n",
    "![](https://storage.googleapis.com/kaggle-media/Images/5dgai_3.png)\n",
    "![](https://storage.googleapis.com/kaggle-media/Images/5dgai_4.png)"
   ]
  },
  {
   "cell_type": "markdown",
   "id": "9d6ad8ca",
   "metadata": {
    "id": "UAjUV3BsvFXQ",
    "papermill": {
     "duration": 0.008082,
     "end_time": "2024-11-20T14:31:21.488908",
     "exception": false,
     "start_time": "2024-11-20T14:31:21.480826",
     "status": "completed"
    },
    "tags": []
   },
   "source": [
    "### Install the SDK"
   ]
  },
  {
   "cell_type": "code",
   "execution_count": 2,
   "id": "d2093194",
   "metadata": {
    "execution": {
     "iopub.execute_input": "2024-11-20T14:31:21.506646Z",
     "iopub.status.busy": "2024-11-20T14:31:21.506305Z",
     "iopub.status.idle": "2024-11-20T14:31:42.047605Z",
     "shell.execute_reply": "2024-11-20T14:31:42.046547Z"
    },
    "id": "NzwzJFU9LqkJ",
    "papermill": {
     "duration": 20.552338,
     "end_time": "2024-11-20T14:31:42.049407",
     "exception": false,
     "start_time": "2024-11-20T14:31:21.497069",
     "status": "completed"
    },
    "tags": []
   },
   "outputs": [
    {
     "name": "stdout",
     "output_type": "stream",
     "text": [
      "Note: you may need to restart the kernel to use updated packages.\n"
     ]
    }
   ],
   "source": [
    "%pip install -U -q \"google-generativeai>=0.8.3\""
   ]
  },
  {
   "cell_type": "markdown",
   "id": "74935b1b",
   "metadata": {
    "papermill": {
     "duration": 0.008294,
     "end_time": "2024-11-20T14:31:42.066901",
     "exception": false,
     "start_time": "2024-11-20T14:31:42.058607",
     "status": "completed"
    },
    "tags": []
   },
   "source": [
    "You do not need to restart the kernel."
   ]
  },
  {
   "cell_type": "code",
   "execution_count": 3,
   "id": "bafa3bb3",
   "metadata": {
    "execution": {
     "iopub.execute_input": "2024-11-20T14:31:42.085164Z",
     "iopub.status.busy": "2024-11-20T14:31:42.084848Z",
     "iopub.status.idle": "2024-11-20T14:31:42.946233Z",
     "shell.execute_reply": "2024-11-20T14:31:42.945581Z"
    },
    "id": "5DwxYIRavMST",
    "papermill": {
     "duration": 0.873106,
     "end_time": "2024-11-20T14:31:42.948349",
     "exception": false,
     "start_time": "2024-11-20T14:31:42.075243",
     "status": "completed"
    },
    "tags": []
   },
   "outputs": [],
   "source": [
    "import google.generativeai as genai\n",
    "from IPython.display import HTML, Markdown, display"
   ]
  },
  {
   "cell_type": "markdown",
   "id": "8872a5d4",
   "metadata": {
    "id": "DNEt2BCOvOJ1",
    "papermill": {
     "duration": 0.00827,
     "end_time": "2024-11-20T14:31:42.966112",
     "exception": false,
     "start_time": "2024-11-20T14:31:42.957842",
     "status": "completed"
    },
    "tags": []
   },
   "source": [
    "### Set up your API key\n",
    "\n",
    "To run the following cell, your API key must be stored it in a [Kaggle secret](https://www.kaggle.com/discussions/product-feedback/114053) named `GOOGLE_API_KEY`.\n",
    "\n",
    "If you don't already have an API key, you can grab one from [AI Studio](https://aistudio.google.com/app/apikey). You can find [detailed instructions in the docs](https://ai.google.dev/gemini-api/docs/api-key).\n",
    "\n",
    "To make the key available through Kaggle secrets, choose `Secrets` from the `Add-ons` menu and follow the instructions to add your key or enable it for this notebook."
   ]
  },
  {
   "cell_type": "code",
   "execution_count": 4,
   "id": "6a8f8933",
   "metadata": {
    "execution": {
     "iopub.execute_input": "2024-11-20T14:31:42.984755Z",
     "iopub.status.busy": "2024-11-20T14:31:42.984090Z",
     "iopub.status.idle": "2024-11-20T14:31:43.117065Z",
     "shell.execute_reply": "2024-11-20T14:31:43.116361Z"
    },
    "id": "SHl0bkPCvayd",
    "papermill": {
     "duration": 0.144411,
     "end_time": "2024-11-20T14:31:43.118978",
     "exception": false,
     "start_time": "2024-11-20T14:31:42.974567",
     "status": "completed"
    },
    "tags": []
   },
   "outputs": [],
   "source": [
    "from kaggle_secrets import UserSecretsClient\n",
    "\n",
    "GOOGLE_API_KEY = UserSecretsClient().get_secret(\"GOOGLE_API_KEY\")\n",
    "genai.configure(api_key=GOOGLE_API_KEY)"
   ]
  },
  {
   "cell_type": "markdown",
   "id": "f2d1c1c6",
   "metadata": {
    "id": "4e720472fd86",
    "papermill": {
     "duration": 0.008391,
     "end_time": "2024-11-20T14:31:43.136489",
     "exception": false,
     "start_time": "2024-11-20T14:31:43.128098",
     "status": "completed"
    },
    "tags": []
   },
   "source": [
    "If you received an error response along the lines of `No user secrets exist for kernel id ...`, then you need to add your API key via `Add-ons`, `Secrets` **and** enable it.\n",
    "\n",
    "![Screenshot of the checkbox to enable GOOGLE_API_KEY secret](https://storage.googleapis.com/kaggle-media/Images/5gdai_sc_3.png)"
   ]
  },
  {
   "cell_type": "markdown",
   "id": "55c264c0",
   "metadata": {
    "id": "H_YXCYIKvyZJ",
    "papermill": {
     "duration": 0.008061,
     "end_time": "2024-11-20T14:31:43.152827",
     "exception": false,
     "start_time": "2024-11-20T14:31:43.144766",
     "status": "completed"
    },
    "tags": []
   },
   "source": [
    "### Run your first prompt\n",
    "\n",
    "In this step, you will test that your API key is set up correctly by making a request. The `gemini-1.5-flash` model has been selected here."
   ]
  },
  {
   "cell_type": "code",
   "execution_count": 5,
   "id": "1c7a2049",
   "metadata": {
    "execution": {
     "iopub.execute_input": "2024-11-20T14:31:43.170686Z",
     "iopub.status.busy": "2024-11-20T14:31:43.170373Z",
     "iopub.status.idle": "2024-11-20T14:31:45.865053Z",
     "shell.execute_reply": "2024-11-20T14:31:45.864099Z"
    },
    "id": "BV1o0PmcvyJF",
    "papermill": {
     "duration": 2.705808,
     "end_time": "2024-11-20T14:31:45.866922",
     "exception": false,
     "start_time": "2024-11-20T14:31:43.161114",
     "status": "completed"
    },
    "tags": []
   },
   "outputs": [
    {
     "name": "stdout",
     "output_type": "stream",
     "text": [
      "Imagine you have a really smart puppy.  You teach it tricks, like \"sit\" and \"fetch.\"  At first, the puppy doesn't understand, but you show it again and again, rewarding it when it gets it right.  Slowly, the puppy learns!\n",
      "\n",
      "Artificial Intelligence, or AI, is like that smart puppy, but instead of learning tricks, it learns from information.  We give the computer lots and lots of information – like pictures of cats and dogs, or sentences in different languages.  The computer uses this information to learn patterns and rules, just like your puppy learns from your training.\n",
      "\n",
      "Then, you can ask the AI things, like \"Is this a cat or a dog?\" and it will use what it learned to give you an answer.  Sometimes it's right, sometimes it's wrong, just like your puppy might sometimes get a trick wrong!\n",
      "\n",
      "AI is used in lots of cool things, like:\n",
      "\n",
      "* **Video games:**  Making the characters seem smart and react to what you do.\n",
      "* **Smartphones:**  Helping your phone understand what you're saying when you ask it a question.\n",
      "* **Self-driving cars:**  Helping cars see the road and other cars and drive safely.\n",
      "\n",
      "It's still learning and getting better all the time, just like your puppy will get better at tricks with more practice!\n",
      "\n"
     ]
    }
   ],
   "source": [
    "flash = genai.GenerativeModel('gemini-1.5-flash')\n",
    "response = flash.generate_content(\"Explain AI to me like I'm a kid.\")\n",
    "print(response.text)"
   ]
  },
  {
   "cell_type": "markdown",
   "id": "44a13d85",
   "metadata": {
    "id": "f60ed9d8ae41",
    "papermill": {
     "duration": 0.008804,
     "end_time": "2024-11-20T14:31:45.884799",
     "exception": false,
     "start_time": "2024-11-20T14:31:45.875995",
     "status": "completed"
    },
    "tags": []
   },
   "source": [
    "The response often comes back in markdown format, which you can render directly in this notebook."
   ]
  },
  {
   "cell_type": "code",
   "execution_count": 6,
   "id": "b7de4084",
   "metadata": {
    "execution": {
     "iopub.execute_input": "2024-11-20T14:31:45.904585Z",
     "iopub.status.busy": "2024-11-20T14:31:45.903783Z",
     "iopub.status.idle": "2024-11-20T14:31:45.910259Z",
     "shell.execute_reply": "2024-11-20T14:31:45.909518Z"
    },
    "id": "c933e5e460a5",
    "papermill": {
     "duration": 0.018321,
     "end_time": "2024-11-20T14:31:45.912048",
     "exception": false,
     "start_time": "2024-11-20T14:31:45.893727",
     "status": "completed"
    },
    "tags": []
   },
   "outputs": [
    {
     "data": {
      "text/markdown": [
       "Imagine you have a really smart puppy.  You teach it tricks, like \"sit\" and \"fetch.\"  At first, the puppy doesn't understand, but you show it again and again, rewarding it when it gets it right.  Slowly, the puppy learns!\n",
       "\n",
       "Artificial Intelligence, or AI, is like that smart puppy, but instead of learning tricks, it learns from information.  We give the computer lots and lots of information – like pictures of cats and dogs, or sentences in different languages.  The computer uses this information to learn patterns and rules, just like your puppy learns from your training.\n",
       "\n",
       "Then, you can ask the AI things, like \"Is this a cat or a dog?\" and it will use what it learned to give you an answer.  Sometimes it's right, sometimes it's wrong, just like your puppy might sometimes get a trick wrong!\n",
       "\n",
       "AI is used in lots of cool things, like:\n",
       "\n",
       "* **Video games:**  Making the characters seem smart and react to what you do.\n",
       "* **Smartphones:**  Helping your phone understand what you're saying when you ask it a question.\n",
       "* **Self-driving cars:**  Helping cars see the road and other cars and drive safely.\n",
       "\n",
       "It's still learning and getting better all the time, just like your puppy will get better at tricks with more practice!\n"
      ],
      "text/plain": [
       "<IPython.core.display.Markdown object>"
      ]
     },
     "execution_count": 6,
     "metadata": {},
     "output_type": "execute_result"
    }
   ],
   "source": [
    "Markdown(response.text)"
   ]
  },
  {
   "cell_type": "markdown",
   "id": "27d32a37",
   "metadata": {
    "id": "byx0pT9ZMW2Q",
    "papermill": {
     "duration": 0.008788,
     "end_time": "2024-11-20T14:31:45.929932",
     "exception": false,
     "start_time": "2024-11-20T14:31:45.921144",
     "status": "completed"
    },
    "tags": []
   },
   "source": [
    "### Start a chat\n",
    "\n",
    "The previous example uses a single-turn, text-in/text-out structure, but you can also set up a multi-turn chat structure too."
   ]
  },
  {
   "cell_type": "code",
   "execution_count": 7,
   "id": "e7c798ce",
   "metadata": {
    "execution": {
     "iopub.execute_input": "2024-11-20T14:31:45.948698Z",
     "iopub.status.busy": "2024-11-20T14:31:45.947977Z",
     "iopub.status.idle": "2024-11-20T14:31:46.475957Z",
     "shell.execute_reply": "2024-11-20T14:31:46.474981Z"
    },
    "id": "lV_S5ZL5MidD",
    "papermill": {
     "duration": 0.539247,
     "end_time": "2024-11-20T14:31:46.477763",
     "exception": false,
     "start_time": "2024-11-20T14:31:45.938516",
     "status": "completed"
    },
    "tags": []
   },
   "outputs": [
    {
     "name": "stdout",
     "output_type": "stream",
     "text": [
      "It's nice to meet you, Zlork!  How can I help you today?\n",
      "\n"
     ]
    }
   ],
   "source": [
    "chat = flash.start_chat(history=[])\n",
    "response = chat.send_message('Hello! My name is Zlork.')\n",
    "print(response.text)"
   ]
  },
  {
   "cell_type": "code",
   "execution_count": 8,
   "id": "232fc60f",
   "metadata": {
    "execution": {
     "iopub.execute_input": "2024-11-20T14:31:46.496639Z",
     "iopub.status.busy": "2024-11-20T14:31:46.496339Z",
     "iopub.status.idle": "2024-11-20T14:31:47.328426Z",
     "shell.execute_reply": "2024-11-20T14:31:47.327358Z"
    },
    "id": "7b0372c3c64a",
    "papermill": {
     "duration": 0.844157,
     "end_time": "2024-11-20T14:31:47.330955",
     "exception": false,
     "start_time": "2024-11-20T14:31:46.486798",
     "status": "completed"
    },
    "tags": []
   },
   "outputs": [
    {
     "name": "stdout",
     "output_type": "stream",
     "text": [
      "Many dinosaurs likely had feathers!  While we often picture scaly reptiles,  evidence suggests that many theropod dinosaurs (the group that includes *Tyrannosaurus rex*, but also smaller, bird-like dinosaurs) had feathers, ranging from simple filaments to complex, flight-capable plumage. This discovery significantly changed our understanding of dinosaur evolution and their relationship to modern birds.\n",
      "\n"
     ]
    }
   ],
   "source": [
    "response = chat.send_message('Can you tell something interesting about dinosaurs?')\n",
    "print(response.text)"
   ]
  },
  {
   "cell_type": "code",
   "execution_count": 9,
   "id": "58269a94",
   "metadata": {
    "execution": {
     "iopub.execute_input": "2024-11-20T14:31:47.352856Z",
     "iopub.status.busy": "2024-11-20T14:31:47.352162Z",
     "iopub.status.idle": "2024-11-20T14:31:47.990297Z",
     "shell.execute_reply": "2024-11-20T14:31:47.989476Z"
    },
    "id": "d3f9591392a7",
    "papermill": {
     "duration": 0.650624,
     "end_time": "2024-11-20T14:31:47.992286",
     "exception": false,
     "start_time": "2024-11-20T14:31:47.341662",
     "status": "completed"
    },
    "tags": []
   },
   "outputs": [
    {
     "name": "stdout",
     "output_type": "stream",
     "text": [
      "Yes, your name is Zlork.\n",
      "\n"
     ]
    }
   ],
   "source": [
    "# While you have the `chat` object around, the conversation state\n",
    "# persists. Confirm that by asking if it knows my name.\n",
    "response = chat.send_message('Do you remember what my name is?')\n",
    "print(response.text)"
   ]
  },
  {
   "cell_type": "markdown",
   "id": "a3f4c601",
   "metadata": {
    "id": "2KAjpr1200sW",
    "papermill": {
     "duration": 0.008593,
     "end_time": "2024-11-20T14:31:48.010463",
     "exception": false,
     "start_time": "2024-11-20T14:31:48.001870",
     "status": "completed"
    },
    "tags": []
   },
   "source": [
    "### Choose a model\n",
    "\n",
    "The Gemini API provides access to a number of models from the Gemini model family. Read about the available models and their capabilities on the [model overview page](https://ai.google.dev/gemini-api/docs/models/gemini).\n",
    "\n",
    "In this step you'll use the API to list all of the available models."
   ]
  },
  {
   "cell_type": "code",
   "execution_count": 10,
   "id": "783332be",
   "metadata": {
    "execution": {
     "iopub.execute_input": "2024-11-20T14:31:48.029158Z",
     "iopub.status.busy": "2024-11-20T14:31:48.028863Z",
     "iopub.status.idle": "2024-11-20T14:31:48.156600Z",
     "shell.execute_reply": "2024-11-20T14:31:48.155462Z"
    },
    "id": "uUUZa2uq2jDm",
    "papermill": {
     "duration": 0.139471,
     "end_time": "2024-11-20T14:31:48.158683",
     "exception": false,
     "start_time": "2024-11-20T14:31:48.019212",
     "status": "completed"
    },
    "tags": []
   },
   "outputs": [
    {
     "name": "stdout",
     "output_type": "stream",
     "text": [
      "models/chat-bison-001\n",
      "models/text-bison-001\n",
      "models/embedding-gecko-001\n",
      "models/gemini-1.0-pro-latest\n",
      "models/gemini-1.0-pro\n",
      "models/gemini-pro\n",
      "models/gemini-1.0-pro-001\n",
      "models/gemini-1.0-pro-vision-latest\n",
      "models/gemini-pro-vision\n",
      "models/gemini-1.5-pro-latest\n",
      "models/gemini-1.5-pro-001\n",
      "models/gemini-1.5-pro-002\n",
      "models/gemini-1.5-pro\n",
      "models/gemini-1.5-pro-exp-0801\n",
      "models/gemini-1.5-pro-exp-0827\n",
      "models/gemini-1.5-flash-latest\n",
      "models/gemini-1.5-flash-001\n",
      "models/gemini-1.5-flash-001-tuning\n",
      "models/gemini-1.5-flash\n",
      "models/gemini-1.5-flash-exp-0827\n",
      "models/gemini-1.5-flash-002\n",
      "models/gemini-1.5-flash-8b\n",
      "models/gemini-1.5-flash-8b-001\n",
      "models/gemini-1.5-flash-8b-latest\n",
      "models/gemini-1.5-flash-8b-exp-0827\n",
      "models/gemini-1.5-flash-8b-exp-0924\n",
      "models/learnlm-1.5-pro-experimental\n",
      "models/gemini-exp-1114\n",
      "models/embedding-001\n",
      "models/text-embedding-004\n",
      "models/aqa\n"
     ]
    }
   ],
   "source": [
    "for model in genai.list_models():\n",
    "  print(model.name)"
   ]
  },
  {
   "cell_type": "markdown",
   "id": "0e8f2dd5",
   "metadata": {
    "id": "rN49kSI54R1v",
    "papermill": {
     "duration": 0.008772,
     "end_time": "2024-11-20T14:31:48.176885",
     "exception": false,
     "start_time": "2024-11-20T14:31:48.168113",
     "status": "completed"
    },
    "tags": []
   },
   "source": [
    "The [`models.list`](https://ai.google.dev/api/models#method:-models.list) response also returns additional information about the model's capabilities, like the token limits and supported parameters."
   ]
  },
  {
   "cell_type": "code",
   "execution_count": 11,
   "id": "b87c3e79",
   "metadata": {
    "execution": {
     "iopub.execute_input": "2024-11-20T14:31:48.196111Z",
     "iopub.status.busy": "2024-11-20T14:31:48.195711Z",
     "iopub.status.idle": "2024-11-20T14:31:48.330585Z",
     "shell.execute_reply": "2024-11-20T14:31:48.329707Z"
    },
    "id": "k7JJ1K6j4Rl8",
    "papermill": {
     "duration": 0.146597,
     "end_time": "2024-11-20T14:31:48.332305",
     "exception": false,
     "start_time": "2024-11-20T14:31:48.185708",
     "status": "completed"
    },
    "tags": []
   },
   "outputs": [
    {
     "name": "stdout",
     "output_type": "stream",
     "text": [
      "Model(name='models/gemini-1.5-flash',\n",
      "      base_model_id='',\n",
      "      version='001',\n",
      "      display_name='Gemini 1.5 Flash',\n",
      "      description=('Alias that points to the most recent stable version of Gemini 1.5 Flash, our '\n",
      "                   'fast and versatile multimodal model for scaling across diverse tasks.'),\n",
      "      input_token_limit=1000000,\n",
      "      output_token_limit=8192,\n",
      "      supported_generation_methods=['generateContent', 'countTokens'],\n",
      "      temperature=1.0,\n",
      "      max_temperature=2.0,\n",
      "      top_p=0.95,\n",
      "      top_k=40)\n"
     ]
    }
   ],
   "source": [
    "for model in genai.list_models():\n",
    "  if model.name == 'models/gemini-1.5-flash':\n",
    "    print(model)\n",
    "    break"
   ]
  },
  {
   "cell_type": "markdown",
   "id": "88b31260",
   "metadata": {
    "id": "5rU_UBlZdooM",
    "papermill": {
     "duration": 0.008838,
     "end_time": "2024-11-20T14:31:48.350423",
     "exception": false,
     "start_time": "2024-11-20T14:31:48.341585",
     "status": "completed"
    },
    "tags": []
   },
   "source": [
    "## Explore generation parameters\n",
    "\n"
   ]
  },
  {
   "cell_type": "markdown",
   "id": "a051b53e",
   "metadata": {
    "id": "G7NfEizeipbW",
    "papermill": {
     "duration": 0.008622,
     "end_time": "2024-11-20T14:31:48.367996",
     "exception": false,
     "start_time": "2024-11-20T14:31:48.359374",
     "status": "completed"
    },
    "tags": []
   },
   "source": [
    "### Output length\n",
    "\n",
    "When generating text with an LLM, the output length affects cost and performance. Generating more tokens increases computation, leading to higher energy consumption, latency, and cost.\n",
    "\n",
    "To stop the model from generating tokens past a limit, you can specify the `max_output_tokens` parameter when using the Gemini API. Specifying this parameter does not influence the generation of the output tokens, so the output will not become more stylistically or textually succinct, but it will stop generating tokens once the specified length is reached. Prompt engineering may be required to generate a more complete output for your given limit."
   ]
  },
  {
   "cell_type": "code",
   "execution_count": 12,
   "id": "cb4c7d6a",
   "metadata": {
    "execution": {
     "iopub.execute_input": "2024-11-20T14:31:48.387686Z",
     "iopub.status.busy": "2024-11-20T14:31:48.387067Z",
     "iopub.status.idle": "2024-11-20T14:31:50.099149Z",
     "shell.execute_reply": "2024-11-20T14:31:50.098328Z"
    },
    "id": "qVf23JsIi9ma",
    "papermill": {
     "duration": 1.724201,
     "end_time": "2024-11-20T14:31:50.101098",
     "exception": false,
     "start_time": "2024-11-20T14:31:48.376897",
     "status": "completed"
    },
    "tags": []
   },
   "outputs": [
    {
     "name": "stdout",
     "output_type": "stream",
     "text": [
      "## The Enduring Significance of Olives in Modern Society\n",
      "\n",
      "The olive, a seemingly unassuming fruit, holds a position of profound importance in modern society that extends far beyond its culinary applications.  From its historical significance as a symbol of peace and prosperity to its crucial role in the global economy and its contribution to health and wellness, the olive and its derivative products – olive oil, olives for consumption, and olive pomace – have woven themselves into the fabric of our world in myriad ways.  Understanding the multifaceted significance of the olive allows us to appreciate its enduring legacy and its continued relevance in the 21st century.\n",
      "\n",
      "Historically, the olive tree (Olea europaea) has been deeply intertwined with human civilization.  Its cultivation in the Mediterranean basin stretches back millennia, with archaeological evidence suggesting its domestication as far back as 6000 years ago.  Ancient civilizations, including the Greeks and Romans, revered the olive tree, associating it with peace, fertility, wisdom, and victory\n"
     ]
    }
   ],
   "source": [
    "short_model = genai.GenerativeModel(\n",
    "    'gemini-1.5-flash',\n",
    "    generation_config=genai.GenerationConfig(max_output_tokens=200))\n",
    "\n",
    "response = short_model.generate_content('Write a 1000 word essay on the importance of olives in modern society.')\n",
    "print(response.text)"
   ]
  },
  {
   "cell_type": "code",
   "execution_count": 13,
   "id": "1d5db6d2",
   "metadata": {
    "execution": {
     "iopub.execute_input": "2024-11-20T14:31:50.121128Z",
     "iopub.status.busy": "2024-11-20T14:31:50.120856Z",
     "iopub.status.idle": "2024-11-20T14:31:51.181838Z",
     "shell.execute_reply": "2024-11-20T14:31:51.180896Z"
    },
    "id": "W-3kR2F5kdMR",
    "papermill": {
     "duration": 1.072999,
     "end_time": "2024-11-20T14:31:51.183749",
     "exception": false,
     "start_time": "2024-11-20T14:31:50.110750",
     "status": "completed"
    },
    "tags": []
   },
   "outputs": [
    {
     "name": "stdout",
     "output_type": "stream",
     "text": [
      "From ancient groves, a bounty small,\n",
      "The olive's gift, embraced by all.\n",
      "In vibrant oils, a healthy gleam,\n",
      "A culinary, vibrant dream.\n",
      "\n",
      "On tables spread, a salty bite,\n",
      "A simple pleasure, pure delight.\n",
      "From tapenade to lotions mild,\n",
      "The olive's grace, a world beguiled.\n",
      "\n",
      "A symbol strong, of sun-kissed lands,\n",
      "In modern hands, its virtue stands.\n",
      "A timeless treat, a vibrant hue,\n",
      "The olive's worth, forever true.\n",
      "\n"
     ]
    }
   ],
   "source": [
    "response = short_model.generate_content('Write a short poem on the importance of olives in modern society.')\n",
    "print(response.text)"
   ]
  },
  {
   "cell_type": "markdown",
   "id": "7de431b9",
   "metadata": {
    "id": "3ZhDSLB6lqqB",
    "papermill": {
     "duration": 0.009791,
     "end_time": "2024-11-20T14:31:51.203124",
     "exception": false,
     "start_time": "2024-11-20T14:31:51.193333",
     "status": "completed"
    },
    "tags": []
   },
   "source": [
    "Explore with your own prompts. Try a prompt with a restrictive output limit and then adjust the prompt to work within that limit."
   ]
  },
  {
   "cell_type": "markdown",
   "id": "986f918b",
   "metadata": {
    "id": "alx-WaAvir_9",
    "papermill": {
     "duration": 0.008925,
     "end_time": "2024-11-20T14:31:51.221004",
     "exception": false,
     "start_time": "2024-11-20T14:31:51.212079",
     "status": "completed"
    },
    "tags": []
   },
   "source": [
    "### Temperature\n",
    "\n",
    "Temperature controls the degree of randomness in token selection. Higher temperatures result in a higher number of candidate tokens from which the next output token is selected, and can produce more diverse results, while lower temperatures have the opposite effect, such that a temperature of 0 results in greedy decoding, selecting the most probable token at each step.\n",
    "\n",
    "Temperature doesn't provide any guarantees of randomness, but it can be used to \"nudge\" the output somewhat.\n",
    "\n",
    "**Note that if you see a 429 Resource Exhausted error here, you may be able to edit the words in the prompt slightly to progress.**"
   ]
  },
  {
   "cell_type": "code",
   "execution_count": 14,
   "id": "1707654e",
   "metadata": {
    "execution": {
     "iopub.execute_input": "2024-11-20T14:31:51.242204Z",
     "iopub.status.busy": "2024-11-20T14:31:51.241586Z",
     "iopub.status.idle": "2024-11-20T14:31:53.371619Z",
     "shell.execute_reply": "2024-11-20T14:31:53.370596Z"
    },
    "id": "SHraGMzqnZqt",
    "papermill": {
     "duration": 2.143897,
     "end_time": "2024-11-20T14:31:53.373886",
     "exception": false,
     "start_time": "2024-11-20T14:31:51.229989",
     "status": "completed"
    },
    "tags": []
   },
   "outputs": [
    {
     "name": "stdout",
     "output_type": "stream",
     "text": [
      "Maroon\n",
      " -------------------------\n",
      "Maroon\n",
      " -------------------------\n",
      "Maroon\n",
      " -------------------------\n",
      "Maroon\n",
      " -------------------------\n",
      "Maroon\n",
      " -------------------------\n"
     ]
    }
   ],
   "source": [
    "from google.api_core import retry\n",
    "\n",
    "high_temp_model = genai.GenerativeModel(\n",
    "    'gemini-1.5-flash',\n",
    "    generation_config=genai.GenerationConfig(temperature=2.0))\n",
    "\n",
    "\n",
    "# When running lots of queries, it's a good practice to use a retry policy so your code\n",
    "# automatically retries when hitting Resource Exhausted (quota limit) errors.\n",
    "retry_policy = {\n",
    "    \"retry\": retry.Retry(predicate=retry.if_transient_error, initial=10, multiplier=1.5, timeout=300)\n",
    "}\n",
    "\n",
    "for _ in range(5):\n",
    "  response = high_temp_model.generate_content('Pick a random colour... (respond in a single word)',\n",
    "                                              request_options=retry_policy)\n",
    "  if response.parts:\n",
    "    print(response.text, '-' * 25)"
   ]
  },
  {
   "cell_type": "markdown",
   "id": "bd97e9f9",
   "metadata": {
    "id": "z3J4pCTuof7e",
    "papermill": {
     "duration": 0.009251,
     "end_time": "2024-11-20T14:31:53.392954",
     "exception": false,
     "start_time": "2024-11-20T14:31:53.383703",
     "status": "completed"
    },
    "tags": []
   },
   "source": [
    "Now try the same prompt with temperature set to zero. Note that the output is not completely deterministic, as other parameters affect token selection, but the results will tend to be more stable."
   ]
  },
  {
   "cell_type": "code",
   "execution_count": 15,
   "id": "35351335",
   "metadata": {
    "execution": {
     "iopub.execute_input": "2024-11-20T14:31:53.412414Z",
     "iopub.status.busy": "2024-11-20T14:31:53.412122Z",
     "iopub.status.idle": "2024-11-20T14:31:55.135439Z",
     "shell.execute_reply": "2024-11-20T14:31:55.134495Z"
    },
    "id": "clymkWv-PfUZ",
    "papermill": {
     "duration": 1.735243,
     "end_time": "2024-11-20T14:31:55.137325",
     "exception": false,
     "start_time": "2024-11-20T14:31:53.402082",
     "status": "completed"
    },
    "tags": []
   },
   "outputs": [
    {
     "name": "stdout",
     "output_type": "stream",
     "text": [
      "Maroon\n",
      " -------------------------\n",
      "Maroon\n",
      " -------------------------\n",
      "Maroon\n",
      " -------------------------\n",
      "Maroon\n",
      " -------------------------\n",
      "Maroon\n",
      " -------------------------\n"
     ]
    }
   ],
   "source": [
    "low_temp_model = genai.GenerativeModel(\n",
    "    'gemini-1.5-flash',\n",
    "    generation_config=genai.GenerationConfig(temperature=0.0))\n",
    "\n",
    "for _ in range(5):\n",
    "  response = low_temp_model.generate_content('Pick a random colour... (respond in a single word)',\n",
    "                                             request_options=retry_policy)\n",
    "  if response.parts:\n",
    "    print(response.text, '-' * 25)"
   ]
  },
  {
   "cell_type": "markdown",
   "id": "bf1cb885",
   "metadata": {
    "id": "St5nt3vzitsZ",
    "papermill": {
     "duration": 0.009648,
     "end_time": "2024-11-20T14:31:55.156752",
     "exception": false,
     "start_time": "2024-11-20T14:31:55.147104",
     "status": "completed"
    },
    "tags": []
   },
   "source": [
    "### Top-K and top-P\n",
    "\n",
    "Like temperature, top-K and top-P parameters are also used to control the diversity of the model's output.\n",
    "\n",
    "Top-K is a positive integer that defines the number of most probable tokens from which to select the output token. A top-K of 1 selects a single token, performing greedy decoding.\n",
    "\n",
    "Top-P defines the probability threshold that, once cumulatively exceeded, tokens stop being selected as candidates. A top-P of 0 is typically equivalent to greedy decoding, and a top-P of 1 typically selects every token in the model's vocabulary.\n",
    "\n",
    "When both are supplied, the Gemini API will filter top-K tokens first, then top-P and then finally sample from the candidate tokens using the supplied temperature.\n",
    "\n",
    "Run this example a number of times, change the settings and observe the change in output."
   ]
  },
  {
   "cell_type": "code",
   "execution_count": 16,
   "id": "21fc19b1",
   "metadata": {
    "execution": {
     "iopub.execute_input": "2024-11-20T14:31:55.177585Z",
     "iopub.status.busy": "2024-11-20T14:31:55.177232Z",
     "iopub.status.idle": "2024-11-20T14:32:00.781587Z",
     "shell.execute_reply": "2024-11-20T14:32:00.780708Z"
    },
    "id": "lPlzpEavUV8F",
    "papermill": {
     "duration": 5.61734,
     "end_time": "2024-11-20T14:32:00.783708",
     "exception": false,
     "start_time": "2024-11-20T14:31:55.166368",
     "status": "completed"
    },
    "tags": []
   },
   "outputs": [
    {
     "name": "stdout",
     "output_type": "stream",
     "text": [
      "Bartholomew, a ginger tabby with a penchant for mischief and an even greater love for salmon, was bored. The afternoon sun streamed through the window, painting stripes across his plush bed, but Bartholomew was restless. He yearned for something more exciting than chasing dust bunnies and batting at the curtains.\n",
      "\n",
      "His opportunity came in the form of a loose window latch. With a determined wiggle and a swift push, Bartholomew slipped out into the world. The backyard was a vast, emerald jungle, teeming with possibilities. He stalked a plump robin, its chest puffed out with indignation, before losing interest and dashing across the lawn, his tail a blur of orange.\n",
      "\n",
      "A scent, sharp and enticing, led him to a towering oak tree. He climbed with the agility of a seasoned mountain climber, his claws gripping the rough bark. From his perch, he saw a world he had never known - a sprawling neighborhood, a bustling street, and, most importantly, a bakery with a giant, steaming loaf of bread in the window.\n",
      "\n",
      "The bread beckoned, its aroma a siren song. Bartholomew descended the tree with a nimble grace and made his way toward the bakery, dodging startled pedestrians and leaping over flower beds. He reached the window, his whiskers twitching with anticipation, and then, disaster struck. A large, booming voice echoed from within.\n",
      "\n",
      "\"What in the world...?\" a woman exclaimed, peering at Bartholomew through the window. He froze, his green eyes wide with fear. He knew he had to escape, but the window was high, and the woman was approaching.\n",
      "\n",
      "Just then, a small, grey tabby emerged from the shadows. \"Don't worry,\" he purred, \"I'll help you.\" With a flick of his tail, the grey tabby nudged open a side door, and Bartholomew slipped through, his heart pounding.\n",
      "\n",
      "\"Thank you,\" Bartholomew whispered, \"but how did you know I was in trouble?\"\n",
      "\n",
      "The grey tabby chuckled. \"I'm Jasper,\" he said. \"I've been watching you. You look like quite the adventurer.\"\n",
      "\n",
      "Bartholomew, his initial fear fading, felt a surge of gratitude. Jasper was the most exciting cat he had ever met. \"I am an adventurer,\" he declared, his tail held high.\n",
      "\n",
      "Jasper, with a twinkle in his eye, led Bartholomew on an adventure of his own, exploring the hidden alleyways and rooftop gardens of the city. They chased pigeons, stole scraps from street vendors, and even learned to navigate the bustling subway system.\n",
      "\n",
      "As the sun began to set, casting long shadows across the city, Bartholomew knew it was time to return home. He thanked Jasper for the incredible adventure, promising to come back soon. \n",
      "\n",
      "He slipped through the window, the scent of salmon wafting from the kitchen, a warm and familiar comfort. The backyard seemed smaller, less exciting now, but Bartholomew's heart thrummed with a newfound sense of adventure. He wasn't just a cat who chased dust bunnies anymore; he was Bartholomew, the adventurer, and he couldn't wait for his next escapade. \n",
      "\n"
     ]
    }
   ],
   "source": [
    "model = genai.GenerativeModel(\n",
    "    'gemini-1.5-flash-001',\n",
    "    generation_config=genai.GenerationConfig(\n",
    "        # These are the default values for gemini-1.5-flash-001.\n",
    "        temperature=1.0,\n",
    "        top_k=64,\n",
    "        top_p=0.95,\n",
    "    ))\n",
    "\n",
    "story_prompt = \"You are a creative writer. Write a short story about a cat who goes on an adventure.\"\n",
    "response = model.generate_content(story_prompt, request_options=retry_policy)\n",
    "print(response.text)"
   ]
  },
  {
   "cell_type": "markdown",
   "id": "678ceca2",
   "metadata": {
    "id": "rMrYs1koY6DX",
    "papermill": {
     "duration": 0.009482,
     "end_time": "2024-11-20T14:32:00.803139",
     "exception": false,
     "start_time": "2024-11-20T14:32:00.793657",
     "status": "completed"
    },
    "tags": []
   },
   "source": [
    "## Prompting\n",
    "\n",
    "This section contains some prompts from the chapter for you to try out directly in the API. Try changing the text here to see how each prompt performs with different instructions, more examples, or any other changes you can think of."
   ]
  },
  {
   "cell_type": "markdown",
   "id": "0dc7ff9e",
   "metadata": {
    "id": "hhj_tQidZJP7",
    "papermill": {
     "duration": 0.009854,
     "end_time": "2024-11-20T14:32:00.822976",
     "exception": false,
     "start_time": "2024-11-20T14:32:00.813122",
     "status": "completed"
    },
    "tags": []
   },
   "source": [
    "### Zero-shot\n",
    "\n",
    "Zero-shot prompts are prompts that describe the request for the model directly.\n",
    "\n",
    "<table align=left>\n",
    "  <td>\n",
    "    <a target=\"_blank\" href=\"https://aistudio.google.com/prompts/1gzKKgDHwkAvexG5Up0LMtl1-6jKMKe4g\"><img src=\"https://ai.google.dev/site-assets/images/marketing/home/icon-ais.png\" style=\"height: 24px\" height=24/> Open in AI Studio</a>\n",
    "  </td>\n",
    "</table>"
   ]
  },
  {
   "cell_type": "code",
   "execution_count": 17,
   "id": "ec2e69ad",
   "metadata": {
    "execution": {
     "iopub.execute_input": "2024-11-20T14:32:00.844051Z",
     "iopub.status.busy": "2024-11-20T14:32:00.843375Z",
     "iopub.status.idle": "2024-11-20T14:32:01.164606Z",
     "shell.execute_reply": "2024-11-20T14:32:01.163754Z"
    },
    "id": "1_t-cwnDZzbH",
    "papermill": {
     "duration": 0.3337,
     "end_time": "2024-11-20T14:32:01.166339",
     "exception": false,
     "start_time": "2024-11-20T14:32:00.832639",
     "status": "completed"
    },
    "tags": []
   },
   "outputs": [
    {
     "name": "stdout",
     "output_type": "stream",
     "text": [
      "Sentiment: **POSITIVE**\n"
     ]
    }
   ],
   "source": [
    "model = genai.GenerativeModel(\n",
    "    'gemini-1.5-flash-001',\n",
    "    generation_config=genai.GenerationConfig(\n",
    "        temperature=0.1,\n",
    "        top_p=1,\n",
    "        max_output_tokens=5,\n",
    "    ))\n",
    "\n",
    "zero_shot_prompt = \"\"\"Classify movie reviews as POSITIVE, NEUTRAL or NEGATIVE.\n",
    "Review: \"Her\" is a disturbing study revealing the direction\n",
    "humanity is headed if AI is allowed to keep evolving,\n",
    "unchecked. I wish there were more movies like this masterpiece.\n",
    "Sentiment: \"\"\"\n",
    "\n",
    "response = model.generate_content(zero_shot_prompt, request_options=retry_policy)\n",
    "print(response.text)"
   ]
  },
  {
   "cell_type": "markdown",
   "id": "7f355b4f",
   "metadata": {
    "id": "3b5568bdeb11",
    "papermill": {
     "duration": 0.009739,
     "end_time": "2024-11-20T14:32:01.186084",
     "exception": false,
     "start_time": "2024-11-20T14:32:01.176345",
     "status": "completed"
    },
    "tags": []
   },
   "source": [
    "#### Enum mode\n",
    "\n",
    "The models are trained to generate text, and can sometimes produce more text than you may wish for. In the preceding example, the model will output the label, sometimes it can include a preceding \"Sentiment\" label, and without an output token limit, it may also add explanatory text afterwards.\n",
    "\n",
    "The Gemini API has an [Enum mode](https://github.com/google-gemini/cookbook/blob/main/quickstarts/Enum.ipynb) feature that allows you to constrain the output to a fixed set of values."
   ]
  },
  {
   "cell_type": "code",
   "execution_count": 18,
   "id": "b51f64e0",
   "metadata": {
    "execution": {
     "iopub.execute_input": "2024-11-20T14:32:01.206352Z",
     "iopub.status.busy": "2024-11-20T14:32:01.206022Z",
     "iopub.status.idle": "2024-11-20T14:32:45.013848Z",
     "shell.execute_reply": "2024-11-20T14:32:45.012904Z"
    },
    "id": "ad118a56c598",
    "papermill": {
     "duration": 43.829018,
     "end_time": "2024-11-20T14:32:45.024598",
     "exception": false,
     "start_time": "2024-11-20T14:32:01.195580",
     "status": "completed"
    },
    "tags": []
   },
   "outputs": [
    {
     "name": "stdout",
     "output_type": "stream",
     "text": [
      "positive\n"
     ]
    }
   ],
   "source": [
    "import enum\n",
    "\n",
    "class Sentiment(enum.Enum):\n",
    "    POSITIVE = \"positive\"\n",
    "    NEUTRAL = \"neutral\"\n",
    "    NEGATIVE = \"negative\"\n",
    "\n",
    "\n",
    "model = genai.GenerativeModel(\n",
    "    'gemini-1.5-flash-001',\n",
    "    generation_config=genai.GenerationConfig(\n",
    "        response_mime_type=\"text/x.enum\",\n",
    "        response_schema=Sentiment\n",
    "    ))\n",
    "\n",
    "response = model.generate_content(zero_shot_prompt, request_options=retry_policy)\n",
    "print(response.text)"
   ]
  },
  {
   "cell_type": "markdown",
   "id": "c7593c6c",
   "metadata": {
    "id": "0udiSwNbv45W",
    "papermill": {
     "duration": 0.009666,
     "end_time": "2024-11-20T14:32:45.043988",
     "exception": false,
     "start_time": "2024-11-20T14:32:45.034322",
     "status": "completed"
    },
    "tags": []
   },
   "source": [
    "### One-shot and few-shot\n",
    "\n",
    "Providing an example of the expected response is known as a \"one-shot\" prompt. When you provide multiple examples, it is a \"few-shot\" prompt.\n",
    "\n",
    "<table align=left>\n",
    "  <td>\n",
    "    <a target=\"_blank\" href=\"https://aistudio.google.com/prompts/1jjWkjUSoMXmLvMJ7IzADr_GxHPJVV2bg\"><img src=\"https://ai.google.dev/site-assets/images/marketing/home/icon-ais.png\" style=\"height: 24px\" height=24/> Open in AI Studio</a>\n",
    "  </td>\n",
    "</table>\n"
   ]
  },
  {
   "cell_type": "code",
   "execution_count": 19,
   "id": "a17a8934",
   "metadata": {
    "execution": {
     "iopub.execute_input": "2024-11-20T14:32:45.065391Z",
     "iopub.status.busy": "2024-11-20T14:32:45.064601Z",
     "iopub.status.idle": "2024-11-20T14:32:45.600137Z",
     "shell.execute_reply": "2024-11-20T14:32:45.599426Z"
    },
    "id": "hd4mVUukwOKZ",
    "papermill": {
     "duration": 0.548422,
     "end_time": "2024-11-20T14:32:45.602212",
     "exception": false,
     "start_time": "2024-11-20T14:32:45.053790",
     "status": "completed"
    },
    "tags": []
   },
   "outputs": [
    {
     "name": "stdout",
     "output_type": "stream",
     "text": [
      "```json\n",
      "{\n",
      "  \"size\": \"large\",\n",
      "  \"type\": \"normal\",\n",
      "  \"ingredients\": [\"cheese\", \"pineapple\"]\n",
      "}\n",
      "```\n",
      "\n"
     ]
    }
   ],
   "source": [
    "model = genai.GenerativeModel(\n",
    "    'gemini-1.5-flash-latest',\n",
    "    generation_config=genai.GenerationConfig(\n",
    "        temperature=0.1,\n",
    "        top_p=1,\n",
    "        max_output_tokens=250,\n",
    "    ))\n",
    "\n",
    "few_shot_prompt = \"\"\"Parse a customer's pizza order into valid JSON:\n",
    "\n",
    "EXAMPLE:\n",
    "I want a small pizza with cheese, tomato sauce, and pepperoni.\n",
    "JSON Response:\n",
    "```\n",
    "{\n",
    "\"size\": \"small\",\n",
    "\"type\": \"normal\",\n",
    "\"ingredients\": [\"cheese\", \"tomato sauce\", \"peperoni\"]\n",
    "}\n",
    "```\n",
    "\n",
    "EXAMPLE:\n",
    "Can I get a large pizza with tomato sauce, basil and mozzarella\n",
    "JSON Response:\n",
    "```\n",
    "{\n",
    "\"size\": \"large\",\n",
    "\"type\": \"normal\",\n",
    "\"ingredients\": [\"tomato sauce\", \"basil\", \"mozzarella\"]\n",
    "}\n",
    "\n",
    "ORDER:\n",
    "\"\"\"\n",
    "\n",
    "customer_order = \"Give me a large with cheese & pineapple\"\n",
    "\n",
    "\n",
    "response = model.generate_content([few_shot_prompt, customer_order], request_options=retry_policy)\n",
    "print(response.text)"
   ]
  },
  {
   "cell_type": "markdown",
   "id": "db096540",
   "metadata": {
    "id": "021293096f08",
    "papermill": {
     "duration": 0.009656,
     "end_time": "2024-11-20T14:32:45.621954",
     "exception": false,
     "start_time": "2024-11-20T14:32:45.612298",
     "status": "completed"
    },
    "tags": []
   },
   "source": [
    "#### JSON mode\n",
    "\n",
    "To provide control over the schema, and to ensure that you only receive JSON (with no other text or markdown), you can use the Gemini API's [JSON mode](https://github.com/google-gemini/cookbook/blob/main/quickstarts/JSON_mode.ipynb). This forces the model to constrain decoding, such that token selection is guided by the supplied schema."
   ]
  },
  {
   "cell_type": "code",
   "execution_count": 20,
   "id": "5c5fd4bb",
   "metadata": {
    "execution": {
     "iopub.execute_input": "2024-11-20T14:32:45.643158Z",
     "iopub.status.busy": "2024-11-20T14:32:45.642403Z",
     "iopub.status.idle": "2024-11-20T14:32:46.218939Z",
     "shell.execute_reply": "2024-11-20T14:32:46.218118Z"
    },
    "id": "50fbf0260912",
    "papermill": {
     "duration": 0.589124,
     "end_time": "2024-11-20T14:32:46.220796",
     "exception": false,
     "start_time": "2024-11-20T14:32:45.631672",
     "status": "completed"
    },
    "tags": []
   },
   "outputs": [
    {
     "name": "stdout",
     "output_type": "stream",
     "text": [
      "{\"ingredients\": [\"apple\", \"chocolate\"], \"size\": \"large\", \"type\": \"dessert pizza\"}\n",
      "\n"
     ]
    }
   ],
   "source": [
    "import typing_extensions as typing\n",
    "\n",
    "class PizzaOrder(typing.TypedDict):\n",
    "    size: str\n",
    "    ingredients: list[str]\n",
    "    type: str\n",
    "\n",
    "\n",
    "model = genai.GenerativeModel(\n",
    "    'gemini-1.5-flash-latest',\n",
    "    generation_config=genai.GenerationConfig(\n",
    "        temperature=0.1,\n",
    "        response_mime_type=\"application/json\",\n",
    "        response_schema=PizzaOrder,\n",
    "    ))\n",
    "\n",
    "response = model.generate_content(\"Can I have a large dessert pizza with apple and chocolate\")\n",
    "print(response.text)"
   ]
  },
  {
   "cell_type": "markdown",
   "id": "e0a3c535",
   "metadata": {
    "id": "4a93e338e57c",
    "papermill": {
     "duration": 0.009743,
     "end_time": "2024-11-20T14:32:46.240644",
     "exception": false,
     "start_time": "2024-11-20T14:32:46.230901",
     "status": "completed"
    },
    "tags": []
   },
   "source": [
    "### Chain of Thought (CoT)\n",
    "\n",
    "Direct prompting on LLMs can return answers quickly and (in terms of output token usage) efficiently, but they can be prone to hallucination. The answer may \"look\" correct (in terms of language and syntax) but is incorrect in terms of factuality and reasoning.\n",
    "\n",
    "Chain-of-Thought prompting is a technique where you instruct the model to output intermediate reasoning steps, and it typically gets better results, especially when combined with few-shot examples. It is worth noting that this technique doesn't completely eliminate hallucinations, and that it tends to cost more to run, due to the increased token count.\n",
    "\n",
    "As models like the Gemini family are trained to be \"chatty\" and provide reasoning steps, you can ask the model to be more direct in the prompt."
   ]
  },
  {
   "cell_type": "code",
   "execution_count": 21,
   "id": "95ac7be0",
   "metadata": {
    "execution": {
     "iopub.execute_input": "2024-11-20T14:32:46.261660Z",
     "iopub.status.busy": "2024-11-20T14:32:46.261338Z",
     "iopub.status.idle": "2024-11-20T14:32:46.580898Z",
     "shell.execute_reply": "2024-11-20T14:32:46.579889Z"
    },
    "id": "5715555db1c1",
    "papermill": {
     "duration": 0.332303,
     "end_time": "2024-11-20T14:32:46.582954",
     "exception": false,
     "start_time": "2024-11-20T14:32:46.250651",
     "status": "completed"
    },
    "tags": []
   },
   "outputs": [
    {
     "name": "stdout",
     "output_type": "stream",
     "text": [
      "47\n",
      "\n"
     ]
    }
   ],
   "source": [
    "prompt = \"\"\"When I was 4 years old, my partner was 3 times my age. Now, I\n",
    "am 20 years old. How old is my partner? Return the answer directly.\"\"\"\n",
    "\n",
    "model = genai.GenerativeModel('gemini-1.5-flash-latest')\n",
    "response = model.generate_content(prompt, request_options=retry_policy)\n",
    "\n",
    "print(response.text)"
   ]
  },
  {
   "cell_type": "markdown",
   "id": "08edb4a3",
   "metadata": {
    "id": "e12b19677bfd",
    "papermill": {
     "duration": 0.009985,
     "end_time": "2024-11-20T14:32:46.603172",
     "exception": false,
     "start_time": "2024-11-20T14:32:46.593187",
     "status": "completed"
    },
    "tags": []
   },
   "source": [
    "Now try the same approach, but indicate to the model that it should \"think step by step\"."
   ]
  },
  {
   "cell_type": "code",
   "execution_count": 22,
   "id": "b59e95f3",
   "metadata": {
    "execution": {
     "iopub.execute_input": "2024-11-20T14:32:46.625219Z",
     "iopub.status.busy": "2024-11-20T14:32:46.624923Z",
     "iopub.status.idle": "2024-11-20T14:32:48.128189Z",
     "shell.execute_reply": "2024-11-20T14:32:48.127367Z"
    },
    "id": "ffd7536a481f",
    "papermill": {
     "duration": 1.516465,
     "end_time": "2024-11-20T14:32:48.130121",
     "exception": false,
     "start_time": "2024-11-20T14:32:46.613656",
     "status": "completed"
    },
    "tags": []
   },
   "outputs": [
    {
     "name": "stdout",
     "output_type": "stream",
     "text": [
      "Here's how to solve this step-by-step:\n",
      "\n",
      "1. **Partner's age when you were 4:** When you were 4, your partner was 3 times your age, meaning they were 3 * 4 = 12 years old.\n",
      "\n",
      "2. **Age difference:** The age difference between you and your partner is 12 - 4 = 8 years.\n",
      "\n",
      "3. **Partner's current age:** Since you are now 20 years old, and the age difference remains constant, your partner is currently 20 + 8 = 28 years old.\n",
      "\n"
     ]
    }
   ],
   "source": [
    "prompt = \"\"\"When I was 4 years old, my partner was 3 times my age. Now,\n",
    "I am 20 years old. How old is my partner? Let's think step by step.\"\"\"\n",
    "\n",
    "response = model.generate_content(prompt, request_options=retry_policy)\n",
    "print(response.text)"
   ]
  },
  {
   "cell_type": "markdown",
   "id": "51cf3aba",
   "metadata": {
    "id": "oiLgBQJj0V53",
    "papermill": {
     "duration": 0.009726,
     "end_time": "2024-11-20T14:32:48.150192",
     "exception": false,
     "start_time": "2024-11-20T14:32:48.140466",
     "status": "completed"
    },
    "tags": []
   },
   "source": [
    "### ReAct: Reason and act\n",
    "\n",
    "In this example you will run a ReAct prompt directly in the Gemini API and perform the searching steps yourself. As this prompt follows a well-defined structure, there are frameworks available that wrap the prompt into easier-to-use APIs that make tool calls automatically, such as the LangChain example from the chapter.\n",
    "\n",
    "To try this out with the Wikipedia search engine, check out the [Searching Wikipedia with ReAct](https://github.com/google-gemini/cookbook/blob/main/examples/Search_Wikipedia_using_ReAct.ipynb) cookbook example.\n",
    "\n",
    "\n",
    "> Note: The prompt and in-context examples used here are from [https://github.com/ysymyth/ReAct](https://github.com/ysymyth/ReAct) which is published under a [MIT license](https://opensource.org/licenses/MIT), Copyright (c) 2023 Shunyu Yao.\n",
    "\n",
    "<table align=left>\n",
    "  <td>\n",
    "    <a target=\"_blank\" href=\"https://aistudio.google.com/prompts/18oo63Lwosd-bQ6Ay51uGogB3Wk3H8XMO\"><img src=\"https://ai.google.dev/site-assets/images/marketing/home/icon-ais.png\" style=\"height: 24px\" height=24/> Open in AI Studio</a>\n",
    "  </td>\n",
    "</table>\n"
   ]
  },
  {
   "cell_type": "code",
   "execution_count": 23,
   "id": "aad4866c",
   "metadata": {
    "execution": {
     "iopub.execute_input": "2024-11-20T14:32:48.171086Z",
     "iopub.status.busy": "2024-11-20T14:32:48.170777Z",
     "iopub.status.idle": "2024-11-20T14:32:48.176337Z",
     "shell.execute_reply": "2024-11-20T14:32:48.175516Z"
    },
    "id": "cBgyNJ5z0VSs",
    "papermill": {
     "duration": 0.018086,
     "end_time": "2024-11-20T14:32:48.178021",
     "exception": false,
     "start_time": "2024-11-20T14:32:48.159935",
     "status": "completed"
    },
    "tags": []
   },
   "outputs": [],
   "source": [
    "model_instructions = \"\"\"\n",
    "Solve a question answering task with interleaving Thought, Action, Observation steps. Thought can reason about the current situation,\n",
    "Observation is understanding relevant information from an Action's output and Action can be one of three types:\n",
    " (1) <search>entity</search>, which searches the exact entity on Wikipedia and returns the first paragraph if it exists. If not, it\n",
    "     will return some similar entities to search and you can try to search the information from those topics.\n",
    " (2) <lookup>keyword</lookup>, which returns the next sentence containing keyword in the current context. This only does exact matches,\n",
    "     so keep your searches short.\n",
    " (3) <finish>answer</finish>, which returns the answer and finishes the task.\n",
    "\"\"\"\n",
    "\n",
    "example1 = \"\"\"Question\n",
    "Musician and satirist Allie Goertz wrote a song about the \"The Simpsons\" character Milhouse, who Matt Groening named after who?\n",
    "\n",
    "Thought 1\n",
    "The question simplifies to \"The Simpsons\" character Milhouse is named after who. I only need to search Milhouse and find who it is named after.\n",
    "\n",
    "Action 1\n",
    "<search>Milhouse</search>\n",
    "\n",
    "Observation 1\n",
    "Milhouse Mussolini Van Houten is a recurring character in the Fox animated television series The Simpsons voiced by Pamela Hayden and created by Matt Groening.\n",
    "\n",
    "Thought 2\n",
    "The paragraph does not tell who Milhouse is named after, maybe I can look up \"named after\".\n",
    "\n",
    "Action 2\n",
    "<lookup>named after</lookup>\n",
    "\n",
    "Observation 2\n",
    "Milhouse was named after U.S. president Richard Nixon, whose middle name was Milhous.\n",
    "\n",
    "Thought 3\n",
    "Milhouse was named after U.S. president Richard Nixon, so the answer is Richard Nixon.\n",
    "\n",
    "Action 3\n",
    "<finish>Richard Nixon</finish>\n",
    "\"\"\"\n",
    "\n",
    "example2 = \"\"\"Question\n",
    "What is the elevation range for the area that the eastern sector of the Colorado orogeny extends into?\n",
    "\n",
    "Thought 1\n",
    "I need to search Colorado orogeny, find the area that the eastern sector of the Colorado orogeny extends into, then find the elevation range of the area.\n",
    "\n",
    "Action 1\n",
    "<search>Colorado orogeny</search>\n",
    "\n",
    "Observation 1\n",
    "The Colorado orogeny was an episode of mountain building (an orogeny) in Colorado and surrounding areas.\n",
    "\n",
    "Thought 2\n",
    "It does not mention the eastern sector. So I need to look up eastern sector.\n",
    "\n",
    "Action 2\n",
    "<lookup>eastern sector</lookup>\n",
    "\n",
    "Observation 2\n",
    "The eastern sector extends into the High Plains and is called the Central Plains orogeny.\n",
    "\n",
    "Thought 3\n",
    "The eastern sector of Colorado orogeny extends into the High Plains. So I need to search High Plains and find its elevation range.\n",
    "\n",
    "Action 3\n",
    "<search>High Plains</search>\n",
    "\n",
    "Observation 3\n",
    "High Plains refers to one of two distinct land regions\n",
    "\n",
    "Thought 4\n",
    "I need to instead search High Plains (United States).\n",
    "\n",
    "Action 4\n",
    "<search>High Plains (United States)</search>\n",
    "\n",
    "Observation 4\n",
    "The High Plains are a subregion of the Great Plains. From east to west, the High Plains rise in elevation from around 1,800 to 7,000 ft (550 to 2,130m).\n",
    "\n",
    "Thought 5\n",
    "High Plains rise in elevation from around 1,800 to 7,000 ft, so the answer is 1,800 to 7,000 ft.\n",
    "\n",
    "Action 5\n",
    "<finish>1,800 to 7,000 ft</finish>\n",
    "\"\"\"\n",
    "\n",
    "# Come up with more examples yourself, or take a look through https://github.com/ysymyth/ReAct/"
   ]
  },
  {
   "cell_type": "markdown",
   "id": "994ef44f",
   "metadata": {
    "id": "C3wbfstjTgey",
    "papermill": {
     "duration": 0.009629,
     "end_time": "2024-11-20T14:32:48.197732",
     "exception": false,
     "start_time": "2024-11-20T14:32:48.188103",
     "status": "completed"
    },
    "tags": []
   },
   "source": [
    "To capture a single step at a time, while ignoring any hallucinated Observation steps, you will use `stop_sequences` to end the generation process. The steps are `Thought`, `Action`, `Observation`, in that order."
   ]
  },
  {
   "cell_type": "code",
   "execution_count": 24,
   "id": "f4d77570",
   "metadata": {
    "execution": {
     "iopub.execute_input": "2024-11-20T14:32:48.219020Z",
     "iopub.status.busy": "2024-11-20T14:32:48.218686Z",
     "iopub.status.idle": "2024-11-20T14:32:50.003718Z",
     "shell.execute_reply": "2024-11-20T14:32:50.002990Z"
    },
    "id": "8mxrXRkRTdXm",
    "papermill": {
     "duration": 1.797989,
     "end_time": "2024-11-20T14:32:50.005555",
     "exception": false,
     "start_time": "2024-11-20T14:32:48.207566",
     "status": "completed"
    },
    "tags": []
   },
   "outputs": [
    {
     "name": "stdout",
     "output_type": "stream",
     "text": [
      "Thought 1\n",
      "I need to find the Transformers NLP paper and then find the authors and their ages to determine the youngest.  This will require multiple steps.\n",
      "\n",
      "Action 1\n",
      "<search>Transformers (paper)</search>\n",
      "\n"
     ]
    }
   ],
   "source": [
    "question = \"\"\"Question\n",
    "Who was the youngest author listed on the transformers NLP paper?\n",
    "\"\"\"\n",
    "\n",
    "model = genai.GenerativeModel('gemini-1.5-flash-latest')\n",
    "react_chat = model.start_chat()\n",
    "\n",
    "# You will perform the Action, so generate up to, but not including, the Observation.\n",
    "config = genai.GenerationConfig(stop_sequences=[\"\\nObservation\"])\n",
    "\n",
    "resp = react_chat.send_message(\n",
    "    [model_instructions, example1, example2, question],\n",
    "    generation_config=config,\n",
    "    request_options=retry_policy)\n",
    "print(resp.text)"
   ]
  },
  {
   "cell_type": "markdown",
   "id": "07e68202",
   "metadata": {
    "id": "aW2PIdLbVv3l",
    "papermill": {
     "duration": 0.009922,
     "end_time": "2024-11-20T14:32:50.025775",
     "exception": false,
     "start_time": "2024-11-20T14:32:50.015853",
     "status": "completed"
    },
    "tags": []
   },
   "source": [
    "Now you can perform this research yourself and supply it back to the model."
   ]
  },
  {
   "cell_type": "code",
   "execution_count": 25,
   "id": "1cdf4ee6",
   "metadata": {
    "execution": {
     "iopub.execute_input": "2024-11-20T14:32:50.047786Z",
     "iopub.status.busy": "2024-11-20T14:32:50.047168Z",
     "iopub.status.idle": "2024-11-20T14:32:51.703192Z",
     "shell.execute_reply": "2024-11-20T14:32:51.702239Z"
    },
    "id": "mLMc0DZaV9g2",
    "papermill": {
     "duration": 1.668886,
     "end_time": "2024-11-20T14:32:51.705071",
     "exception": false,
     "start_time": "2024-11-20T14:32:50.036185",
     "status": "completed"
    },
    "tags": []
   },
   "outputs": [
    {
     "name": "stdout",
     "output_type": "stream",
     "text": [
      "Thought 2\n",
      "The observation gives me the authors of the paper, but not their ages. I cannot directly determine the youngest author from this information. I need to find information on the ages of these authors.  This is difficult to do reliably, as ages are not typically listed in publication metadata.\n",
      "\n",
      "Action 2\n",
      "<search>Aidan N. Gomez age>\n",
      "\n",
      "\n"
     ]
    }
   ],
   "source": [
    "observation = \"\"\"Observation 1\n",
    "[1706.03762] Attention Is All You Need\n",
    "Ashish Vaswani, Noam Shazeer, Niki Parmar, Jakob Uszkoreit, Llion Jones, Aidan N. Gomez, Lukasz Kaiser, Illia Polosukhin\n",
    "We propose a new simple network architecture, the Transformer, based solely on attention mechanisms, dispensing with recurrence and convolutions entirely.\n",
    "\"\"\"\n",
    "resp = react_chat.send_message(observation, generation_config=config, request_options=retry_policy)\n",
    "print(resp.text)"
   ]
  },
  {
   "cell_type": "markdown",
   "id": "b33d6e80",
   "metadata": {
    "id": "bo0tzf4nX6dA",
    "papermill": {
     "duration": 0.009708,
     "end_time": "2024-11-20T14:32:51.724936",
     "exception": false,
     "start_time": "2024-11-20T14:32:51.715228",
     "status": "completed"
    },
    "tags": []
   },
   "source": [
    "This process repeats until the `<finish>` action is reached. You can continue running this yourself if you like, or try the [Wikipedia example](https://github.com/google-gemini/cookbook/blob/main/examples/Search_Wikipedia_using_ReAct.ipynb) to see a fully automated ReAct system at work."
   ]
  },
  {
   "cell_type": "markdown",
   "id": "4a0f0cc2",
   "metadata": {
    "id": "jPiZ_eIIaVPt",
    "papermill": {
     "duration": 0.009725,
     "end_time": "2024-11-20T14:32:51.744475",
     "exception": false,
     "start_time": "2024-11-20T14:32:51.734750",
     "status": "completed"
    },
    "tags": []
   },
   "source": [
    "## Code prompting"
   ]
  },
  {
   "cell_type": "markdown",
   "id": "1510bb15",
   "metadata": {
    "id": "ZinKamwXeR6C",
    "papermill": {
     "duration": 0.009669,
     "end_time": "2024-11-20T14:32:51.763952",
     "exception": false,
     "start_time": "2024-11-20T14:32:51.754283",
     "status": "completed"
    },
    "tags": []
   },
   "source": [
    "### Generating code\n",
    "\n",
    "The Gemini family of models can be used to generate code, configuration and scripts. Generating code can be helpful when learning to code, learning a new language or for rapidly generating a first draft.\n",
    "\n",
    "It's important to be aware that since LLMs can't reason, and can repeat training data, it's essential to read and test your code first, and comply with any relevant licenses.\n",
    "\n",
    "<table align=left>\n",
    "  <td>\n",
    "    <a target=\"_blank\" href=\"https://aistudio.google.com/prompts/1YX71JGtzDjXQkgdes8bP6i3oH5lCRKxv\"><img src=\"https://ai.google.dev/site-assets/images/marketing/home/icon-ais.png\" style=\"height: 24px\" height=24/> Open in AI Studio</a>\n",
    "  </td>\n",
    "</table>"
   ]
  },
  {
   "cell_type": "code",
   "execution_count": 26,
   "id": "f57861f6",
   "metadata": {
    "execution": {
     "iopub.execute_input": "2024-11-20T14:32:51.785579Z",
     "iopub.status.busy": "2024-11-20T14:32:51.784783Z",
     "iopub.status.idle": "2024-11-20T14:32:52.395331Z",
     "shell.execute_reply": "2024-11-20T14:32:52.394581Z"
    },
    "id": "fOQP9pqmeUO1",
    "papermill": {
     "duration": 0.623308,
     "end_time": "2024-11-20T14:32:52.397225",
     "exception": false,
     "start_time": "2024-11-20T14:32:51.773917",
     "status": "completed"
    },
    "tags": []
   },
   "outputs": [
    {
     "data": {
      "text/markdown": [
       "```python\n",
       "def factorial(n):\n",
       "  if n == 0:\n",
       "    return 1\n",
       "  else:\n",
       "    return n * factorial(n-1)\n",
       "```\n"
      ],
      "text/plain": [
       "<IPython.core.display.Markdown object>"
      ]
     },
     "execution_count": 26,
     "metadata": {},
     "output_type": "execute_result"
    }
   ],
   "source": [
    "model = genai.GenerativeModel(\n",
    "    'gemini-1.5-flash-latest',\n",
    "    generation_config=genai.GenerationConfig(\n",
    "        temperature=1,\n",
    "        top_p=1,\n",
    "        max_output_tokens=1024,\n",
    "    ))\n",
    "\n",
    "# Gemini 1.5 models are very chatty, so it helps to specify they stick to the code.\n",
    "code_prompt = \"\"\"\n",
    "Write a Python function to calculate the factorial of a number. No explanation, provide only the code.\n",
    "\"\"\"\n",
    "\n",
    "response = model.generate_content(code_prompt, request_options=retry_policy)\n",
    "Markdown(response.text)"
   ]
  },
  {
   "cell_type": "markdown",
   "id": "fa75843b",
   "metadata": {
    "id": "wlBMWSFhgVRQ",
    "papermill": {
     "duration": 0.00995,
     "end_time": "2024-11-20T14:32:52.417788",
     "exception": false,
     "start_time": "2024-11-20T14:32:52.407838",
     "status": "completed"
    },
    "tags": []
   },
   "source": [
    "### Code execution\n",
    "\n",
    "The Gemini API can automatically run generated code too, and will return the output.\n",
    "\n",
    "<table align=left>\n",
    "  <td>\n",
    "    <a target=\"_blank\" href=\"https://aistudio.google.com/prompts/11veFr_VYEwBWcLkhNLr-maCG0G8sS_7Z\"><img src=\"https://ai.google.dev/site-assets/images/marketing/home/icon-ais.png\" style=\"height: 24px\" height=24/> Open in AI Studio</a>\n",
    "  </td>\n",
    "</table>"
   ]
  },
  {
   "cell_type": "code",
   "execution_count": 27,
   "id": "b6e1eef8",
   "metadata": {
    "execution": {
     "iopub.execute_input": "2024-11-20T14:32:52.439362Z",
     "iopub.status.busy": "2024-11-20T14:32:52.439018Z",
     "iopub.status.idle": "2024-11-20T14:32:56.016077Z",
     "shell.execute_reply": "2024-11-20T14:32:56.014786Z"
    },
    "id": "jT3OfWYfhjRL",
    "papermill": {
     "duration": 3.590318,
     "end_time": "2024-11-20T14:32:56.018016",
     "exception": false,
     "start_time": "2024-11-20T14:32:52.427698",
     "status": "completed"
    },
    "tags": []
   },
   "outputs": [
    {
     "data": {
      "text/markdown": [
       "To calculate the sum of the first 14 odd prime numbers, I will first identify the first 14 odd prime numbers and then calculate their sum.\n",
       "\n",
       "Here's how I'll approach this using Python:\n",
       "\n",
       "\n",
       "``` python\n",
       "def is_prime(n):\n",
       "    \"\"\"Checks if a number is prime.\"\"\"\n",
       "    if n <= 1:\n",
       "        return False\n",
       "    for i in range(2, int(n**0.5) + 1):\n",
       "        if n % i == 0:\n",
       "            return False\n",
       "    return True\n",
       "\n",
       "count = 0\n",
       "number = 2\n",
       "primes = []\n",
       "while count < 14:\n",
       "    if is_prime(number) and number %2 != 0:\n",
       "        primes.append(number)\n",
       "        count +=1\n",
       "    number += 1\n",
       "\n",
       "print(f'{primes=}')\n",
       "sum_of_primes = sum(primes)\n",
       "print(f'{sum_of_primes=}')\n",
       "\n",
       "\n",
       "```\n",
       "```\n",
       "primes=[3, 5, 7, 11, 13, 17, 19, 23, 29, 31, 37, 41, 43, 47]\n",
       "sum_of_primes=326\n",
       "\n",
       "```\n",
       "The first 14 odd prime numbers are 3, 5, 7, 11, 13, 17, 19, 23, 29, 31, 37, 41, 43, and 47.  Their sum is 326.\n"
      ],
      "text/plain": [
       "<IPython.core.display.Markdown object>"
      ]
     },
     "execution_count": 27,
     "metadata": {},
     "output_type": "execute_result"
    }
   ],
   "source": [
    "model = genai.GenerativeModel(\n",
    "    'gemini-1.5-flash-latest',\n",
    "    tools='code_execution',)\n",
    "\n",
    "code_exec_prompt = \"\"\"\n",
    "Calculate the sum of the first 14 prime numbers. Only consider the odd primes, and make sure you count them all.\n",
    "\"\"\"\n",
    "\n",
    "response = model.generate_content(code_exec_prompt, request_options=retry_policy)\n",
    "Markdown(response.text)"
   ]
  },
  {
   "cell_type": "markdown",
   "id": "9dc5d4b2",
   "metadata": {
    "id": "ZspT1GSkjG6d",
    "papermill": {
     "duration": 0.009936,
     "end_time": "2024-11-20T14:32:56.038425",
     "exception": false,
     "start_time": "2024-11-20T14:32:56.028489",
     "status": "completed"
    },
    "tags": []
   },
   "source": [
    "While this looks like a single-part response, you can inspect the response to see the each of the steps: initial text, code generation, execution results, and final text summary."
   ]
  },
  {
   "cell_type": "code",
   "execution_count": 28,
   "id": "4b69b683",
   "metadata": {
    "execution": {
     "iopub.execute_input": "2024-11-20T14:32:56.060172Z",
     "iopub.status.busy": "2024-11-20T14:32:56.059898Z",
     "iopub.status.idle": "2024-11-20T14:32:56.064297Z",
     "shell.execute_reply": "2024-11-20T14:32:56.063562Z"
    },
    "id": "j4gQVzcRjRX-",
    "papermill": {
     "duration": 0.017777,
     "end_time": "2024-11-20T14:32:56.066237",
     "exception": false,
     "start_time": "2024-11-20T14:32:56.048460",
     "status": "completed"
    },
    "tags": []
   },
   "outputs": [
    {
     "name": "stdout",
     "output_type": "stream",
     "text": [
      "text: \"To calculate the sum of the first 14 odd prime numbers, I will first identify the first 14 odd prime numbers and then calculate their sum.\\n\\nHere\\'s how I\\'ll approach this using Python:\\n\\n\"\n",
      "\n",
      "-----\n",
      "executable_code {\n",
      "  language: PYTHON\n",
      "  code: \"\\ndef is_prime(n):\\n    \\\"\\\"\\\"Checks if a number is prime.\\\"\\\"\\\"\\n    if n <= 1:\\n        return False\\n    for i in range(2, int(n**0.5) + 1):\\n        if n % i == 0:\\n            return False\\n    return True\\n\\ncount = 0\\nnumber = 2\\nprimes = []\\nwhile count < 14:\\n    if is_prime(number) and number %2 != 0:\\n        primes.append(number)\\n        count +=1\\n    number += 1\\n\\nprint(f\\'{primes=}\\')\\nsum_of_primes = sum(primes)\\nprint(f\\'{sum_of_primes=}\\')\\n\\n\"\n",
      "}\n",
      "\n",
      "-----\n",
      "code_execution_result {\n",
      "  outcome: OUTCOME_OK\n",
      "  output: \"primes=[3, 5, 7, 11, 13, 17, 19, 23, 29, 31, 37, 41, 43, 47]\\nsum_of_primes=326\\n\"\n",
      "}\n",
      "\n",
      "-----\n",
      "text: \"The first 14 odd prime numbers are 3, 5, 7, 11, 13, 17, 19, 23, 29, 31, 37, 41, 43, and 47.  Their sum is 326.\\n\"\n",
      "\n",
      "-----\n"
     ]
    }
   ],
   "source": [
    "for part in response.candidates[0].content.parts:\n",
    "  print(part)\n",
    "  print(\"-----\")"
   ]
  },
  {
   "cell_type": "markdown",
   "id": "762c9c99",
   "metadata": {
    "id": "1gUX8QzCj4d5",
    "papermill": {
     "duration": 0.009805,
     "end_time": "2024-11-20T14:32:56.086212",
     "exception": false,
     "start_time": "2024-11-20T14:32:56.076407",
     "status": "completed"
    },
    "tags": []
   },
   "source": [
    "### Explaining code\n",
    "\n",
    "The Gemini family of models can explain code to you too.\n",
    "\n",
    "<table align=left>\n",
    "  <td>\n",
    "    <a target=\"_blank\" href=\"https://aistudio.google.com/prompts/1N7LGzWzCYieyOf_7bAG4plrmkpDNmUyb\"><img src=\"https://ai.google.dev/site-assets/images/marketing/home/icon-ais.png\" style=\"height: 24px\" height=24/> Open in AI Studio</a>\n",
    "  </td>\n",
    "</table>"
   ]
  },
  {
   "cell_type": "code",
   "execution_count": 29,
   "id": "ff9886d8",
   "metadata": {
    "execution": {
     "iopub.execute_input": "2024-11-20T14:32:56.108054Z",
     "iopub.status.busy": "2024-11-20T14:32:56.107265Z",
     "iopub.status.idle": "2024-11-20T14:32:58.876120Z",
     "shell.execute_reply": "2024-11-20T14:32:58.875256Z"
    },
    "id": "7_jPMMoxkIEb",
    "papermill": {
     "duration": 2.781848,
     "end_time": "2024-11-20T14:32:58.877993",
     "exception": false,
     "start_time": "2024-11-20T14:32:56.096145",
     "status": "completed"
    },
    "tags": []
   },
   "outputs": [
    {
     "data": {
      "text/markdown": [
       "This file is a bash script that enhances your shell prompt to display information about your current Git repository.  Think of it as a highly customizable Git status indicator for your terminal.\n",
       "\n",
       "**What it does:**\n",
       "\n",
       "At a very high level, the script adds information to your shell prompt (the line you type commands on) showing things like:\n",
       "\n",
       "* **Current Git branch:**  e.g., `main` or `feature/new-feature`.\n",
       "* **Changes:**  Indicates if you have uncommitted changes, staged changes, or conflicts.  It uses symbols to represent the types of changes.\n",
       "* **Upstream status:** Shows if your local branch is ahead of, behind, or even with the remote branch (if configured).\n",
       "* **Virtual environment:**  If you're using a virtual environment (like `venv` or `conda`), it displays the environment name.\n",
       "\n",
       "It achieves this by running Git commands to get the repository status and then cleverly formats that information into your prompt.\n",
       "\n",
       "**Why you would use it:**\n",
       "\n",
       "You'd use this script if you want a quick and visually informative way to see the status of your Git repository without having to explicitly run `git status` every time.  It saves you keystrokes and provides a constant visual reminder of your repository's state.  The various configuration options allow for highly customized display of the Git status information.\n"
      ],
      "text/plain": [
       "<IPython.core.display.Markdown object>"
      ]
     },
     "execution_count": 29,
     "metadata": {},
     "output_type": "execute_result"
    }
   ],
   "source": [
    "file_contents = !curl https://raw.githubusercontent.com/magicmonty/bash-git-prompt/refs/heads/master/gitprompt.sh\n",
    "\n",
    "explain_prompt = f\"\"\"\n",
    "Please explain what this file does at a very high level. What is it, and why would I use it?\n",
    "\n",
    "```\n",
    "{file_contents}\n",
    "```\n",
    "\"\"\"\n",
    "\n",
    "model = genai.GenerativeModel('gemini-1.5-flash-latest')\n",
    "\n",
    "response = model.generate_content(explain_prompt, request_options=retry_policy)\n",
    "Markdown(response.text)"
   ]
  },
  {
   "cell_type": "markdown",
   "id": "fec2b708",
   "metadata": {
    "id": "2a8266d97ce5",
    "papermill": {
     "duration": 0.010641,
     "end_time": "2024-11-20T14:32:58.945478",
     "exception": false,
     "start_time": "2024-11-20T14:32:58.934837",
     "status": "completed"
    },
    "tags": []
   },
   "source": [
    "## Learn more\n",
    "\n",
    "To learn more about prompting in depth:\n",
    "\n",
    "* Check out the whitepaper issued with today's content,\n",
    "* Try out the apps listed at the top of this notebook ([TextFX](https://textfx.withgoogle.com/), [SQL Talk](https://sql-talk-r5gdynozbq-uc.a.run.app/) and [NotebookLM](https://notebooklm.google/)),\n",
    "* Read the [Introduction to Prompting](https://ai.google.dev/gemini-api/docs/prompting-intro) from the Gemini API docs,\n",
    "* Explore the Gemini API's [prompt gallery](https://ai.google.dev/gemini-api/prompts) and try them out in AI Studio,\n",
    "* Check out the Gemini API cookbook for [inspirational examples](https://github.com/google-gemini/cookbook/blob/main/examples/) and [educational quickstarts](https://github.com/google-gemini/cookbook/blob/main/quickstarts/).\n",
    "\n",
    "And please share anything exciting you have tried in the Discord!"
   ]
  }
 ],
 "metadata": {
  "colab": {
   "name": "day-1-prompting.ipynb",
   "toc_visible": true
  },
  "kaggle": {
   "accelerator": "none",
   "dataSources": [],
   "dockerImageVersionId": 30786,
   "isGpuEnabled": false,
   "isInternetEnabled": true,
   "language": "python",
   "sourceType": "notebook"
  },
  "kernelspec": {
   "display_name": "Python 3",
   "language": "python",
   "name": "python3"
  },
  "language_info": {
   "codemirror_mode": {
    "name": "ipython",
    "version": 3
   },
   "file_extension": ".py",
   "mimetype": "text/x-python",
   "name": "python",
   "nbconvert_exporter": "python",
   "pygments_lexer": "ipython3",
   "version": "3.10.14"
  },
  "papermill": {
   "default_parameters": {},
   "duration": 100.490486,
   "end_time": "2024-11-20T14:32:59.374520",
   "environment_variables": {},
   "exception": null,
   "input_path": "__notebook__.ipynb",
   "output_path": "__notebook__.ipynb",
   "parameters": {},
   "start_time": "2024-11-20T14:31:18.884034",
   "version": "2.6.0"
  }
 },
 "nbformat": 4,
 "nbformat_minor": 5
}
