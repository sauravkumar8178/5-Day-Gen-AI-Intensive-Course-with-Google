{
 "cells": [
  {
   "cell_type": "markdown",
   "id": "36d8bab9",
   "metadata": {
    "id": "b6e13eef3f5d",
    "papermill": {
     "duration": 0.005474,
     "end_time": "2024-11-20T15:02:46.181524",
     "exception": false,
     "start_time": "2024-11-20T15:02:46.176050",
     "status": "completed"
    },
    "tags": []
   },
   "source": [
    "##### Copyright 2024 Google LLC."
   ]
  },
  {
   "cell_type": "code",
   "execution_count": 1,
   "id": "87524265",
   "metadata": {
    "cellView": "form",
    "execution": {
     "iopub.execute_input": "2024-11-20T15:02:46.191707Z",
     "iopub.status.busy": "2024-11-20T15:02:46.191438Z",
     "iopub.status.idle": "2024-11-20T15:02:46.195797Z",
     "shell.execute_reply": "2024-11-20T15:02:46.195002Z"
    },
    "id": "d6597b11df14",
    "jupyter": {
     "source_hidden": true
    },
    "papermill": {
     "duration": 0.011187,
     "end_time": "2024-11-20T15:02:46.197327",
     "exception": false,
     "start_time": "2024-11-20T15:02:46.186140",
     "status": "completed"
    },
    "tags": []
   },
   "outputs": [],
   "source": [
    "# @title Licensed under the Apache License, Version 2.0 (the \"License\");\n",
    "# you may not use this file except in compliance with the License.\n",
    "# You may obtain a copy of the License at\n",
    "#\n",
    "# https://www.apache.org/licenses/LICENSE-2.0\n",
    "#\n",
    "# Unless required by applicable law or agreed to in writing, software\n",
    "# distributed under the License is distributed on an \"AS IS\" BASIS,\n",
    "# WITHOUT WARRANTIES OR CONDITIONS OF ANY KIND, either express or implied.\n",
    "# See the License for the specific language governing permissions and\n",
    "# limitations under the License."
   ]
  },
  {
   "cell_type": "markdown",
   "id": "d7802f79",
   "metadata": {
    "id": "4a7d3bb68371",
    "papermill": {
     "duration": 0.005424,
     "end_time": "2024-11-20T15:02:46.207286",
     "exception": false,
     "start_time": "2024-11-20T15:02:46.201862",
     "status": "completed"
    },
    "tags": []
   },
   "source": [
    "# Day 3 - Function calling with the Gemini API\n",
    "\n",
    "Welcome back to the Kaggle 5-day Generative AI course!\n",
    "\n",
    "In this notebook, you will use the Gemini API's automatic function calling to build a chat interface over a local database. This example is a toy and is missing a number of safety and security constraints you would use in a real-world example.\n",
    "\n",
    "## For help\n",
    "\n",
    "**Common issues are covered in the [FAQ and troubleshooting guide](https://www.kaggle.com/code/markishere/day-0-troubleshooting-and-faqs).**"
   ]
  },
  {
   "cell_type": "markdown",
   "id": "f669392a",
   "metadata": {
    "id": "ea197d1d464f",
    "papermill": {
     "duration": 0.004391,
     "end_time": "2024-11-20T15:02:46.216137",
     "exception": false,
     "start_time": "2024-11-20T15:02:46.211746",
     "status": "completed"
    },
    "tags": []
   },
   "source": [
    "## Setup\n",
    "\n",
    "Start by installing and importing the Python SDK."
   ]
  },
  {
   "cell_type": "code",
   "execution_count": 2,
   "id": "1e66e745",
   "metadata": {
    "execution": {
     "iopub.execute_input": "2024-11-20T15:02:46.227432Z",
     "iopub.status.busy": "2024-11-20T15:02:46.226805Z",
     "iopub.status.idle": "2024-11-20T15:03:06.315060Z",
     "shell.execute_reply": "2024-11-20T15:03:06.313947Z"
    },
    "id": "a24f42e469df",
    "papermill": {
     "duration": 20.096742,
     "end_time": "2024-11-20T15:03:06.317188",
     "exception": false,
     "start_time": "2024-11-20T15:02:46.220446",
     "status": "completed"
    },
    "tags": []
   },
   "outputs": [
    {
     "name": "stdout",
     "output_type": "stream",
     "text": [
      "Note: you may need to restart the kernel to use updated packages.\n"
     ]
    }
   ],
   "source": [
    "%pip install -q -U 'google-generativeai>=0.8.3'"
   ]
  },
  {
   "cell_type": "code",
   "execution_count": 3,
   "id": "f2e0347e",
   "metadata": {
    "execution": {
     "iopub.execute_input": "2024-11-20T15:03:06.327957Z",
     "iopub.status.busy": "2024-11-20T15:03:06.327697Z",
     "iopub.status.idle": "2024-11-20T15:03:07.137764Z",
     "shell.execute_reply": "2024-11-20T15:03:07.137104Z"
    },
    "id": "02bb0f551e25",
    "papermill": {
     "duration": 0.817689,
     "end_time": "2024-11-20T15:03:07.139728",
     "exception": false,
     "start_time": "2024-11-20T15:03:06.322039",
     "status": "completed"
    },
    "tags": []
   },
   "outputs": [],
   "source": [
    "import google.generativeai as genai"
   ]
  },
  {
   "cell_type": "markdown",
   "id": "93ea7c70",
   "metadata": {
    "id": "90e83cddff61",
    "papermill": {
     "duration": 0.004593,
     "end_time": "2024-11-20T15:03:07.149219",
     "exception": false,
     "start_time": "2024-11-20T15:03:07.144626",
     "status": "completed"
    },
    "tags": []
   },
   "source": [
    "### Set up your API key\n",
    "\n",
    "To run the following cell, your API key must be stored it in a [Kaggle secret](https://www.kaggle.com/discussions/product-feedback/114053) named `GOOGLE_API_KEY`.\n",
    "\n",
    "If you don't already have an API key, you can grab one from [AI Studio](https://aistudio.google.com/app/apikey). You can find [detailed instructions in the docs](https://ai.google.dev/gemini-api/docs/api-key).\n",
    "\n",
    "To make the key available through Kaggle secrets, choose `Secrets` from the `Add-ons` menu and follow the instructions to add your key or enable it for this notebook."
   ]
  },
  {
   "cell_type": "code",
   "execution_count": 4,
   "id": "50ec8d9e",
   "metadata": {
    "execution": {
     "iopub.execute_input": "2024-11-20T15:03:07.159651Z",
     "iopub.status.busy": "2024-11-20T15:03:07.159182Z",
     "iopub.status.idle": "2024-11-20T15:03:07.448559Z",
     "shell.execute_reply": "2024-11-20T15:03:07.447903Z"
    },
    "id": "5cc8325f051d",
    "papermill": {
     "duration": 0.296688,
     "end_time": "2024-11-20T15:03:07.450430",
     "exception": false,
     "start_time": "2024-11-20T15:03:07.153742",
     "status": "completed"
    },
    "tags": []
   },
   "outputs": [],
   "source": [
    "from kaggle_secrets import UserSecretsClient\n",
    "\n",
    "GOOGLE_API_KEY = UserSecretsClient().get_secret(\"GOOGLE_API_KEY\")\n",
    "genai.configure(api_key=GOOGLE_API_KEY)"
   ]
  },
  {
   "cell_type": "markdown",
   "id": "b7fe6911",
   "metadata": {
    "id": "857b6f96eb38",
    "papermill": {
     "duration": 0.004323,
     "end_time": "2024-11-20T15:03:07.459640",
     "exception": false,
     "start_time": "2024-11-20T15:03:07.455317",
     "status": "completed"
    },
    "tags": []
   },
   "source": [
    "If you received an error response along the lines of `No user secrets exist for kernel id ...`, then you need to add your API key via `Add-ons`, `Secrets` **and** enable it.\n",
    "\n",
    "![Screenshot of the checkbox to enable GOOGLE_API_KEY secret](https://storage.googleapis.com/kaggle-media/Images/5gdai_sc_3.png)"
   ]
  },
  {
   "cell_type": "markdown",
   "id": "778f393a",
   "metadata": {
    "id": "ed8fc6062c62",
    "papermill": {
     "duration": 0.004284,
     "end_time": "2024-11-20T15:03:07.468371",
     "exception": false,
     "start_time": "2024-11-20T15:03:07.464087",
     "status": "completed"
    },
    "tags": []
   },
   "source": [
    "## Create a local database\n",
    "\n",
    "For this minimal example, you'll create a local SQLite database and add some synthetic data so you have something to query.\n",
    "\n",
    "Load the `sql` IPython extension so you can interact with the database using magic commands (the `%` instructions) to create a new, empty SQLite database."
   ]
  },
  {
   "cell_type": "code",
   "execution_count": 5,
   "id": "29089c3a",
   "metadata": {
    "execution": {
     "iopub.execute_input": "2024-11-20T15:03:07.478345Z",
     "iopub.status.busy": "2024-11-20T15:03:07.478039Z",
     "iopub.status.idle": "2024-11-20T15:03:08.690348Z",
     "shell.execute_reply": "2024-11-20T15:03:08.689630Z"
    },
    "id": "c98a627ef07b",
    "papermill": {
     "duration": 1.219578,
     "end_time": "2024-11-20T15:03:08.692385",
     "exception": false,
     "start_time": "2024-11-20T15:03:07.472807",
     "status": "completed"
    },
    "tags": []
   },
   "outputs": [],
   "source": [
    "%load_ext sql\n",
    "%sql sqlite:///sample.db"
   ]
  },
  {
   "cell_type": "markdown",
   "id": "26c5725f",
   "metadata": {
    "id": "14e7bc18b8af",
    "papermill": {
     "duration": 0.004383,
     "end_time": "2024-11-20T15:03:08.701660",
     "exception": false,
     "start_time": "2024-11-20T15:03:08.697277",
     "status": "completed"
    },
    "tags": []
   },
   "source": [
    "Create the tables and insert some synthetic data. Feel free to tweak this structure and data."
   ]
  },
  {
   "cell_type": "code",
   "execution_count": 6,
   "id": "94419d89",
   "metadata": {
    "execution": {
     "iopub.execute_input": "2024-11-20T15:03:08.711896Z",
     "iopub.status.busy": "2024-11-20T15:03:08.711479Z",
     "iopub.status.idle": "2024-11-20T15:03:08.785525Z",
     "shell.execute_reply": "2024-11-20T15:03:08.784618Z"
    },
    "id": "4e186de46cf1",
    "papermill": {
     "duration": 0.081017,
     "end_time": "2024-11-20T15:03:08.787197",
     "exception": false,
     "start_time": "2024-11-20T15:03:08.706180",
     "status": "completed"
    },
    "tags": []
   },
   "outputs": [
    {
     "name": "stdout",
     "output_type": "stream",
     "text": [
      " * sqlite:///sample.db\n",
      "Done.\n",
      "Done.\n",
      "Done.\n",
      "3 rows affected.\n",
      "3 rows affected.\n",
      "3 rows affected.\n"
     ]
    },
    {
     "data": {
      "text/plain": [
       "[]"
      ]
     },
     "execution_count": 6,
     "metadata": {},
     "output_type": "execute_result"
    }
   ],
   "source": [
    "%%sql\n",
    "-- Create the 'products' table\n",
    "CREATE TABLE IF NOT EXISTS products (\n",
    "  \tproduct_id INTEGER PRIMARY KEY AUTOINCREMENT,\n",
    "  \tproduct_name VARCHAR(255) NOT NULL,\n",
    "  \tprice DECIMAL(10, 2) NOT NULL\n",
    "  );\n",
    "\n",
    "-- Create the 'staff' table\n",
    "CREATE TABLE IF NOT EXISTS staff (\n",
    "  \tstaff_id INTEGER PRIMARY KEY AUTOINCREMENT,\n",
    "  \tfirst_name VARCHAR(255) NOT NULL,\n",
    "  \tlast_name VARCHAR(255) NOT NULL\n",
    "  );\n",
    "\n",
    "-- Create the 'orders' table\n",
    "CREATE TABLE IF NOT EXISTS orders (\n",
    "  \torder_id INTEGER PRIMARY KEY AUTOINCREMENT,\n",
    "  \tcustomer_name VARCHAR(255) NOT NULL,\n",
    "  \tstaff_id INTEGER NOT NULL,\n",
    "  \tproduct_id INTEGER NOT NULL,\n",
    "  \tFOREIGN KEY (staff_id) REFERENCES staff (staff_id),\n",
    "  \tFOREIGN KEY (product_id) REFERENCES products (product_id)\n",
    "  );\n",
    "\n",
    "-- Insert data into the 'products' table\n",
    "INSERT INTO products (product_name, price) VALUES\n",
    "  \t('Laptop', 799.99),\n",
    "  \t('Keyboard', 129.99),\n",
    "  \t('Mouse', 29.99);\n",
    "\n",
    "-- Insert data into the 'staff' table\n",
    "INSERT INTO staff (first_name, last_name) VALUES\n",
    "  \t('Alice', 'Smith'),\n",
    "  \t('Bob', 'Johnson'),\n",
    "  \t('Charlie', 'Williams');\n",
    "\n",
    "-- Insert data into the 'orders' table\n",
    "INSERT INTO orders (customer_name, staff_id, product_id) VALUES\n",
    "  \t('David Lee', 1, 1),\n",
    "  \t('Emily Chen', 2, 2),\n",
    "  \t('Frank Brown', 1, 3);"
   ]
  },
  {
   "cell_type": "markdown",
   "id": "2a0a695c",
   "metadata": {
    "id": "83901899a79b",
    "papermill": {
     "duration": 0.004648,
     "end_time": "2024-11-20T15:03:08.796472",
     "exception": false,
     "start_time": "2024-11-20T15:03:08.791824",
     "status": "completed"
    },
    "tags": []
   },
   "source": [
    "## Define database functions\n",
    "\n",
    "Function calling with Gemini API's Python SDK can be implemented by defining [an OpenAPI schema](https://ai.google.dev/api/caching#Schema) that is passed to the model. Alternatively you can define Python functions and let the SDK inspect them to automatically define the schema. In this latter case, it's important that the functions are type annotated and have accurate docstrings that describe what the functions do - the model has no insight into the function body, so the docs function as the interface.\n",
    "\n",
    "By providing three key pieces of functionality - listing tables, describing a table, and executing a query - the LLM (or even another user) will have the basic tools needed to understand and interrogate the database.\n",
    "\n",
    "Start with a database connection that will be used across all of the functions."
   ]
  },
  {
   "cell_type": "code",
   "execution_count": 7,
   "id": "7e727fdd",
   "metadata": {
    "execution": {
     "iopub.execute_input": "2024-11-20T15:03:08.806812Z",
     "iopub.status.busy": "2024-11-20T15:03:08.806553Z",
     "iopub.status.idle": "2024-11-20T15:03:08.810206Z",
     "shell.execute_reply": "2024-11-20T15:03:08.809563Z"
    },
    "id": "437168bc6b6e",
    "papermill": {
     "duration": 0.010483,
     "end_time": "2024-11-20T15:03:08.811652",
     "exception": false,
     "start_time": "2024-11-20T15:03:08.801169",
     "status": "completed"
    },
    "tags": []
   },
   "outputs": [],
   "source": [
    "import sqlite3\n",
    "\n",
    "db_file = \"sample.db\"\n",
    "db_conn = sqlite3.connect(db_file)"
   ]
  },
  {
   "cell_type": "markdown",
   "id": "b2378187",
   "metadata": {
    "id": "b68b1a2c37d9",
    "papermill": {
     "duration": 0.004471,
     "end_time": "2024-11-20T15:03:08.820889",
     "exception": false,
     "start_time": "2024-11-20T15:03:08.816418",
     "status": "completed"
    },
    "tags": []
   },
   "source": [
    "The first function will list all tables available in the database. Define it, and test it out to ensure it works."
   ]
  },
  {
   "cell_type": "code",
   "execution_count": 8,
   "id": "6f9f7fd9",
   "metadata": {
    "execution": {
     "iopub.execute_input": "2024-11-20T15:03:08.831035Z",
     "iopub.status.busy": "2024-11-20T15:03:08.830792Z",
     "iopub.status.idle": "2024-11-20T15:03:08.837831Z",
     "shell.execute_reply": "2024-11-20T15:03:08.837068Z"
    },
    "id": "bdb0e4d2bb4b",
    "papermill": {
     "duration": 0.013985,
     "end_time": "2024-11-20T15:03:08.839412",
     "exception": false,
     "start_time": "2024-11-20T15:03:08.825427",
     "status": "completed"
    },
    "tags": []
   },
   "outputs": [
    {
     "name": "stdout",
     "output_type": "stream",
     "text": [
      " - DB CALL: list_tables\n"
     ]
    },
    {
     "data": {
      "text/plain": [
       "['products', 'sqlite_sequence', 'staff', 'orders']"
      ]
     },
     "execution_count": 8,
     "metadata": {},
     "output_type": "execute_result"
    }
   ],
   "source": [
    "def list_tables() -> list[str]:\n",
    "    \"\"\"Retrieve the names of all tables in the database.\"\"\"\n",
    "    # Include print logging statements so you can see when functions are being called.\n",
    "    print(' - DB CALL: list_tables')\n",
    "\n",
    "    cursor = db_conn.cursor()\n",
    "\n",
    "    # Fetch the table names.\n",
    "    cursor.execute(\"SELECT name FROM sqlite_master WHERE type='table';\")\n",
    "\n",
    "    tables = cursor.fetchall()\n",
    "    return [t[0] for t in tables]\n",
    "\n",
    "\n",
    "list_tables()"
   ]
  },
  {
   "cell_type": "markdown",
   "id": "6dd20a42",
   "metadata": {
    "id": "b6c010b1b6c2",
    "papermill": {
     "duration": 0.004496,
     "end_time": "2024-11-20T15:03:08.848565",
     "exception": false,
     "start_time": "2024-11-20T15:03:08.844069",
     "status": "completed"
    },
    "tags": []
   },
   "source": [
    "Once the available tables is known, the next step a database user will need is to understand what columns are available in a given table. Define that too, and test that it works as expected."
   ]
  },
  {
   "cell_type": "code",
   "execution_count": 9,
   "id": "4fb134dd",
   "metadata": {
    "execution": {
     "iopub.execute_input": "2024-11-20T15:03:08.858878Z",
     "iopub.status.busy": "2024-11-20T15:03:08.858632Z",
     "iopub.status.idle": "2024-11-20T15:03:08.865832Z",
     "shell.execute_reply": "2024-11-20T15:03:08.865036Z"
    },
    "id": "ecdb109298c4",
    "papermill": {
     "duration": 0.014187,
     "end_time": "2024-11-20T15:03:08.867484",
     "exception": false,
     "start_time": "2024-11-20T15:03:08.853297",
     "status": "completed"
    },
    "tags": []
   },
   "outputs": [
    {
     "name": "stdout",
     "output_type": "stream",
     "text": [
      " - DB CALL: describe_table\n"
     ]
    },
    {
     "data": {
      "text/plain": [
       "[('product_id', 'INTEGER'),\n",
       " ('product_name', 'VARCHAR(255)'),\n",
       " ('price', 'DECIMAL(10, 2)')]"
      ]
     },
     "execution_count": 9,
     "metadata": {},
     "output_type": "execute_result"
    }
   ],
   "source": [
    "def describe_table(table_name: str) -> list[tuple[str, str]]:\n",
    "    \"\"\"Look up the table schema.\n",
    "\n",
    "    Returns:\n",
    "      List of columns, where each entry is a tuple of (column, type).\n",
    "    \"\"\"\n",
    "    print(' - DB CALL: describe_table')\n",
    "\n",
    "    cursor = db_conn.cursor()\n",
    "\n",
    "    cursor.execute(f\"PRAGMA table_info({table_name});\")\n",
    "\n",
    "    schema = cursor.fetchall()\n",
    "    # [column index, column name, column type, ...]\n",
    "    return [(col[1], col[2]) for col in schema]\n",
    "\n",
    "\n",
    "describe_table(\"products\")"
   ]
  },
  {
   "cell_type": "markdown",
   "id": "1aac5ca3",
   "metadata": {
    "id": "f6053a2ca272",
    "papermill": {
     "duration": 0.004657,
     "end_time": "2024-11-20T15:03:08.876970",
     "exception": false,
     "start_time": "2024-11-20T15:03:08.872313",
     "status": "completed"
    },
    "tags": []
   },
   "source": [
    "Now that the system knows what tables and columns are present, it has enough information to be able to generate and run a `SELECT` query. Now provide that functionality, and test that it works."
   ]
  },
  {
   "cell_type": "code",
   "execution_count": 10,
   "id": "e6df2eab",
   "metadata": {
    "execution": {
     "iopub.execute_input": "2024-11-20T15:03:08.887563Z",
     "iopub.status.busy": "2024-11-20T15:03:08.887329Z",
     "iopub.status.idle": "2024-11-20T15:03:08.893591Z",
     "shell.execute_reply": "2024-11-20T15:03:08.892869Z"
    },
    "id": "9e405db8b3f6",
    "papermill": {
     "duration": 0.013413,
     "end_time": "2024-11-20T15:03:08.895152",
     "exception": false,
     "start_time": "2024-11-20T15:03:08.881739",
     "status": "completed"
    },
    "tags": []
   },
   "outputs": [
    {
     "name": "stdout",
     "output_type": "stream",
     "text": [
      " - DB CALL: execute_query\n"
     ]
    },
    {
     "data": {
      "text/plain": [
       "[(1, 'Laptop', 799.99), (2, 'Keyboard', 129.99), (3, 'Mouse', 29.99)]"
      ]
     },
     "execution_count": 10,
     "metadata": {},
     "output_type": "execute_result"
    }
   ],
   "source": [
    "def execute_query(sql: str) -> list[list[str]]:\n",
    "    \"\"\"Execute a SELECT statement, returning the results.\"\"\"\n",
    "    print(' - DB CALL: execute_query')\n",
    "\n",
    "    cursor = db_conn.cursor()\n",
    "\n",
    "    cursor.execute(sql)\n",
    "    return cursor.fetchall()\n",
    "\n",
    "\n",
    "execute_query(\"select * from products\")"
   ]
  },
  {
   "cell_type": "markdown",
   "id": "2c74dc53",
   "metadata": {
    "id": "ac464dfb35a0",
    "papermill": {
     "duration": 0.004867,
     "end_time": "2024-11-20T15:03:08.905020",
     "exception": false,
     "start_time": "2024-11-20T15:03:08.900153",
     "status": "completed"
    },
    "tags": []
   },
   "source": [
    "## Implement function calls\n",
    "\n",
    "Now you can put it all together in a call to the Gemini API.\n",
    "\n",
    "Function calling works by adding specific messages to a chat session. When function schemas are defined and made available to the model and a conversation is started, instead of returning a text response, the model may return a `function_call` instead. When this happens, the client must respond with a `function_response`, indicating the result of the call, and the conversation can continue on as normal.\n",
    "\n",
    "This function calling interaction normally happens manually, allowing you, the client, to validate and initiate the call. However the Python SDK also supports **automatic function calling**, where the supplied functions will be automatically invoked. This is a powerful feature and should only be exposed when it is safe to do so, such as when the functions have no [side-effects](https://en.wikipedia.org/wiki/Side_effect_(computer_science)).\n",
    "\n",
    "Here's the state diagram representing the conversation flow with function calling. With automatic function calling, the bottom row is executed automatically by the Python SDK. In manual function calling, you write the code to run each step individually.\n",
    "\n",
    "![function calling state diagram](https://codelabs.developers.google.com/static/codelabs/gemini-function-calling/img/gemini-function-calling-overview_1440.png)"
   ]
  },
  {
   "cell_type": "code",
   "execution_count": 11,
   "id": "070bcf2a",
   "metadata": {
    "execution": {
     "iopub.execute_input": "2024-11-20T15:03:08.915847Z",
     "iopub.status.busy": "2024-11-20T15:03:08.915612Z",
     "iopub.status.idle": "2024-11-20T15:03:09.101421Z",
     "shell.execute_reply": "2024-11-20T15:03:09.100587Z"
    },
    "id": "f4839540066d",
    "papermill": {
     "duration": 0.193497,
     "end_time": "2024-11-20T15:03:09.103365",
     "exception": false,
     "start_time": "2024-11-20T15:03:08.909868",
     "status": "completed"
    },
    "tags": []
   },
   "outputs": [],
   "source": [
    "# These are the Python functions defined above.\n",
    "db_tools = [list_tables, describe_table, execute_query]\n",
    "\n",
    "instruction = \"\"\"You are a helpful chatbot that can interact with an SQL database for a computer\n",
    "store. You will take the users questions and turn them into SQL queries using the tools\n",
    "available. Once you have the information you need, you will answer the user's question using\n",
    "the data returned. Use list_tables to see what tables are present, describe_table to understand\n",
    "the schema, and execute_query to issue an SQL SELECT query.\"\"\"\n",
    "\n",
    "model = genai.GenerativeModel(\n",
    "    \"models/gemini-1.5-flash-latest\", tools=db_tools, system_instruction=instruction\n",
    ")\n",
    "\n",
    "# Define a retry policy. The model might make multiple consecutive calls automatically\n",
    "# for a complex query, this ensures the client retries if it hits quota limits.\n",
    "from google.api_core import retry\n",
    "\n",
    "retry_policy = {\"retry\": retry.Retry(predicate=retry.if_transient_error)}\n",
    "\n",
    "# Start a chat with automatic function calling enabled.\n",
    "chat = model.start_chat(enable_automatic_function_calling=True)"
   ]
  },
  {
   "cell_type": "markdown",
   "id": "d5fa9522",
   "metadata": {
    "id": "5f120977f1ee",
    "papermill": {
     "duration": 0.004962,
     "end_time": "2024-11-20T15:03:09.113616",
     "exception": false,
     "start_time": "2024-11-20T15:03:09.108654",
     "status": "completed"
    },
    "tags": []
   },
   "source": [
    "Now you can engage in a chat conversation where you can ask about the contents of the database."
   ]
  },
  {
   "cell_type": "code",
   "execution_count": 12,
   "id": "4ac17f75",
   "metadata": {
    "execution": {
     "iopub.execute_input": "2024-11-20T15:03:09.125238Z",
     "iopub.status.busy": "2024-11-20T15:03:09.124634Z",
     "iopub.status.idle": "2024-11-20T15:03:11.957281Z",
     "shell.execute_reply": "2024-11-20T15:03:11.956239Z"
    },
    "id": "111cfb79338b",
    "papermill": {
     "duration": 2.840184,
     "end_time": "2024-11-20T15:03:11.958937",
     "exception": false,
     "start_time": "2024-11-20T15:03:09.118753",
     "status": "completed"
    },
    "tags": []
   },
   "outputs": [
    {
     "name": "stdout",
     "output_type": "stream",
     "text": [
      " - DB CALL: list_tables\n",
      " - DB CALL: describe_table\n",
      " - DB CALL: execute_query\n",
      "The cheapest product is the Mouse, costing $29.99.\n"
     ]
    }
   ],
   "source": [
    "resp = chat.send_message(\"What is the cheapest product?\", request_options=retry_policy)\n",
    "print(resp.text)"
   ]
  },
  {
   "cell_type": "markdown",
   "id": "f618045e",
   "metadata": {
    "id": "43595d4ef920",
    "papermill": {
     "duration": 0.005137,
     "end_time": "2024-11-20T15:03:11.969521",
     "exception": false,
     "start_time": "2024-11-20T15:03:11.964384",
     "status": "completed"
    },
    "tags": []
   },
   "source": [
    "If you re-use the same [`ChatSession`](https://github.com/google-gemini/generative-ai-python/blob/main/docs/api/google/generativeai/ChatSession.md) object, the conversation will continue statefully. If you wish to start fresh, you can call [`start_chat`](https://github.com/google-gemini/generative-ai-python/blob/main/docs/api/google/generativeai/GenerativeModel.md#start_chat) again, or call [`rewind`](https://github.com/google-gemini/generative-ai-python/blob/main/docs/api/google/generativeai/ChatSession.md#rewind) on the chat object to go back a turn.\n",
    "\n",
    "Continue the chat here by asking a follow-up question. Note that the database information is preserved, and the context of the specific product is inferred."
   ]
  },
  {
   "cell_type": "code",
   "execution_count": 13,
   "id": "3b3d14ae",
   "metadata": {
    "execution": {
     "iopub.execute_input": "2024-11-20T15:03:11.981058Z",
     "iopub.status.busy": "2024-11-20T15:03:11.980380Z",
     "iopub.status.idle": "2024-11-20T15:03:12.395550Z",
     "shell.execute_reply": "2024-11-20T15:03:12.394555Z"
    },
    "id": "647cbcc43993",
    "papermill": {
     "duration": 0.42272,
     "end_time": "2024-11-20T15:03:12.397296",
     "exception": false,
     "start_time": "2024-11-20T15:03:11.974576",
     "status": "completed"
    },
    "tags": []
   },
   "outputs": [
    {
     "name": "stdout",
     "output_type": "stream",
     "text": [
      "The Mouse costs $29.99.\n",
      "\n"
     ]
    }
   ],
   "source": [
    "resp = chat.send_message(\"and how much is it?\", request_options=retry_policy)\n",
    "print(resp.text)"
   ]
  },
  {
   "cell_type": "markdown",
   "id": "d0700c95",
   "metadata": {
    "id": "d67f635191c8",
    "papermill": {
     "duration": 0.005272,
     "end_time": "2024-11-20T15:03:12.408014",
     "exception": false,
     "start_time": "2024-11-20T15:03:12.402742",
     "status": "completed"
    },
    "tags": []
   },
   "source": [
    "Explore the chat session and ask your own questions. If you want to try asking more complex questions, try using the `gemini-1.5-pro` model. It has a lower rate limit, so calls might take a bit longer on the free tier, but you'll notice an improvement in expressivity."
   ]
  },
  {
   "cell_type": "code",
   "execution_count": 14,
   "id": "ecf79eb4",
   "metadata": {
    "execution": {
     "iopub.execute_input": "2024-11-20T15:03:12.419730Z",
     "iopub.status.busy": "2024-11-20T15:03:12.419255Z",
     "iopub.status.idle": "2024-11-20T15:03:59.399581Z",
     "shell.execute_reply": "2024-11-20T15:03:59.398688Z"
    },
    "id": "647cbcc43993",
    "papermill": {
     "duration": 46.988354,
     "end_time": "2024-11-20T15:03:59.401573",
     "exception": false,
     "start_time": "2024-11-20T15:03:12.413219",
     "status": "completed"
    },
    "tags": []
   },
   "outputs": [
    {
     "name": "stdout",
     "output_type": "stream",
     "text": [
      " - DB CALL: list_tables\n",
      " - DB CALL: describe_table\n",
      " - DB CALL: describe_table\n",
      " - DB CALL: describe_table\n",
      " - DB CALL: execute_query\n",
      "Alice Smith sold the cheapest product.\n"
     ]
    }
   ],
   "source": [
    "model = genai.GenerativeModel(\n",
    "    \"models/gemini-1.5-pro-latest\", tools=db_tools, system_instruction=instruction\n",
    ")\n",
    "\n",
    "chat = model.start_chat(enable_automatic_function_calling=True)\n",
    "response = chat.send_message('Which salesperson sold the cheapest product?', request_options=retry_policy)\n",
    "print(response.text)"
   ]
  },
  {
   "cell_type": "markdown",
   "id": "c090d423",
   "metadata": {
    "id": "1f5bb6d9bd6a",
    "papermill": {
     "duration": 0.005571,
     "end_time": "2024-11-20T15:03:59.414394",
     "exception": false,
     "start_time": "2024-11-20T15:03:59.408823",
     "status": "completed"
    },
    "tags": []
   },
   "source": [
    "### Inspecting the conversation\n",
    "\n",
    "To see the calls that the model makes, and what the client returns in response, you can inspect `chat.history`. This helper function will print out each turn along with the relevant fields passed or returned."
   ]
  },
  {
   "cell_type": "code",
   "execution_count": 15,
   "id": "ae96e8ae",
   "metadata": {
    "execution": {
     "iopub.execute_input": "2024-11-20T15:03:59.426492Z",
     "iopub.status.busy": "2024-11-20T15:03:59.426234Z",
     "iopub.status.idle": "2024-11-20T15:03:59.433966Z",
     "shell.execute_reply": "2024-11-20T15:03:59.433169Z"
    },
    "id": "639963cc64e2",
    "papermill": {
     "duration": 0.016614,
     "end_time": "2024-11-20T15:03:59.436448",
     "exception": false,
     "start_time": "2024-11-20T15:03:59.419834",
     "status": "completed"
    },
    "tags": []
   },
   "outputs": [
    {
     "name": "stdout",
     "output_type": "stream",
     "text": [
      "User:\n",
      "  \"Which salesperson sold the cheapest product?\"\n",
      "\n",
      "Model:\n",
      "  Function call: list_tables()\n",
      "\n",
      "User:\n",
      "  Function response:\n",
      "    name: \"list_tables\"\n",
      "    response {\n",
      "      fields {\n",
      "        key: \"result\"\n",
      "        value {\n",
      "          list_value {\n",
      "            values {\n",
      "              string_value: \"products\"\n",
      "            }\n",
      "            values {\n",
      "              string_value: \"sqlite_sequence\"\n",
      "            }\n",
      "            values {\n",
      "              string_value: \"staff\"\n",
      "            }\n",
      "            values {\n",
      "              string_value: \"orders\"\n",
      "            }\n",
      "          }\n",
      "        }\n",
      "      }\n",
      "    }\n",
      "\n",
      "\n",
      "Model:\n",
      "  Function call: describe_table(table_name=products)\n",
      "\n",
      "User:\n",
      "  Function response:\n",
      "    name: \"describe_table\"\n",
      "    response {\n",
      "      fields {\n",
      "        key: \"result\"\n",
      "        value {\n",
      "          list_value {\n",
      "            values {\n",
      "              list_value {\n",
      "                values {\n",
      "                  string_value: \"product_id\"\n",
      "                }\n",
      "                values {\n",
      "                  string_value: \"INTEGER\"\n",
      "                }\n",
      "              }\n",
      "            }\n",
      "            values {\n",
      "              list_value {\n",
      "                values {\n",
      "                  string_value: \"product_name\"\n",
      "                }\n",
      "                values {\n",
      "                  string_value: \"VARCHAR(255)\"\n",
      "                }\n",
      "              }\n",
      "            }\n",
      "            values {\n",
      "              list_value {\n",
      "                values {\n",
      "                  string_value: \"price\"\n",
      "                }\n",
      "                values {\n",
      "                  string_value: \"DECIMAL(10, 2)\"\n",
      "                }\n",
      "              }\n",
      "            }\n",
      "          }\n",
      "        }\n",
      "      }\n",
      "    }\n",
      "\n",
      "\n",
      "Model:\n",
      "  Function call: describe_table(table_name=staff)\n",
      "\n",
      "User:\n",
      "  Function response:\n",
      "    name: \"describe_table\"\n",
      "    response {\n",
      "      fields {\n",
      "        key: \"result\"\n",
      "        value {\n",
      "          list_value {\n",
      "            values {\n",
      "              list_value {\n",
      "                values {\n",
      "                  string_value: \"staff_id\"\n",
      "                }\n",
      "                values {\n",
      "                  string_value: \"INTEGER\"\n",
      "                }\n",
      "              }\n",
      "            }\n",
      "            values {\n",
      "              list_value {\n",
      "                values {\n",
      "                  string_value: \"first_name\"\n",
      "                }\n",
      "                values {\n",
      "                  string_value: \"VARCHAR(255)\"\n",
      "                }\n",
      "              }\n",
      "            }\n",
      "            values {\n",
      "              list_value {\n",
      "                values {\n",
      "                  string_value: \"last_name\"\n",
      "                }\n",
      "                values {\n",
      "                  string_value: \"VARCHAR(255)\"\n",
      "                }\n",
      "              }\n",
      "            }\n",
      "          }\n",
      "        }\n",
      "      }\n",
      "    }\n",
      "\n",
      "\n",
      "Model:\n",
      "  Function call: describe_table(table_name=orders)\n",
      "\n",
      "User:\n",
      "  Function response:\n",
      "    name: \"describe_table\"\n",
      "    response {\n",
      "      fields {\n",
      "        key: \"result\"\n",
      "        value {\n",
      "          list_value {\n",
      "            values {\n",
      "              list_value {\n",
      "                values {\n",
      "                  string_value: \"order_id\"\n",
      "                }\n",
      "                values {\n",
      "                  string_value: \"INTEGER\"\n",
      "                }\n",
      "              }\n",
      "            }\n",
      "            values {\n",
      "              list_value {\n",
      "                values {\n",
      "                  string_value: \"customer_name\"\n",
      "                }\n",
      "                values {\n",
      "                  string_value: \"VARCHAR(255)\"\n",
      "                }\n",
      "              }\n",
      "            }\n",
      "            values {\n",
      "              list_value {\n",
      "                values {\n",
      "                  string_value: \"staff_id\"\n",
      "                }\n",
      "                values {\n",
      "                  string_value: \"INTEGER\"\n",
      "                }\n",
      "              }\n",
      "            }\n",
      "            values {\n",
      "              list_value {\n",
      "                values {\n",
      "                  string_value: \"product_id\"\n",
      "                }\n",
      "                values {\n",
      "                  string_value: \"INTEGER\"\n",
      "                }\n",
      "              }\n",
      "            }\n",
      "          }\n",
      "        }\n",
      "      }\n",
      "    }\n",
      "\n",
      "\n",
      "Model:\n",
      "  Function call: execute_query(sql=SELECT staff.first_name, staff.last_name FROM staff INNER JOIN orders ON staff.staff_id = orders.staff_id INNER JOIN products ON orders.product_id = products.product_id ORDER BY products.price ASC LIMIT 1)\n",
      "\n",
      "User:\n",
      "  Function response:\n",
      "    name: \"execute_query\"\n",
      "    response {\n",
      "      fields {\n",
      "        key: \"result\"\n",
      "        value {\n",
      "          list_value {\n",
      "            values {\n",
      "              list_value {\n",
      "                values {\n",
      "                  string_value: \"Alice\"\n",
      "                }\n",
      "                values {\n",
      "                  string_value: \"Smith\"\n",
      "                }\n",
      "              }\n",
      "            }\n",
      "          }\n",
      "        }\n",
      "      }\n",
      "    }\n",
      "\n",
      "\n",
      "Model:\n",
      "  \"Alice Smith sold the cheapest product.\"\n",
      "\n"
     ]
    }
   ],
   "source": [
    "import textwrap\n",
    "\n",
    "\n",
    "def print_chat_turns(chat):\n",
    "    \"\"\"Prints out each turn in the chat history, including function calls and responses.\"\"\"\n",
    "    for event in chat.history:\n",
    "        print(f\"{event.role.capitalize()}:\")\n",
    "\n",
    "        for part in event.parts:\n",
    "            if txt := part.text:\n",
    "                print(f'  \"{txt}\"')\n",
    "            elif fn := part.function_call:\n",
    "                args = \", \".join(f\"{key}={val}\" for key, val in fn.args.items())\n",
    "                print(f\"  Function call: {fn.name}({args})\")\n",
    "            elif resp := part.function_response:\n",
    "                print(\"  Function response:\")\n",
    "                print(textwrap.indent(str(resp), \"    \"))\n",
    "\n",
    "        print()\n",
    "\n",
    "\n",
    "print_chat_turns(chat)"
   ]
  },
  {
   "cell_type": "markdown",
   "id": "913eba8f",
   "metadata": {
    "id": "8a17aeb2a3ef",
    "papermill": {
     "duration": 0.005619,
     "end_time": "2024-11-20T15:03:59.448009",
     "exception": false,
     "start_time": "2024-11-20T15:03:59.442390",
     "status": "completed"
    },
    "tags": []
   },
   "source": [
    "In this output you can see each of the conversational turns that were made. Note that the model doesn't remember anything outside of a `ChatSession` object, so you can make changes to the database structure or data and the model will respond without needing any code changes - try this out!"
   ]
  },
  {
   "cell_type": "markdown",
   "id": "e221e671",
   "metadata": {
    "id": "8a17aeb2a3ef",
    "papermill": {
     "duration": 0.005543,
     "end_time": "2024-11-20T15:03:59.459184",
     "exception": false,
     "start_time": "2024-11-20T15:03:59.453641",
     "status": "completed"
    },
    "tags": []
   },
   "source": [
    "## Further reading\n",
    "\n",
    "To learn more about what the Gemini API can do with function calling, check out the [Function calling cookbook](https://github.com/google-gemini/cookbook/blob/main/quickstarts/Function_calling.ipynb) (see `Manual function calling` to understand how function calling works manually) as well as [Function calling config](https://github.com/google-gemini/cookbook/blob/main/quickstarts/Function_calling_config.ipynb), which gives you fine-grained control over how function calling is triggered."
   ]
  }
 ],
 "metadata": {
  "colab": {
   "name": "day-3-function-calling-with-the-gemini-api.ipynb",
   "toc_visible": true
  },
  "kaggle": {
   "accelerator": "none",
   "dataSources": [],
   "dockerImageVersionId": 30786,
   "isGpuEnabled": false,
   "isInternetEnabled": true,
   "language": "python",
   "sourceType": "notebook"
  },
  "kernelspec": {
   "display_name": "Python 3",
   "language": "python",
   "name": "python3"
  },
  "language_info": {
   "codemirror_mode": {
    "name": "ipython",
    "version": 3
   },
   "file_extension": ".py",
   "mimetype": "text/x-python",
   "name": "python",
   "nbconvert_exporter": "python",
   "pygments_lexer": "ipython3",
   "version": "3.10.14"
  },
  "papermill": {
   "default_parameters": {},
   "duration": 76.196266,
   "end_time": "2024-11-20T15:03:59.983371",
   "environment_variables": {},
   "exception": null,
   "input_path": "__notebook__.ipynb",
   "output_path": "__notebook__.ipynb",
   "parameters": {},
   "start_time": "2024-11-20T15:02:43.787105",
   "version": "2.6.0"
  }
 },
 "nbformat": 4,
 "nbformat_minor": 5
}
