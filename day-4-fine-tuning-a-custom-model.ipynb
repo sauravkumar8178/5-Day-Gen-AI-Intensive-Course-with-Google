{
 "cells": [
  {
   "cell_type": "markdown",
   "id": "1bf52737",
   "metadata": {
    "id": "b6e13eef3f5d",
    "papermill": {
     "duration": 0.006968,
     "end_time": "2024-11-21T07:02:39.573584",
     "exception": false,
     "start_time": "2024-11-21T07:02:39.566616",
     "status": "completed"
    },
    "tags": []
   },
   "source": [
    "##### Copyright 2024 Google LLC."
   ]
  },
  {
   "cell_type": "code",
   "execution_count": 1,
   "id": "14db8380",
   "metadata": {
    "cellView": "form",
    "execution": {
     "iopub.execute_input": "2024-11-21T07:02:39.588356Z",
     "iopub.status.busy": "2024-11-21T07:02:39.587986Z",
     "iopub.status.idle": "2024-11-21T07:02:39.592577Z",
     "shell.execute_reply": "2024-11-21T07:02:39.591753Z"
    },
    "id": "d6597b11df14",
    "papermill": {
     "duration": 0.013514,
     "end_time": "2024-11-21T07:02:39.594329",
     "exception": false,
     "start_time": "2024-11-21T07:02:39.580815",
     "status": "completed"
    },
    "tags": []
   },
   "outputs": [],
   "source": [
    "# @title Licensed under the Apache License, Version 2.0 (the \"License\");\n",
    "# you may not use this file except in compliance with the License.\n",
    "# You may obtain a copy of the License at\n",
    "#\n",
    "# https://www.apache.org/licenses/LICENSE-2.0\n",
    "#\n",
    "# Unless required by applicable law or agreed to in writing, software\n",
    "# distributed under the License is distributed on an \"AS IS\" BASIS,\n",
    "# WITHOUT WARRANTIES OR CONDITIONS OF ANY KIND, either express or implied.\n",
    "# See the License for the specific language governing permissions and\n",
    "# limitations under the License."
   ]
  },
  {
   "cell_type": "markdown",
   "id": "d87e75fc",
   "metadata": {
    "id": "4KDIFPAL2EnL",
    "papermill": {
     "duration": 0.005812,
     "end_time": "2024-11-21T07:02:39.606297",
     "exception": false,
     "start_time": "2024-11-21T07:02:39.600485",
     "status": "completed"
    },
    "tags": []
   },
   "source": [
    "# Day 4 - Fine tuning a custom model\n",
    "\n",
    "Welcome back to the Kaggle 5-day Generative AI course!\n",
    "\n",
    "In this notebook you will use the Gemini API to fine-tune a custom, task-specific model. Fine-tuning can be used for a variety of tasks from classic NLP problems like entity extraction or summarisation, to creative tasks like stylised generation. You will fine-tune a model to classify the category a piece of text (a newsgroup post) into the category it belongs to (the newsgroup name).\n",
    "\n",
    "This codelab walks you tuning a model with the API. [AI Studio](https://aistudio.google.com/app/tune) also supports creating new tuned models directly in the web UI, allowing you to quickly create and monitor models using data from Google Sheets, Drive or your own files."
   ]
  },
  {
   "cell_type": "code",
   "execution_count": 2,
   "id": "acffab0b",
   "metadata": {
    "execution": {
     "iopub.execute_input": "2024-11-21T07:02:39.619408Z",
     "iopub.status.busy": "2024-11-21T07:02:39.619120Z",
     "iopub.status.idle": "2024-11-21T07:03:00.291207Z",
     "shell.execute_reply": "2024-11-21T07:03:00.289983Z"
    },
    "id": "9wafTyEH1_xF",
    "papermill": {
     "duration": 20.680972,
     "end_time": "2024-11-21T07:03:00.293198",
     "exception": false,
     "start_time": "2024-11-21T07:02:39.612226",
     "status": "completed"
    },
    "tags": []
   },
   "outputs": [
    {
     "name": "stdout",
     "output_type": "stream",
     "text": [
      "Note: you may need to restart the kernel to use updated packages.\n"
     ]
    }
   ],
   "source": [
    "%pip install -U -q 'google-generativeai>=0.8.3'"
   ]
  },
  {
   "cell_type": "markdown",
   "id": "1a25e17d",
   "metadata": {
    "papermill": {
     "duration": 0.006086,
     "end_time": "2024-11-21T07:03:00.305870",
     "exception": false,
     "start_time": "2024-11-21T07:03:00.299784",
     "status": "completed"
    },
    "tags": []
   },
   "source": [
    "Note that you do not have to restart the kernel."
   ]
  },
  {
   "cell_type": "code",
   "execution_count": 3,
   "id": "e5b14e18",
   "metadata": {
    "execution": {
     "iopub.execute_input": "2024-11-21T07:03:00.320141Z",
     "iopub.status.busy": "2024-11-21T07:03:00.319416Z",
     "iopub.status.idle": "2024-11-21T07:03:01.152648Z",
     "shell.execute_reply": "2024-11-21T07:03:01.151721Z"
    },
    "id": "T0CBG9xL2PvT",
    "papermill": {
     "duration": 0.842779,
     "end_time": "2024-11-21T07:03:01.154737",
     "exception": false,
     "start_time": "2024-11-21T07:03:00.311958",
     "status": "completed"
    },
    "tags": []
   },
   "outputs": [],
   "source": [
    "import google.generativeai as genai"
   ]
  },
  {
   "cell_type": "markdown",
   "id": "0622c2c5",
   "metadata": {
    "id": "P4bYX2T72ScK",
    "papermill": {
     "duration": 0.005945,
     "end_time": "2024-11-21T07:03:01.167126",
     "exception": false,
     "start_time": "2024-11-21T07:03:01.161181",
     "status": "completed"
    },
    "tags": []
   },
   "source": [
    "### Set up your API key\n",
    "\n",
    "To run the following cell, your API key must be stored it in a [Kaggle secret](https://www.kaggle.com/discussions/product-feedback/114053) named `GOOGLE_API_KEY`.\n",
    "\n",
    "If you don't already have an API key, you can grab one from [AI Studio](https://aistudio.google.com/app/apikey). You can find [detailed instructions in the docs](https://ai.google.dev/gemini-api/docs/api-key).\n",
    "\n",
    "To make the key available through Kaggle secrets, choose `Secrets` from the `Add-ons` menu and follow the instructions to add your key or enable it for this notebook."
   ]
  },
  {
   "cell_type": "code",
   "execution_count": 4,
   "id": "5b4739cb",
   "metadata": {
    "execution": {
     "iopub.execute_input": "2024-11-21T07:03:01.181365Z",
     "iopub.status.busy": "2024-11-21T07:03:01.180632Z",
     "iopub.status.idle": "2024-11-21T07:03:01.331380Z",
     "shell.execute_reply": "2024-11-21T07:03:01.330427Z"
    },
    "id": "VuJPY3GK2SLZ",
    "papermill": {
     "duration": 0.159925,
     "end_time": "2024-11-21T07:03:01.333380",
     "exception": false,
     "start_time": "2024-11-21T07:03:01.173455",
     "status": "completed"
    },
    "tags": []
   },
   "outputs": [],
   "source": [
    "from kaggle_secrets import UserSecretsClient\n",
    "\n",
    "GOOGLE_API_KEY = UserSecretsClient().get_secret(\"GOOGLE_API_KEY\")\n",
    "genai.configure(api_key=GOOGLE_API_KEY)"
   ]
  },
  {
   "attachments": {
    "53e1d527-de81-497e-bfac-58df458e750b.png": {
     "image/png": "[encoded data removed]"
    }
   },
   "cell_type": "markdown",
   "id": "a8e8df8f",
   "metadata": {
    "id": "25b2127c2052",
    "papermill": {
     "duration": 0.005897,
     "end_time": "2024-11-21T07:03:01.345918",
     "exception": false,
     "start_time": "2024-11-21T07:03:01.340021",
     "status": "completed"
    },
    "tags": []
   },
   "source": [
    "If you received an error response along the lines of `No user secrets exist for kernel id ...`, then you need to add your API key via `Add-ons`, `Secrets` **and** enable it.\n",
    "\n",
    "![Screenshot of the checkbox to enable GOOGLE_API_KEY secret](https://storage.googleapis.com/kaggle-media/Images/5gdai_sc_3.png)"
   ]
  },
  {
   "cell_type": "markdown",
   "id": "54e691da",
   "metadata": {
    "id": "CqVA5QFO6n4z",
    "papermill": {
     "duration": 0.00579,
     "end_time": "2024-11-21T07:03:01.357720",
     "exception": false,
     "start_time": "2024-11-21T07:03:01.351930",
     "status": "completed"
    },
    "tags": []
   },
   "source": [
    "### Explore available models\n",
    "\n",
    "You will be using the [`TunedModel.create`](https://ai.google.dev/api/tuning#method:-tunedmodels.create) API method to start the fine-tuning job and create your custom model. Find a model that supports it through the [`models.list`](https://ai.google.dev/api/models#method:-models.list) endpoint. You can also find more information about tuning models in [the model tuning docs](https://ai.google.dev/gemini-api/docs/model-tuning/tutorial?lang=python)."
   ]
  },
  {
   "cell_type": "code",
   "execution_count": 5,
   "id": "b2f87ab4",
   "metadata": {
    "execution": {
     "iopub.execute_input": "2024-11-21T07:03:01.371502Z",
     "iopub.status.busy": "2024-11-21T07:03:01.371180Z",
     "iopub.status.idle": "2024-11-21T07:03:01.615075Z",
     "shell.execute_reply": "2024-11-21T07:03:01.614155Z"
    },
    "id": "coEacWAB6o0G",
    "papermill": {
     "duration": 0.252805,
     "end_time": "2024-11-21T07:03:01.616893",
     "exception": false,
     "start_time": "2024-11-21T07:03:01.364088",
     "status": "completed"
    },
    "tags": []
   },
   "outputs": [
    {
     "name": "stdout",
     "output_type": "stream",
     "text": [
      "models/gemini-1.0-pro-001\n",
      "models/gemini-1.5-flash-001-tuning\n"
     ]
    }
   ],
   "source": [
    "for model in genai.list_models():\n",
    "    if \"createTunedModel\" in model.supported_generation_methods:\n",
    "        print(model.name)"
   ]
  },
  {
   "cell_type": "markdown",
   "id": "fa4a79d5",
   "metadata": {
    "id": "peFm0w_0c1CO",
    "papermill": {
     "duration": 0.006,
     "end_time": "2024-11-21T07:03:01.629342",
     "exception": false,
     "start_time": "2024-11-21T07:03:01.623342",
     "status": "completed"
    },
    "tags": []
   },
   "source": [
    "## Download the dataset\n",
    "\n",
    "In this activity, you will use the same newsgroups dataset that you used to train a classifier in Keras. In this example you will use a fine-tuned Gemini model to achieve the same goal.\n",
    "\n",
    "The [20 Newsgroups Text Dataset](https://scikit-learn.org/0.19/datasets/twenty_newsgroups.html) contains 18,000 newsgroups posts on 20 topics divided into training and test sets."
   ]
  },
  {
   "cell_type": "code",
   "execution_count": 6,
   "id": "dc17c905",
   "metadata": {
    "execution": {
     "iopub.execute_input": "2024-11-21T07:03:01.643764Z",
     "iopub.status.busy": "2024-11-21T07:03:01.643035Z",
     "iopub.status.idle": "2024-11-21T07:03:12.519911Z",
     "shell.execute_reply": "2024-11-21T07:03:12.519038Z"
    },
    "id": "bX_kpgnQ9b-Z",
    "papermill": {
     "duration": 10.885751,
     "end_time": "2024-11-21T07:03:12.521673",
     "exception": false,
     "start_time": "2024-11-21T07:03:01.635922",
     "status": "completed"
    },
    "tags": []
   },
   "outputs": [
    {
     "data": {
      "text/plain": [
       "['alt.atheism',\n",
       " 'comp.graphics',\n",
       " 'comp.os.ms-windows.misc',\n",
       " 'comp.sys.ibm.pc.hardware',\n",
       " 'comp.sys.mac.hardware',\n",
       " 'comp.windows.x',\n",
       " 'misc.forsale',\n",
       " 'rec.autos',\n",
       " 'rec.motorcycles',\n",
       " 'rec.sport.baseball',\n",
       " 'rec.sport.hockey',\n",
       " 'sci.crypt',\n",
       " 'sci.electronics',\n",
       " 'sci.med',\n",
       " 'sci.space',\n",
       " 'soc.religion.christian',\n",
       " 'talk.politics.guns',\n",
       " 'talk.politics.mideast',\n",
       " 'talk.politics.misc',\n",
       " 'talk.religion.misc']"
      ]
     },
     "execution_count": 6,
     "metadata": {},
     "output_type": "execute_result"
    }
   ],
   "source": [
    "from sklearn.datasets import fetch_20newsgroups\n",
    "\n",
    "newsgroups_train = fetch_20newsgroups(subset=\"train\")\n",
    "newsgroups_test = fetch_20newsgroups(subset=\"test\")\n",
    "\n",
    "# View list of class names for dataset\n",
    "newsgroups_train.target_names"
   ]
  },
  {
   "cell_type": "markdown",
   "id": "35513366",
   "metadata": {
    "id": "ipafe6ptZFjt",
    "papermill": {
     "duration": 0.006248,
     "end_time": "2024-11-21T07:03:12.534629",
     "exception": false,
     "start_time": "2024-11-21T07:03:12.528381",
     "status": "completed"
    },
    "tags": []
   },
   "source": [
    "Here's what a single row looks like."
   ]
  },
  {
   "cell_type": "code",
   "execution_count": 7,
   "id": "71df6af5",
   "metadata": {
    "execution": {
     "iopub.execute_input": "2024-11-21T07:03:12.548364Z",
     "iopub.status.busy": "2024-11-21T07:03:12.548053Z",
     "iopub.status.idle": "2024-11-21T07:03:12.552511Z",
     "shell.execute_reply": "2024-11-21T07:03:12.551583Z"
    },
    "id": "EtEXcdT39hCB",
    "papermill": {
     "duration": 0.013267,
     "end_time": "2024-11-21T07:03:12.554113",
     "exception": false,
     "start_time": "2024-11-21T07:03:12.540846",
     "status": "completed"
    },
    "tags": []
   },
   "outputs": [
    {
     "name": "stdout",
     "output_type": "stream",
     "text": [
      "From: lerxst@wam.umd.edu (where's my thing)\n",
      "Subject: WHAT car is this!?\n",
      "Nntp-Posting-Host: rac3.wam.umd.edu\n",
      "Organization: University of Maryland, College Park\n",
      "Lines: 15\n",
      "\n",
      " I was wondering if anyone out there could enlighten me on this car I saw\n",
      "the other day. It was a 2-door sports car, looked to be from the late 60s/\n",
      "early 70s. It was called a Bricklin. The doors were really small. In addition,\n",
      "the front bumper was separate from the rest of the body. This is \n",
      "all I know. If anyone can tellme a model name, engine specs, years\n",
      "of production, where this car is made, history, or whatever info you\n",
      "have on this funky looking car, please e-mail.\n",
      "\n",
      "Thanks,\n",
      "- IL\n",
      "   ---- brought to you by your neighborhood Lerxst ----\n",
      "\n",
      "\n",
      "\n",
      "\n",
      "\n"
     ]
    }
   ],
   "source": [
    "print(newsgroups_train.data[0])"
   ]
  },
  {
   "cell_type": "markdown",
   "id": "4e9b06c2",
   "metadata": {
    "id": "03lDs1O4ZQ0-",
    "papermill": {
     "duration": 0.00599,
     "end_time": "2024-11-21T07:03:12.566480",
     "exception": false,
     "start_time": "2024-11-21T07:03:12.560490",
     "status": "completed"
    },
    "tags": []
   },
   "source": [
    "## Prepare the dataset\n",
    "\n",
    "You'll use the same pre-processing code you used for the custom model on day 2. This pre-processing removes personal information, which can be used to \"shortcut\" to known users of a forum, and formats the text to appear a bit more like regular text and less like a newsgroup post (e.g. by removing the mail headers). This normalisation allows the model to generalise to regular text and not over-depend on specific fields. If your input data is always going to be newsgroup posts, it may be helpful to leave this structure in place if they provide genuine signals."
   ]
  },
  {
   "cell_type": "code",
   "execution_count": 8,
   "id": "f10d34d5",
   "metadata": {
    "execution": {
     "iopub.execute_input": "2024-11-21T07:03:12.580348Z",
     "iopub.status.busy": "2024-11-21T07:03:12.579774Z",
     "iopub.status.idle": "2024-11-21T07:03:13.249227Z",
     "shell.execute_reply": "2024-11-21T07:03:13.248566Z"
    },
    "id": "IoNYTxpoZgB0",
    "papermill": {
     "duration": 0.678545,
     "end_time": "2024-11-21T07:03:13.251226",
     "exception": false,
     "start_time": "2024-11-21T07:03:12.572681",
     "status": "completed"
    },
    "tags": []
   },
   "outputs": [],
   "source": [
    "import email\n",
    "import re\n",
    "\n",
    "import pandas as pd\n",
    "\n",
    "\n",
    "def preprocess_newsgroup_row(data):\n",
    "    # Extract only the subject and body\n",
    "    msg = email.message_from_string(data)\n",
    "    text = f\"{msg['Subject']}\\n\\n{msg.get_payload()}\"\n",
    "    # Strip any remaining email addresses\n",
    "    text = re.sub(r\"[\\w\\.-]+@[\\w\\.-]+\", \"\", text)\n",
    "    # Truncate the text to fit within the input limits\n",
    "    text = text[:40000]\n",
    "\n",
    "    return text\n",
    "\n",
    "\n",
    "def preprocess_newsgroup_data(newsgroup_dataset):\n",
    "    # Put data points into dataframe\n",
    "    df = pd.DataFrame(\n",
    "        {\"Text\": newsgroup_dataset.data, \"Label\": newsgroup_dataset.target}\n",
    "    )\n",
    "    # Clean up the text\n",
    "    df[\"Text\"] = df[\"Text\"].apply(preprocess_newsgroup_row)\n",
    "    # Match label to target name index\n",
    "    df[\"Class Name\"] = df[\"Label\"].map(lambda l: newsgroup_dataset.target_names[l])\n",
    "\n",
    "    return df"
   ]
  },
  {
   "cell_type": "code",
   "execution_count": 9,
   "id": "653c0efe",
   "metadata": {
    "execution": {
     "iopub.execute_input": "2024-11-21T07:03:13.266054Z",
     "iopub.status.busy": "2024-11-21T07:03:13.265055Z",
     "iopub.status.idle": "2024-11-21T07:03:16.351284Z",
     "shell.execute_reply": "2024-11-21T07:03:16.350443Z"
    },
    "id": "kvOsUSRWaW4g",
    "papermill": {
     "duration": 3.095249,
     "end_time": "2024-11-21T07:03:16.353113",
     "exception": false,
     "start_time": "2024-11-21T07:03:13.257864",
     "status": "completed"
    },
    "tags": []
   },
   "outputs": [
    {
     "data": {
      "text/html": [
       "<div>\n",
       "<style scoped>\n",
       "    .dataframe tbody tr th:only-of-type {\n",
       "        vertical-align: middle;\n",
       "    }\n",
       "\n",
       "    .dataframe tbody tr th {\n",
       "        vertical-align: top;\n",
       "    }\n",
       "\n",
       "    .dataframe thead th {\n",
       "        text-align: right;\n",
       "    }\n",
       "</style>\n",
       "<table border=\"1\" class=\"dataframe\">\n",
       "  <thead>\n",
       "    <tr style=\"text-align: right;\">\n",
       "      <th></th>\n",
       "      <th>Text</th>\n",
       "      <th>Label</th>\n",
       "      <th>Class Name</th>\n",
       "    </tr>\n",
       "  </thead>\n",
       "  <tbody>\n",
       "    <tr>\n",
       "      <th>0</th>\n",
       "      <td>WHAT car is this!?\\n\\n I was wondering if anyo...</td>\n",
       "      <td>7</td>\n",
       "      <td>rec.autos</td>\n",
       "    </tr>\n",
       "    <tr>\n",
       "      <th>1</th>\n",
       "      <td>SI Clock Poll - Final Call\\n\\nA fair number of...</td>\n",
       "      <td>4</td>\n",
       "      <td>comp.sys.mac.hardware</td>\n",
       "    </tr>\n",
       "    <tr>\n",
       "      <th>2</th>\n",
       "      <td>PB questions...\\n\\nwell folks, my mac plus fin...</td>\n",
       "      <td>4</td>\n",
       "      <td>comp.sys.mac.hardware</td>\n",
       "    </tr>\n",
       "    <tr>\n",
       "      <th>3</th>\n",
       "      <td>Re: Weitek P9000 ?\\n\\nRobert J.C. Kyanko () wr...</td>\n",
       "      <td>1</td>\n",
       "      <td>comp.graphics</td>\n",
       "    </tr>\n",
       "    <tr>\n",
       "      <th>4</th>\n",
       "      <td>Re: Shuttle Launch Question\\n\\nFrom article &lt;&gt;...</td>\n",
       "      <td>14</td>\n",
       "      <td>sci.space</td>\n",
       "    </tr>\n",
       "  </tbody>\n",
       "</table>\n",
       "</div>"
      ],
      "text/plain": [
       "                                                Text  Label  \\\n",
       "0  WHAT car is this!?\\n\\n I was wondering if anyo...      7   \n",
       "1  SI Clock Poll - Final Call\\n\\nA fair number of...      4   \n",
       "2  PB questions...\\n\\nwell folks, my mac plus fin...      4   \n",
       "3  Re: Weitek P9000 ?\\n\\nRobert J.C. Kyanko () wr...      1   \n",
       "4  Re: Shuttle Launch Question\\n\\nFrom article <>...     14   \n",
       "\n",
       "              Class Name  \n",
       "0              rec.autos  \n",
       "1  comp.sys.mac.hardware  \n",
       "2  comp.sys.mac.hardware  \n",
       "3          comp.graphics  \n",
       "4              sci.space  "
      ]
     },
     "execution_count": 9,
     "metadata": {},
     "output_type": "execute_result"
    }
   ],
   "source": [
    "# Apply preprocessing to training and test datasets\n",
    "df_train = preprocess_newsgroup_data(newsgroups_train)\n",
    "df_test = preprocess_newsgroup_data(newsgroups_test)\n",
    "\n",
    "df_train.head()"
   ]
  },
  {
   "cell_type": "markdown",
   "id": "88ef1938",
   "metadata": {
    "id": "XSKcj5WtadaR",
    "papermill": {
     "duration": 0.006538,
     "end_time": "2024-11-21T07:03:16.366940",
     "exception": false,
     "start_time": "2024-11-21T07:03:16.360402",
     "status": "completed"
    },
    "tags": []
   },
   "source": [
    "Now sample the data. You will keep 50 rows for each category for training. Note that this is even fewer than the Keras example, as this technique (parameter-efficient fine-tuning, or PEFT) updates a relatively small number of parameters and does not require training a new model or updating the large model."
   ]
  },
  {
   "cell_type": "code",
   "execution_count": 10,
   "id": "93ef699f",
   "metadata": {
    "execution": {
     "iopub.execute_input": "2024-11-21T07:03:16.380963Z",
     "iopub.status.busy": "2024-11-21T07:03:16.380657Z",
     "iopub.status.idle": "2024-11-21T07:03:16.419335Z",
     "shell.execute_reply": "2024-11-21T07:03:16.418391Z"
    },
    "id": "0t9Xu6X5akkt",
    "papermill": {
     "duration": 0.047778,
     "end_time": "2024-11-21T07:03:16.421156",
     "exception": false,
     "start_time": "2024-11-21T07:03:16.373378",
     "status": "completed"
    },
    "tags": []
   },
   "outputs": [],
   "source": [
    "def sample_data(df, num_samples, classes_to_keep):\n",
    "    # Sample rows, selecting num_samples of each Label.\n",
    "    df = (\n",
    "        df.groupby(\"Label\")[df.columns]\n",
    "        .apply(lambda x: x.sample(num_samples))\n",
    "        .reset_index(drop=True)\n",
    "    )\n",
    "\n",
    "    df = df[df[\"Class Name\"].str.contains(classes_to_keep)]\n",
    "    df[\"Class Name\"] = df[\"Class Name\"].astype(\"category\")\n",
    "\n",
    "    return df\n",
    "\n",
    "\n",
    "TRAIN_NUM_SAMPLES = 50\n",
    "TEST_NUM_SAMPLES = 10\n",
    "# Keep rec.* and sci.*\n",
    "CLASSES_TO_KEEP = \"^rec|^sci\"\n",
    "\n",
    "df_train = sample_data(df_train, TRAIN_NUM_SAMPLES, CLASSES_TO_KEEP)\n",
    "df_test = sample_data(df_test, TEST_NUM_SAMPLES, CLASSES_TO_KEEP)"
   ]
  },
  {
   "cell_type": "markdown",
   "id": "5db5d95b",
   "metadata": {
    "papermill": {
     "duration": 0.006231,
     "end_time": "2024-11-21T07:03:16.434018",
     "exception": false,
     "start_time": "2024-11-21T07:03:16.427787",
     "status": "completed"
    },
    "tags": []
   },
   "source": [
    "## Evaluate baseline performance\n",
    "\n",
    "Before you start tuning a model, it's good practice to perform an evaluation on the available models to ensure you can measure how much the tuning helps.\n",
    "\n",
    "First identify a single sample row to use for visual inspection."
   ]
  },
  {
   "cell_type": "code",
   "execution_count": 11,
   "id": "b48a1990",
   "metadata": {
    "execution": {
     "iopub.execute_input": "2024-11-21T07:03:16.448313Z",
     "iopub.status.busy": "2024-11-21T07:03:16.447950Z",
     "iopub.status.idle": "2024-11-21T07:03:16.453187Z",
     "shell.execute_reply": "2024-11-21T07:03:16.452288Z"
    },
    "papermill": {
     "duration": 0.014528,
     "end_time": "2024-11-21T07:03:16.455060",
     "exception": false,
     "start_time": "2024-11-21T07:03:16.440532",
     "status": "completed"
    },
    "tags": []
   },
   "outputs": [
    {
     "name": "stdout",
     "output_type": "stream",
     "text": [
      "Need info on 88-89 Bonneville\n",
      "\n",
      "\n",
      " I am a little confused on all of the models of the 88-89 bonnevilles.\n",
      "I have heard of the LE SE LSE SSE SSEI. Could someone tell me the\n",
      "differences are far as features or performance. I am also curious to\n",
      "know what the book value is for prefereably the 89 model. And how much\n",
      "less than book value can you usually get them for. In other words how\n",
      "much are they in demand this time of year. I have heard that the mid-spring\n",
      "early summer is the best time to buy.\n",
      "\n",
      "\t\t\tNeil Gandler\n",
      "\n",
      "---\n",
      "Label: rec.autos\n"
     ]
    }
   ],
   "source": [
    "sample_idx = 0\n",
    "sample_row = preprocess_newsgroup_row(newsgroups_test.data[sample_idx])\n",
    "sample_label = newsgroups_test.target_names[newsgroups_test.target[sample_idx]]\n",
    "\n",
    "print(sample_row)\n",
    "print('---')\n",
    "print('Label:', sample_label)"
   ]
  },
  {
   "cell_type": "markdown",
   "id": "6999e9c4",
   "metadata": {
    "papermill": {
     "duration": 0.006702,
     "end_time": "2024-11-21T07:03:16.468638",
     "exception": false,
     "start_time": "2024-11-21T07:03:16.461936",
     "status": "completed"
    },
    "tags": []
   },
   "source": [
    "Passing the text directly in as a prompt does not yield the desired results. The model will attempt to respond to the message."
   ]
  },
  {
   "cell_type": "code",
   "execution_count": 12,
   "id": "9bf342fb",
   "metadata": {
    "execution": {
     "iopub.execute_input": "2024-11-21T07:03:16.482640Z",
     "iopub.status.busy": "2024-11-21T07:03:16.482353Z",
     "iopub.status.idle": "2024-11-21T07:03:20.184894Z",
     "shell.execute_reply": "2024-11-21T07:03:20.184061Z"
    },
    "papermill": {
     "duration": 3.711981,
     "end_time": "2024-11-21T07:03:20.187122",
     "exception": false,
     "start_time": "2024-11-21T07:03:16.475141",
     "status": "completed"
    },
    "tags": []
   },
   "outputs": [
    {
     "name": "stdout",
     "output_type": "stream",
     "text": [
      "You're right, the Bonneville lineup for 1988-1989 can be confusing! Let's break down the different models and their features:\n",
      "\n",
      "**Bonneville Models (1988-1989)**\n",
      "\n",
      "* **Base Bonneville:** The standard model, equipped with a 3.8L V6 engine, cloth upholstery, and basic features.\n",
      "* **LE (Luxury Edition):**  Added features over the base model like power windows and locks, better upholstery, and a rear window defroster.\n",
      "* **SE (Special Edition):** A sporty version with a 3.8L V6 engine,  unique exterior styling, and interior upgrades. \n",
      "* **LSE (Luxury Special Edition):** Combined the features of the LE and SE, offering a blend of luxury and sportiness.\n",
      "* **SSE (Sport Sedan Edition):** The top-of-the-line model with a 3.8L V6 engine (sometimes with a turbocharger option), a sport-tuned suspension, and unique interior and exterior trim.\n",
      "* **SSEi (Sport Sedan Edition Injected):** Similar to the SSE but featured a fuel-injected version of the 3.8L V6, providing improved performance.\n",
      "\n",
      "**Key Differences:**\n",
      "\n",
      "* **Engine:** The 3.8L V6 engine was standard across the lineup, but the SSE and SSEi often had a turbocharged option for increased power.\n",
      "* **Features:** Luxury features like leather upholstery, power seats, and sunroof were primarily available on the LE, LSE, and SSE models.\n",
      "* **Styling:** Sporty models like the SE and SSE had unique exterior styling cues like spoilers and specific wheel designs.\n",
      "\n",
      "**Book Value:**\n",
      "\n",
      "Determining the book value of a 1989 Bonneville can be tricky.  Here are some resources you can use:\n",
      "\n",
      "* **KBB (Kelley Blue Book):** Provides estimated values based on the model, mileage, condition, and location. You can find this online at kbb.com.\n",
      "* **NADA (National Automobile Dealers Association):** Offers similar valuation services to KBB.\n",
      "* **Edmunds:** Another popular resource for car valuation.\n",
      "\n",
      "**Negotiating Price:**\n",
      "\n",
      "* **Demand:** You're right that the spring and early summer months are often considered a good time to buy used cars, as dealerships may be trying to move inventory.\n",
      "* **Negotiating:** Aim for a price that is at least 10-20% below the book value, depending on the car's condition and mileage.  Be prepared to walk away if the seller isn't willing to negotiate.\n",
      "\n",
      "**Additional Tips:**\n",
      "\n",
      "* **Condition:** Look for a car with a clean history report (CARFAX or AutoCheck). Check for any signs of rust, damage, or excessive wear and tear.\n",
      "* **Test Drive:** Always take a test drive to assess how the car handles and ensure everything is working properly.\n",
      "* **Mechanic Inspection:** Consider getting a pre-purchase inspection from a trusted mechanic to identify any potential problems before you buy.\n",
      "\n",
      "**Remember:** Pricing for older vehicles like the 1989 Bonneville can vary significantly based on condition, mileage, and location. The resources mentioned above can give you a good starting point, but don't be afraid to negotiate! \n",
      "\n"
     ]
    }
   ],
   "source": [
    "baseline_model = genai.GenerativeModel(\"gemini-1.5-flash-001\")\n",
    "response = baseline_model.generate_content(sample_row)\n",
    "print(response.text)"
   ]
  },
  {
   "cell_type": "markdown",
   "id": "3e18abb9",
   "metadata": {
    "papermill": {
     "duration": 0.006393,
     "end_time": "2024-11-21T07:03:20.200551",
     "exception": false,
     "start_time": "2024-11-21T07:03:20.194158",
     "status": "completed"
    },
    "tags": []
   },
   "source": [
    "You can use the prompt engineering techniques you have learned this week to induce the model to perform the desired task. Try some of your own ideas and see what is effective, or check out the following cells for different approaches. Note that they have different levels of effectiveness!"
   ]
  },
  {
   "cell_type": "code",
   "execution_count": 13,
   "id": "83b97f86",
   "metadata": {
    "execution": {
     "iopub.execute_input": "2024-11-21T07:03:20.214905Z",
     "iopub.status.busy": "2024-11-21T07:03:20.214625Z",
     "iopub.status.idle": "2024-11-21T07:03:21.410803Z",
     "shell.execute_reply": "2024-11-21T07:03:21.409772Z"
    },
    "papermill": {
     "duration": 1.20555,
     "end_time": "2024-11-21T07:03:21.412685",
     "exception": false,
     "start_time": "2024-11-21T07:03:20.207135",
     "status": "completed"
    },
    "tags": []
   },
   "outputs": [
    {
     "name": "stdout",
     "output_type": "stream",
     "text": [
      "Based on the content and formatting of the message, it is most likely from the **rec.autos.pontiac** newsgroup. \n",
      "\n",
      "Here's why:\n",
      "\n",
      "* **Subject Matter:** The message specifically discusses Pontiac Bonnevilles, a car model manufactured by Pontiac. \n",
      "* **Audience:** The message is addressed to a general audience interested in Pontiac Bonnevilles, which aligns with the target audience of the rec.autos.pontiac newsgroup.\n",
      "* **Tone:** The message is informational and seeks advice, typical of discussions in automotive enthusiast newsgroups.\n",
      "\n",
      "While it's possible the message could be from other newsgroups related to cars or Pontiacs, rec.autos.pontiac is the most likely source given the content and context. \n",
      "\n"
     ]
    }
   ],
   "source": [
    "# Ask the model directly in a zero-shot prompt.\n",
    "\n",
    "prompt = \"From what newsgroup does the following message originate?\"\n",
    "baseline_response = baseline_model.generate_content([prompt, sample_row])\n",
    "print(baseline_response.text)"
   ]
  },
  {
   "cell_type": "markdown",
   "id": "53aeb0ba",
   "metadata": {
    "papermill": {
     "duration": 0.006609,
     "end_time": "2024-11-21T07:03:21.426467",
     "exception": false,
     "start_time": "2024-11-21T07:03:21.419858",
     "status": "completed"
    },
    "tags": []
   },
   "source": [
    "That technique produces quite a verbose response. You could try and pick out the relevant text, or refine the prompt even further."
   ]
  },
  {
   "cell_type": "code",
   "execution_count": 14,
   "id": "d63bfe4c",
   "metadata": {
    "execution": {
     "iopub.execute_input": "2024-11-21T07:03:21.441434Z",
     "iopub.status.busy": "2024-11-21T07:03:21.441098Z",
     "iopub.status.idle": "2024-11-21T07:03:21.856944Z",
     "shell.execute_reply": "2024-11-21T07:03:21.855972Z"
    },
    "papermill": {
     "duration": 0.42561,
     "end_time": "2024-11-21T07:03:21.858872",
     "exception": false,
     "start_time": "2024-11-21T07:03:21.433262",
     "status": "completed"
    },
    "tags": []
   },
   "outputs": [
    {
     "name": "stdout",
     "output_type": "stream",
     "text": [
      "rec.autos.misc\n",
      "\n",
      "Incorrect.\n"
     ]
    }
   ],
   "source": [
    "from google.api_core import retry\n",
    "\n",
    "# You can use a system instruction to do more direct prompting, and get a\n",
    "# more succinct answer.\n",
    "\n",
    "system_instruct = \"\"\"\n",
    "You are a classification service. You will be passed input that represents\n",
    "a newsgroup post and you must respond with the newsgroup from which the post\n",
    "originates.\n",
    "\"\"\"\n",
    "\n",
    "instructed_model = genai.GenerativeModel(\"gemini-1.5-flash-001\",\n",
    "                                         system_instruction=system_instruct)\n",
    "\n",
    "retry_policy = {\"retry\": retry.Retry(predicate=retry.if_transient_error)}\n",
    "\n",
    "# If you want to evaluate your own technique, replace this function with your\n",
    "# model, prompt and other code and return the predicted answer.\n",
    "def predict_label(post: str) -> str:\n",
    "    response = instructed_model.generate_content(post, request_options=retry_policy)\n",
    "    rc = response.candidates[0]\n",
    "\n",
    "    # Any errors, filters, recitation, etc we can mark as a general error\n",
    "    if rc.finish_reason.name != \"STOP\":\n",
    "        return \"(error)\"\n",
    "    else:\n",
    "        # Clean up the response.\n",
    "        return response.text.strip()\n",
    "\n",
    "\n",
    "prediction = predict_label(sample_row)\n",
    "\n",
    "print(prediction)\n",
    "print()\n",
    "print(\"Correct!\" if prediction == sample_label else \"Incorrect.\")"
   ]
  },
  {
   "cell_type": "markdown",
   "id": "fbb1adee",
   "metadata": {
    "papermill": {
     "duration": 0.006498,
     "end_time": "2024-11-21T07:03:21.872931",
     "exception": false,
     "start_time": "2024-11-21T07:03:21.866433",
     "status": "completed"
    },
    "tags": []
   },
   "source": [
    "Now run a short evaluation using the function defined above. The test set is further sampled to ensure the experiment runs smoothly on the API's free tier. In practice you would evaluate over the whole set."
   ]
  },
  {
   "cell_type": "code",
   "execution_count": 15,
   "id": "4b23b5b8",
   "metadata": {
    "execution": {
     "iopub.execute_input": "2024-11-21T07:03:21.887650Z",
     "iopub.status.busy": "2024-11-21T07:03:21.887361Z",
     "iopub.status.idle": "2024-11-21T07:04:39.800574Z",
     "shell.execute_reply": "2024-11-21T07:04:39.799627Z"
    },
    "papermill": {
     "duration": 77.922724,
     "end_time": "2024-11-21T07:04:39.802459",
     "exception": false,
     "start_time": "2024-11-21T07:03:21.879735",
     "status": "completed"
    },
    "tags": []
   },
   "outputs": [
    {
     "data": {
      "application/vnd.jupyter.widget-view+json": {
       "model_id": "4df01875f2dc4061abd61eec850eeb04",
       "version_major": 2,
       "version_minor": 0
      },
      "text/plain": [
       "Output()"
      ]
     },
     "metadata": {},
     "output_type": "display_data"
    },
    {
     "name": "stderr",
     "output_type": "stream",
     "text": [
      "/opt/conda/lib/python3.10/site-packages/tqdm/std.py:885: TqdmExperimentalWarning: rich is experimental/alpha\n",
      "  t = cls(total=total, **tqdm_kwargs)\n"
     ]
    },
    {
     "data": {
      "text/html": [
       "<pre style=\"white-space:pre;overflow-x:auto;line-height:normal;font-family:Menlo,'DejaVu Sans Mono',consolas,'Courier New',monospace\"></pre>\n"
      ],
      "text/plain": []
     },
     "metadata": {},
     "output_type": "display_data"
    },
    {
     "name": "stdout",
     "output_type": "stream",
     "text": [
      "Accuracy: 31.25%\n"
     ]
    }
   ],
   "source": [
    "from tqdm.rich import tqdm\n",
    "\n",
    "tqdm.pandas()\n",
    "\n",
    "\n",
    "# Further sample the test data to be mindful of the free-tier quota.\n",
    "df_baseline_eval = sample_data(df_test, 2, '.*')\n",
    "\n",
    "# Make predictions using the sampled data.\n",
    "df_baseline_eval['Prediction'] = df_baseline_eval['Text'].progress_apply(predict_label)\n",
    "\n",
    "# And calculate the accuracy.\n",
    "accuracy = (df_baseline_eval[\"Class Name\"] == df_baseline_eval[\"Prediction\"]).sum() / len(df_baseline_eval)\n",
    "print(f\"Accuracy: {accuracy:.2%}\")"
   ]
  },
  {
   "cell_type": "markdown",
   "id": "32ca3c80",
   "metadata": {
    "papermill": {
     "duration": 0.009328,
     "end_time": "2024-11-21T07:04:39.821965",
     "exception": false,
     "start_time": "2024-11-21T07:04:39.812637",
     "status": "completed"
    },
    "tags": []
   },
   "source": [
    "Now take a look at the dataframe to compare the predictions with the labels."
   ]
  },
  {
   "cell_type": "code",
   "execution_count": 16,
   "id": "30fcfc2b",
   "metadata": {
    "execution": {
     "iopub.execute_input": "2024-11-21T07:04:41.587860Z",
     "iopub.status.busy": "2024-11-21T07:04:41.587217Z",
     "iopub.status.idle": "2024-11-21T07:04:41.597184Z",
     "shell.execute_reply": "2024-11-21T07:04:41.596379Z"
    },
    "papermill": {
     "duration": 1.767502,
     "end_time": "2024-11-21T07:04:41.598797",
     "exception": false,
     "start_time": "2024-11-21T07:04:39.831295",
     "status": "completed"
    },
    "tags": []
   },
   "outputs": [
    {
     "data": {
      "text/html": [
       "<div>\n",
       "<style scoped>\n",
       "    .dataframe tbody tr th:only-of-type {\n",
       "        vertical-align: middle;\n",
       "    }\n",
       "\n",
       "    .dataframe tbody tr th {\n",
       "        vertical-align: top;\n",
       "    }\n",
       "\n",
       "    .dataframe thead th {\n",
       "        text-align: right;\n",
       "    }\n",
       "</style>\n",
       "<table border=\"1\" class=\"dataframe\">\n",
       "  <thead>\n",
       "    <tr style=\"text-align: right;\">\n",
       "      <th></th>\n",
       "      <th>Text</th>\n",
       "      <th>Label</th>\n",
       "      <th>Class Name</th>\n",
       "      <th>Prediction</th>\n",
       "    </tr>\n",
       "  </thead>\n",
       "  <tbody>\n",
       "    <tr>\n",
       "      <th>0</th>\n",
       "      <td>Re: V4 V6 V8 V12 Vx?\\n\\nThe Devil Reincarnate ...</td>\n",
       "      <td>7</td>\n",
       "      <td>rec.autos</td>\n",
       "      <td>rec.autos.sports.cars</td>\n",
       "    </tr>\n",
       "    <tr>\n",
       "      <th>1</th>\n",
       "      <td>Re: Car buying story, was: Christ, another dea...</td>\n",
       "      <td>7</td>\n",
       "      <td>rec.autos</td>\n",
       "      <td>rec.autos.misc</td>\n",
       "    </tr>\n",
       "    <tr>\n",
       "      <th>2</th>\n",
       "      <td>Bub Pipes! Live Free, with Variable Loudness!\\...</td>\n",
       "      <td>8</td>\n",
       "      <td>rec.motorcycles</td>\n",
       "      <td>rec.motorcycles</td>\n",
       "    </tr>\n",
       "    <tr>\n",
       "      <th>3</th>\n",
       "      <td>Re: Well blow me down. yuk,yuk,yuk\\n\\nIn artic...</td>\n",
       "      <td>8</td>\n",
       "      <td>rec.motorcycles</td>\n",
       "      <td>rec.motorcycles</td>\n",
       "    </tr>\n",
       "    <tr>\n",
       "      <th>4</th>\n",
       "      <td>Re: Jack Morris\\n\\nIn article &lt;&gt;,  (Roger Mayn...</td>\n",
       "      <td>9</td>\n",
       "      <td>rec.sport.baseball</td>\n",
       "      <td>rec.sports.baseball</td>\n",
       "    </tr>\n",
       "    <tr>\n",
       "      <th>5</th>\n",
       "      <td>Re: Winfield's spot on THE ALL TIME GREATS TEA...</td>\n",
       "      <td>9</td>\n",
       "      <td>rec.sport.baseball</td>\n",
       "      <td>rec.sports.baseball</td>\n",
       "    </tr>\n",
       "    <tr>\n",
       "      <th>6</th>\n",
       "      <td>Re: ? Octopus\\n\\n\\nIn article &lt;&gt;, \\n(Laurie Ma...</td>\n",
       "      <td>10</td>\n",
       "      <td>rec.sport.hockey</td>\n",
       "      <td>rec.sports.hockey</td>\n",
       "    </tr>\n",
       "    <tr>\n",
       "      <th>7</th>\n",
       "      <td>Re: div. and conf. names\\n\\nIn article &lt;&gt;  (Ro...</td>\n",
       "      <td>10</td>\n",
       "      <td>rec.sport.hockey</td>\n",
       "      <td>rec.sport.hockey</td>\n",
       "    </tr>\n",
       "    <tr>\n",
       "      <th>8</th>\n",
       "      <td>Re: Once tapped, your code is no good any more...</td>\n",
       "      <td>11</td>\n",
       "      <td>sci.crypt</td>\n",
       "      <td>(error)</td>\n",
       "    </tr>\n",
       "    <tr>\n",
       "      <th>9</th>\n",
       "      <td>Re: What would happen if export restrictions v...</td>\n",
       "      <td>11</td>\n",
       "      <td>sci.crypt</td>\n",
       "      <td>(error)</td>\n",
       "    </tr>\n",
       "    <tr>\n",
       "      <th>10</th>\n",
       "      <td>Re: Need Info on DSP project\\n\\nThere is a fil...</td>\n",
       "      <td>12</td>\n",
       "      <td>sci.electronics</td>\n",
       "      <td>comp.dsp</td>\n",
       "    </tr>\n",
       "    <tr>\n",
       "      <th>11</th>\n",
       "      <td>Re: Can Radio Freq. Be Used To Measure Distanc...</td>\n",
       "      <td>12</td>\n",
       "      <td>sci.electronics</td>\n",
       "      <td>sci.electronics</td>\n",
       "    </tr>\n",
       "    <tr>\n",
       "      <th>12</th>\n",
       "      <td>Re: Krillean Photography\\n\\n\\nPoor person's Ki...</td>\n",
       "      <td>13</td>\n",
       "      <td>sci.med</td>\n",
       "      <td>alt.photography</td>\n",
       "    </tr>\n",
       "    <tr>\n",
       "      <th>13</th>\n",
       "      <td>Re: Krillean Photography\\n\\nIn article &lt;&gt;  (Al...</td>\n",
       "      <td>13</td>\n",
       "      <td>sci.med</td>\n",
       "      <td>sci.skeptic</td>\n",
       "    </tr>\n",
       "    <tr>\n",
       "      <th>14</th>\n",
       "      <td>Re: moon image in weather sat image\\n\\n\\nI'm a...</td>\n",
       "      <td>14</td>\n",
       "      <td>sci.space</td>\n",
       "      <td>(error)</td>\n",
       "    </tr>\n",
       "    <tr>\n",
       "      <th>15</th>\n",
       "      <td>Re: Satellite around Pluto Mission? \\n\\nIn art...</td>\n",
       "      <td>14</td>\n",
       "      <td>sci.space</td>\n",
       "      <td>sci.space</td>\n",
       "    </tr>\n",
       "  </tbody>\n",
       "</table>\n",
       "</div>"
      ],
      "text/plain": [
       "                                                 Text  Label  \\\n",
       "0   Re: V4 V6 V8 V12 Vx?\\n\\nThe Devil Reincarnate ...      7   \n",
       "1   Re: Car buying story, was: Christ, another dea...      7   \n",
       "2   Bub Pipes! Live Free, with Variable Loudness!\\...      8   \n",
       "3   Re: Well blow me down. yuk,yuk,yuk\\n\\nIn artic...      8   \n",
       "4   Re: Jack Morris\\n\\nIn article <>,  (Roger Mayn...      9   \n",
       "5   Re: Winfield's spot on THE ALL TIME GREATS TEA...      9   \n",
       "6   Re: ? Octopus\\n\\n\\nIn article <>, \\n(Laurie Ma...     10   \n",
       "7   Re: div. and conf. names\\n\\nIn article <>  (Ro...     10   \n",
       "8   Re: Once tapped, your code is no good any more...     11   \n",
       "9   Re: What would happen if export restrictions v...     11   \n",
       "10  Re: Need Info on DSP project\\n\\nThere is a fil...     12   \n",
       "11  Re: Can Radio Freq. Be Used To Measure Distanc...     12   \n",
       "12  Re: Krillean Photography\\n\\n\\nPoor person's Ki...     13   \n",
       "13  Re: Krillean Photography\\n\\nIn article <>  (Al...     13   \n",
       "14  Re: moon image in weather sat image\\n\\n\\nI'm a...     14   \n",
       "15  Re: Satellite around Pluto Mission? \\n\\nIn art...     14   \n",
       "\n",
       "            Class Name             Prediction  \n",
       "0            rec.autos  rec.autos.sports.cars  \n",
       "1            rec.autos         rec.autos.misc  \n",
       "2      rec.motorcycles        rec.motorcycles  \n",
       "3      rec.motorcycles        rec.motorcycles  \n",
       "4   rec.sport.baseball    rec.sports.baseball  \n",
       "5   rec.sport.baseball    rec.sports.baseball  \n",
       "6     rec.sport.hockey      rec.sports.hockey  \n",
       "7     rec.sport.hockey       rec.sport.hockey  \n",
       "8            sci.crypt                (error)  \n",
       "9            sci.crypt                (error)  \n",
       "10     sci.electronics               comp.dsp  \n",
       "11     sci.electronics        sci.electronics  \n",
       "12             sci.med        alt.photography  \n",
       "13             sci.med            sci.skeptic  \n",
       "14           sci.space                (error)  \n",
       "15           sci.space              sci.space  "
      ]
     },
     "execution_count": 16,
     "metadata": {},
     "output_type": "execute_result"
    }
   ],
   "source": [
    "df_baseline_eval"
   ]
  },
  {
   "cell_type": "markdown",
   "id": "9644f166",
   "metadata": {
    "id": "Ok7ugrLzcghX",
    "papermill": {
     "duration": 0.006896,
     "end_time": "2024-11-21T07:04:41.613524",
     "exception": false,
     "start_time": "2024-11-21T07:04:41.606628",
     "status": "completed"
    },
    "tags": []
   },
   "source": [
    "## Tune a custom model\n",
    "\n",
    "In this example you'll use tuning to help create a model that requires no prompting or system instructions and outputs succinct text from the classes you provide in the training data.\n",
    "\n",
    "The data contains both input text (the processed posts) and output text (the category, or newsgroup), which you can use to start tuning a model.\n",
    "\n",
    "The Python SDK for tuning supports Pandas dataframes as input, so you don't need any custom data generators or pipelines. Just specify the input and the relevant columns as the `input_key` and `output_key`.\n",
    "\n",
    "When calling `create_tuned_model`, you can specify model tuning hyperparameters too:\n",
    " - `epoch_count`: defines how many times to loop through the data,\n",
    " - `batch_size`: defines how many rows to process in a single step, and\n",
    " - `learning_rate`: defines the scaling factor for updating model weights at each step.\n",
    "\n",
    "You can also choose to omit them and use the defaults. [Learn more](https://developers.google.com/machine-learning/crash-course/linear-regression/hyperparameters) about these parameters and how they work. For this example these parameters were selected by running some tuning jobs and selecting parameters that were both effective and quick."
   ]
  },
  {
   "cell_type": "code",
   "execution_count": 17,
   "id": "c79aaeb3",
   "metadata": {
    "execution": {
     "iopub.execute_input": "2024-11-21T07:04:41.628977Z",
     "iopub.status.busy": "2024-11-21T07:04:41.628469Z",
     "iopub.status.idle": "2024-11-21T07:04:42.555097Z",
     "shell.execute_reply": "2024-11-21T07:04:42.554039Z"
    },
    "id": "pWOZlspfY8dV",
    "papermill": {
     "duration": 0.936234,
     "end_time": "2024-11-21T07:04:42.556785",
     "exception": false,
     "start_time": "2024-11-21T07:04:41.620551",
     "status": "completed"
    },
    "tags": []
   },
   "outputs": [
    {
     "name": "stdout",
     "output_type": "stream",
     "text": [
      "newsgroup-classifier-94527\n"
     ]
    }
   ],
   "source": [
    "from collections.abc import Iterable\n",
    "import random\n",
    "\n",
    "\n",
    "# Append a random number to the model ID so you can re-run with a higher chance\n",
    "# of creating a unique model ID.\n",
    "model_id = f\"newsgroup-classifier-{random.randint(10000, 99999)}\"\n",
    "\n",
    "# Upload the training data and queue the tuning job.\n",
    "tuning_op = genai.create_tuned_model(\n",
    "    \"models/gemini-1.5-flash-001-tuning\",\n",
    "    training_data=df_train,\n",
    "    input_key=\"Text\",  # the column to use as input\n",
    "    output_key=\"Class Name\",  # the column to use as output\n",
    "    id=model_id,\n",
    "    display_name=\"Newsgroup classification model\",\n",
    "    batch_size=16,\n",
    "    epoch_count=2,\n",
    ")\n",
    "\n",
    "print(model_id)"
   ]
  },
  {
   "cell_type": "markdown",
   "id": "fea7c80f",
   "metadata": {
    "id": "NQ3YZ2MBubCY",
    "papermill": {
     "duration": 0.006941,
     "end_time": "2024-11-21T07:04:42.571225",
     "exception": false,
     "start_time": "2024-11-21T07:04:42.564284",
     "status": "completed"
    },
    "tags": []
   },
   "source": [
    "This has created a tuning job that will run in the background. To inspect the progress of the tuning job, run this cell to plot the current status and loss curve. Once the status reaches `ACTIVE`, tuning is complete and the model is ready to use.\n",
    "\n",
    "Tuning jobs are queued, so it may look like no training steps have been taken initially but it will progress. Tuning can take upwards of 20 minutes, depending on factors like your dataset size and how busy the tuning infrastrature is. Why not treat yourself to a nice cup of tea while you wait, or come and say \"Hi!\" to [yours truly](https://discord.com/users/132124213132787712) in the group [Discord](https://discord.com/invite/kaggle).\n",
    "\n",
    "It is safe to stop this cell at any point. It will not stop the tuning job."
   ]
  },
  {
   "cell_type": "code",
   "execution_count": 18,
   "id": "1c607805",
   "metadata": {
    "execution": {
     "iopub.execute_input": "2024-11-21T07:04:42.586732Z",
     "iopub.status.busy": "2024-11-21T07:04:42.586421Z",
     "iopub.status.idle": "2024-11-21T07:09:45.418672Z",
     "shell.execute_reply": "2024-11-21T07:09:45.417783Z"
    },
    "id": "c4ef5f13692d",
    "papermill": {
     "duration": 302.842175,
     "end_time": "2024-11-21T07:09:45.420517",
     "exception": false,
     "start_time": "2024-11-21T07:04:42.578342",
     "status": "completed"
    },
    "tags": []
   },
   "outputs": [
    {
     "name": "stdout",
     "output_type": "stream",
     "text": [
      "State.CREATING\n",
      "State.CREATING\n",
      "State.CREATING\n",
      "State.CREATING\n",
      "State.CREATING\n",
      "Done! The model is ACTIVE\n"
     ]
    },
    {
     "name": "stderr",
     "output_type": "stream",
     "text": [
      "/opt/conda/lib/python3.10/site-packages/seaborn/_oldcore.py:1119: FutureWarning: use_inf_as_na option is deprecated and will be removed in a future version. Convert inf values to NaN before operating instead.\n",
      "  with pd.option_context('mode.use_inf_as_na', True):\n",
      "/opt/conda/lib/python3.10/site-packages/seaborn/_oldcore.py:1119: FutureWarning: use_inf_as_na option is deprecated and will be removed in a future version. Convert inf values to NaN before operating instead.\n",
      "  with pd.option_context('mode.use_inf_as_na', True):\n"
     ]
    },
    {
     "data": {
      "text/plain": [
       "<Axes: xlabel='step', ylabel='mean_loss'>"
      ]
     },
     "execution_count": 18,
     "metadata": {},
     "output_type": "execute_result"
    },
    {
     "data": {
      "image/png": "[encoded data removed]",
      "text/plain": [
       "<Figure size 640x480 with 1 Axes>"
      ]
     },
     "metadata": {},
     "output_type": "display_data"
    }
   ],
   "source": [
    "import time\n",
    "import seaborn as sns\n",
    "\n",
    "\n",
    "while (tuned_model := genai.get_tuned_model(f\"tunedModels/{model_id}\")).state.name != 'ACTIVE':\n",
    "\n",
    "    print(tuned_model.state)\n",
    "    time.sleep(60)\n",
    "\n",
    "print(f\"Done! The model is {tuned_model.state.name}\")\n",
    "\n",
    "# Plot the loss curve.\n",
    "snapshots = pd.DataFrame(tuned_model.tuning_task.snapshots)\n",
    "sns.lineplot(data=snapshots, x=\"step\", y=\"mean_loss\")\n"
   ]
  },
  {
   "cell_type": "markdown",
   "id": "eca96ead",
   "metadata": {
    "id": "9-qiIdK4u80z",
    "papermill": {
     "duration": 0.007785,
     "end_time": "2024-11-21T07:09:45.436925",
     "exception": false,
     "start_time": "2024-11-21T07:09:45.429140",
     "status": "completed"
    },
    "tags": []
   },
   "source": [
    "Note that the `seaborn` module may output warnings containing `FutureWarning: use_inf_as_na option is deprecated`. These are expected and can be ignored."
   ]
  },
  {
   "cell_type": "markdown",
   "id": "2e6e4664",
   "metadata": {
    "id": "9-qiIdK4u80z",
    "papermill": {
     "duration": 0.007706,
     "end_time": "2024-11-21T07:09:45.452540",
     "exception": false,
     "start_time": "2024-11-21T07:09:45.444834",
     "status": "completed"
    },
    "tags": []
   },
   "source": [
    "## Use the new model\n",
    "\n",
    "Now that you have a tuned model, try it out with custom data. You use the same API as a normal Gemini API interaction, but you specify your new model as the model name, using the `tunedModels/` prefix."
   ]
  },
  {
   "cell_type": "code",
   "execution_count": 19,
   "id": "e8b6a4b3",
   "metadata": {
    "execution": {
     "iopub.execute_input": "2024-11-21T07:09:45.470514Z",
     "iopub.status.busy": "2024-11-21T07:09:45.469511Z",
     "iopub.status.idle": "2024-11-21T07:09:55.029839Z",
     "shell.execute_reply": "2024-11-21T07:09:55.028832Z"
    },
    "id": "hyO2-MXLvM6a",
    "papermill": {
     "duration": 9.571377,
     "end_time": "2024-11-21T07:09:55.031771",
     "exception": false,
     "start_time": "2024-11-21T07:09:45.460394",
     "status": "completed"
    },
    "tags": []
   },
   "outputs": [
    {
     "name": "stdout",
     "output_type": "stream",
     "text": [
      "sci.space\n"
     ]
    }
   ],
   "source": [
    "your_model = genai.GenerativeModel(f\"tunedModels/{model_id}\")\n",
    "\n",
    "new_text = \"\"\"\n",
    "First-timer looking to get out of here.\n",
    "\n",
    "Hi, I'm writing about my interest in travelling to the outer limits!\n",
    "\n",
    "What kind of craft can I buy? What is easiest to access from this 3rd rock?\n",
    "\n",
    "Let me know how to do that please.\n",
    "\"\"\"\n",
    "\n",
    "response = your_model.generate_content(new_text)\n",
    "print(response.text)"
   ]
  },
  {
   "cell_type": "markdown",
   "id": "2ce7fcdc",
   "metadata": {
    "id": "xajLek9DySH_",
    "papermill": {
     "duration": 0.007955,
     "end_time": "2024-11-21T07:09:55.048030",
     "exception": false,
     "start_time": "2024-11-21T07:09:55.040075",
     "status": "completed"
    },
    "tags": []
   },
   "source": [
    "### Evaluation\n",
    "\n",
    "You can see that the model outputs labels that correspond to those in the training data, and without any system instructions or prompting, which is already a great improvement. Now see how well it performs on the test set.\n",
    "\n",
    "Note that there is no parallelism in this example; classifying the test sub-set will take a few minutes."
   ]
  },
  {
   "cell_type": "code",
   "execution_count": 20,
   "id": "d5dc7ffc",
   "metadata": {
    "execution": {
     "iopub.execute_input": "2024-11-21T07:09:55.065520Z",
     "iopub.status.busy": "2024-11-21T07:09:55.064840Z",
     "iopub.status.idle": "2024-11-21T07:11:40.328926Z",
     "shell.execute_reply": "2024-11-21T07:11:40.328048Z"
    },
    "id": "6T2Y3ZApvbMw",
    "papermill": {
     "duration": 105.275672,
     "end_time": "2024-11-21T07:11:40.331601",
     "exception": false,
     "start_time": "2024-11-21T07:09:55.055929",
     "status": "completed"
    },
    "tags": []
   },
   "outputs": [
    {
     "data": {
      "application/vnd.jupyter.widget-view+json": {
       "model_id": "4b529d00a31f425aabc609edfdd50b47",
       "version_major": 2,
       "version_minor": 0
      },
      "text/plain": [
       "Output()"
      ]
     },
     "metadata": {},
     "output_type": "display_data"
    },
    {
     "name": "stderr",
     "output_type": "stream",
     "text": [
      "/opt/conda/lib/python3.10/site-packages/tqdm/std.py:885: TqdmExperimentalWarning: rich is experimental/alpha\n",
      "  t = cls(total=total, **tqdm_kwargs)\n"
     ]
    },
    {
     "data": {
      "text/html": [
       "<pre style=\"white-space:pre;overflow-x:auto;line-height:normal;font-family:Menlo,'DejaVu Sans Mono',consolas,'Courier New',monospace\"></pre>\n"
      ],
      "text/plain": []
     },
     "metadata": {},
     "output_type": "display_data"
    },
    {
     "name": "stdout",
     "output_type": "stream",
     "text": [
      "Accuracy: 96.88%\n"
     ]
    }
   ],
   "source": [
    "def classify_text(text: str) -> str:\n",
    "    \"\"\"Classify the provided text into a known newsgroup.\"\"\"\n",
    "    response = your_model.generate_content(text, request_options=retry_policy)\n",
    "    rc = response.candidates[0]\n",
    "\n",
    "    # Any errors, filters, recitation, etc we can mark as a general error\n",
    "    if rc.finish_reason.name != \"STOP\":\n",
    "        return \"(error)\"\n",
    "    else:\n",
    "        return rc.content.parts[0].text\n",
    "\n",
    "\n",
    "# The sampling here is just to minimise your quota usage. If you can, you should\n",
    "# evaluate the whole test set with `df_model_eval = df_test.copy()`.\n",
    "df_model_eval = sample_data(df_test, 4, '.*')\n",
    "\n",
    "\n",
    "df_model_eval[\"Prediction\"] = df_model_eval[\"Text\"].progress_apply(classify_text)\n",
    "\n",
    "accuracy = (df_model_eval[\"Class Name\"] == df_model_eval[\"Prediction\"]).sum() / len(df_model_eval)\n",
    "print(f\"Accuracy: {accuracy:.2%}\")"
   ]
  },
  {
   "cell_type": "markdown",
   "id": "47cb2c6c",
   "metadata": {
    "papermill": {
     "duration": 0.010918,
     "end_time": "2024-11-21T07:11:40.355464",
     "exception": false,
     "start_time": "2024-11-21T07:11:40.344546",
     "status": "completed"
    },
    "tags": []
   },
   "source": [
    "## Compare token usage\n",
    "\n",
    "AI Studio and the Gemini API provide model tuning at no cost, however normal limits and charges apply for *use* of a tuned model.\n",
    "\n",
    "The size of the input prompt and other generation config like system instructions, as well as the number of generated output tokens, all contribute to the overall cost of a request."
   ]
  },
  {
   "cell_type": "code",
   "execution_count": 21,
   "id": "359afd3d",
   "metadata": {
    "execution": {
     "iopub.execute_input": "2024-11-21T07:11:42.763384Z",
     "iopub.status.busy": "2024-11-21T07:11:42.763170Z",
     "iopub.status.idle": "2024-11-21T07:11:43.121046Z",
     "shell.execute_reply": "2024-11-21T07:11:43.120076Z"
    },
    "papermill": {
     "duration": 2.755395,
     "end_time": "2024-11-21T07:11:43.122861",
     "exception": false,
     "start_time": "2024-11-21T07:11:40.367466",
     "status": "completed"
    },
    "tags": []
   },
   "outputs": [
    {
     "name": "stdout",
     "output_type": "stream",
     "text": [
      "System instructed baseline model: 171 (input)\n",
      "Tuned model: 135 (input)\n",
      "Token savings: 26.67%\n"
     ]
    }
   ],
   "source": [
    "# Calculate the *input* cost of the baseline model with system instructions.\n",
    "sysint_tokens = instructed_model.count_tokens(sample_row).total_tokens\n",
    "print(f'System instructed baseline model: {sysint_tokens} (input)')\n",
    "\n",
    "# Calculate the input cost of the tuned model.\n",
    "tuned_tokens = your_model.count_tokens(sample_row).total_tokens\n",
    "print(f'Tuned model: {tuned_tokens} (input)')\n",
    "\n",
    "savings = (sysint_tokens - tuned_tokens) / tuned_tokens\n",
    "print(f'Token savings: {savings:.2%}')  # Note that this is only n=1."
   ]
  },
  {
   "cell_type": "markdown",
   "id": "ee9fefd7",
   "metadata": {
    "papermill": {
     "duration": 0.008291,
     "end_time": "2024-11-21T07:11:43.140204",
     "exception": false,
     "start_time": "2024-11-21T07:11:43.131913",
     "status": "completed"
    },
    "tags": []
   },
   "source": [
    "The earlier verbose model also produced more output tokens than needed for this task."
   ]
  },
  {
   "cell_type": "code",
   "execution_count": 22,
   "id": "df954925",
   "metadata": {
    "execution": {
     "iopub.execute_input": "2024-11-21T07:11:43.159043Z",
     "iopub.status.busy": "2024-11-21T07:11:43.158683Z",
     "iopub.status.idle": "2024-11-21T07:11:44.005189Z",
     "shell.execute_reply": "2024-11-21T07:11:44.004226Z"
    },
    "papermill": {
     "duration": 0.858244,
     "end_time": "2024-11-21T07:11:44.007011",
     "exception": false,
     "start_time": "2024-11-21T07:11:43.148767",
     "status": "completed"
    },
    "tags": []
   },
   "outputs": [
    {
     "name": "stdout",
     "output_type": "stream",
     "text": [
      "Baseline (verbose) output tokens: 153\n",
      "Tuned output tokens: 3\n"
     ]
    }
   ],
   "source": [
    "baseline_token_output = baseline_response.usage_metadata.candidates_token_count\n",
    "print('Baseline (verbose) output tokens:', baseline_token_output)\n",
    "\n",
    "tuned_model_output = your_model.generate_content(sample_row)\n",
    "tuned_tokens_output = tuned_model_output.usage_metadata.candidates_token_count\n",
    "print('Tuned output tokens:', tuned_tokens_output)"
   ]
  },
  {
   "cell_type": "markdown",
   "id": "99757216",
   "metadata": {
    "id": "6c1204a5d0ab",
    "papermill": {
     "duration": 0.008601,
     "end_time": "2024-11-21T07:11:44.024531",
     "exception": false,
     "start_time": "2024-11-21T07:11:44.015930",
     "status": "completed"
    },
    "tags": []
   },
   "source": [
    "## Next steps\n",
    "\n",
    "Now that you have tuned a classification model, try some other tasks, like tuning a model to respond with a specific tone or style using hand-written examples (or even generated examples!). Kaggle hosts [a number of datasets](https://www.kaggle.com/datasets) you can try out.\n",
    "\n",
    "Learn about [when supervised fine-tuning is most effective](https://cloud.google.com/blog/products/ai-machine-learning/supervised-fine-tuning-for-gemini-llm).\n",
    "\n",
    "And check out the [fine-tuning tutorial](https://ai.google.dev/gemini-api/docs/model-tuning/tutorial?hl=en&lang=python) for another example that shows a tuned model extending beyond the training data to new, unseen inputs."
   ]
  }
 ],
 "metadata": {
  "colab": {
   "name": "day-4-fine-tuning-a-custom-model.ipynb",
   "toc_visible": true
  },
  "kaggle": {
   "accelerator": "none",
   "dataSources": [],
   "dockerImageVersionId": 30786,
   "isGpuEnabled": false,
   "isInternetEnabled": true,
   "language": "python",
   "sourceType": "notebook"
  },
  "kernelspec": {
   "display_name": "Python 3",
   "language": "python",
   "name": "python3"
  },
  "language_info": {
   "codemirror_mode": {
    "name": "ipython",
    "version": 3
   },
   "file_extension": ".py",
   "mimetype": "text/x-python",
   "name": "python",
   "nbconvert_exporter": "python",
   "pygments_lexer": "ipython3",
   "version": "3.10.14"
  },
  "papermill": {
   "default_parameters": {},
   "duration": 547.63707,
   "end_time": "2024-11-21T07:11:44.752518",
   "environment_variables": {},
   "exception": null,
   "input_path": "__notebook__.ipynb",
   "output_path": "__notebook__.ipynb",
   "parameters": {},
   "start_time": "2024-11-21T07:02:37.115448",
   "version": "2.6.0"
  },
  "widgets": {
   "application/vnd.jupyter.widget-state+json": {
    "state": {
     "2ce1ec4880134a019f1868c144afe4a4": {
      "model_module": "@jupyter-widgets/base",
      "model_module_version": "1.2.0",
      "model_name": "LayoutModel",
      "state": {
       "_model_module": "@jupyter-widgets/base",
       "_model_module_version": "1.2.0",
       "_model_name": "LayoutModel",
       "_view_count": null,
       "_view_module": "@jupyter-widgets/base",
       "_view_module_version": "1.2.0",
       "_view_name": "LayoutView",
       "align_content": null,
       "align_items": null,
       "align_self": null,
       "border": null,
       "bottom": null,
       "display": null,
       "flex": null,
       "flex_flow": null,
       "grid_area": null,
       "grid_auto_columns": null,
       "grid_auto_flow": null,
       "grid_auto_rows": null,
       "grid_column": null,
       "grid_gap": null,
       "grid_row": null,
       "grid_template_areas": null,
       "grid_template_columns": null,
       "grid_template_rows": null,
       "height": null,
       "justify_content": null,
       "justify_items": null,
       "left": null,
       "margin": null,
       "max_height": null,
       "max_width": null,
       "min_height": null,
       "min_width": null,
       "object_fit": null,
       "object_position": null,
       "order": null,
       "overflow": null,
       "overflow_x": null,
       "overflow_y": null,
       "padding": null,
       "right": null,
       "top": null,
       "visibility": null,
       "width": null
      }
     },
     "4b529d00a31f425aabc609edfdd50b47": {
      "model_module": "@jupyter-widgets/output",
      "model_module_version": "1.0.0",
      "model_name": "OutputModel",
      "state": {
       "_dom_classes": [],
       "_model_module": "@jupyter-widgets/output",
       "_model_module_version": "1.0.0",
       "_model_name": "OutputModel",
       "_view_count": null,
       "_view_module": "@jupyter-widgets/output",
       "_view_module_version": "1.0.0",
       "_view_name": "OutputView",
       "layout": "IPY_MODEL_2ce1ec4880134a019f1868c144afe4a4",
       "msg_id": "",
       "outputs": [
        {
         "data": {
          "text/html": "<pre style=\"white-space:pre;overflow-x:auto;line-height:normal;font-family:Menlo,'DejaVu Sans Mono',consolas,'Courier New',monospace\"><span style=\"color: #800080; text-decoration-color: #800080\"> 100%</span> <span style=\"color: #729c1f; text-decoration-color: #729c1f\">━━━━━━━━━━━━━━━━━━━━━━━━━━━━━━━━━━━━━━━━━━━━━━━━━━━━━━━━━━━━━━━━━━━━━━━</span> <span style=\"color: #008000; text-decoration-color: #008000\">32/32 </span> [ <span style=\"color: #808000; text-decoration-color: #808000\">0:01:44</span> &lt; <span style=\"color: #008080; text-decoration-color: #008080\">0:00:00</span> , <span style=\"color: #800000; text-decoration-color: #800000\">1 it/s</span> ]\n</pre>\n",
          "text/plain": "\u001b[35m 100%\u001b[0m \u001b[38;2;114;156;31m━━━━━━━━━━━━━━━━━━━━━━━━━━━━━━━━━━━━━━━━━━━━━━━━━━━━━━━━━━━━━━━━━━━━━━━\u001b[0m \u001b[32m32/32 \u001b[0m [ \u001b[33m0:01:44\u001b[0m < \u001b[36m0:00:00\u001b[0m , \u001b[31m1 it/s\u001b[0m ]\n"
         },
         "metadata": {},
         "output_type": "display_data"
        }
       ]
      }
     },
     "4df01875f2dc4061abd61eec850eeb04": {
      "model_module": "@jupyter-widgets/output",
      "model_module_version": "1.0.0",
      "model_name": "OutputModel",
      "state": {
       "_dom_classes": [],
       "_model_module": "@jupyter-widgets/output",
       "_model_module_version": "1.0.0",
       "_model_name": "OutputModel",
       "_view_count": null,
       "_view_module": "@jupyter-widgets/output",
       "_view_module_version": "1.0.0",
       "_view_name": "OutputView",
       "layout": "IPY_MODEL_c24dab293bb04bc2895cb84b44606072",
       "msg_id": "",
       "outputs": [
        {
         "data": {
          "text/html": "<pre style=\"white-space:pre;overflow-x:auto;line-height:normal;font-family:Menlo,'DejaVu Sans Mono',consolas,'Courier New',monospace\"><span style=\"color: #800080; text-decoration-color: #800080\"> 100%</span> <span style=\"color: #729c1f; text-decoration-color: #729c1f\">━━━━━━━━━━━━━━━━━━━━━━━━━━━━━━━━━━━━━━━━━━━━━━━━━━━━━━━━━━━━━━━━━━━━━━━</span> <span style=\"color: #008000; text-decoration-color: #008000\">16/16 </span> [ <span style=\"color: #808000; text-decoration-color: #808000\">0:00:19</span> &lt; <span style=\"color: #008080; text-decoration-color: #008080\">0:00:00</span> , <span style=\"color: #800000; text-decoration-color: #800000\">1 it/s</span> ]\n</pre>\n",
          "text/plain": "\u001b[35m 100%\u001b[0m \u001b[38;2;114;156;31m━━━━━━━━━━━━━━━━━━━━━━━━━━━━━━━━━━━━━━━━━━━━━━━━━━━━━━━━━━━━━━━━━━━━━━━\u001b[0m \u001b[32m16/16 \u001b[0m [ \u001b[33m0:00:19\u001b[0m < \u001b[36m0:00:00\u001b[0m , \u001b[31m1 it/s\u001b[0m ]\n"
         },
         "metadata": {},
         "output_type": "display_data"
        }
       ]
      }
     },
     "c24dab293bb04bc2895cb84b44606072": {
      "model_module": "@jupyter-widgets/base",
      "model_module_version": "1.2.0",
      "model_name": "LayoutModel",
      "state": {
       "_model_module": "@jupyter-widgets/base",
       "_model_module_version": "1.2.0",
       "_model_name": "LayoutModel",
       "_view_count": null,
       "_view_module": "@jupyter-widgets/base",
       "_view_module_version": "1.2.0",
       "_view_name": "LayoutView",
       "align_content": null,
       "align_items": null,
       "align_self": null,
       "border": null,
       "bottom": null,
       "display": null,
       "flex": null,
       "flex_flow": null,
       "grid_area": null,
       "grid_auto_columns": null,
       "grid_auto_flow": null,
       "grid_auto_rows": null,
       "grid_column": null,
       "grid_gap": null,
       "grid_row": null,
       "grid_template_areas": null,
       "grid_template_columns": null,
       "grid_template_rows": null,
       "height": null,
       "justify_content": null,
       "justify_items": null,
       "left": null,
       "margin": null,
       "max_height": null,
       "max_width": null,
       "min_height": null,
       "min_width": null,
       "object_fit": null,
       "object_position": null,
       "order": null,
       "overflow": null,
       "overflow_x": null,
       "overflow_y": null,
       "padding": null,
       "right": null,
       "top": null,
       "visibility": null,
       "width": null
      }
     }
    },
    "version_major": 2,
    "version_minor": 0
   }
  }
 },
 "nbformat": 4,
 "nbformat_minor": 5
}
